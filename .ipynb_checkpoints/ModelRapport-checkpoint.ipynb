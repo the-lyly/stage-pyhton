{
 "cells": [
  {
   "cell_type": "code",
   "execution_count": 1,
   "id": "9a7f3fbd-71ee-4ebd-b821-849e552bd9e4",
   "metadata": {},
   "outputs": [],
   "source": [
    "from sklearn.model_selection import train_test_split\n",
    "from sklearn.preprocessing import StandardScaler\n",
    "from sklearn.ensemble import RandomForestClassifier  # Par exemple, un Random Forest\n",
    "from sklearn.metrics import classification_report\n",
    "from sklearn.metrics import confusion_matrix\n",
    "import seaborn as sns\n",
    "import pandas as pd\n",
    "import matplotlib.pyplot as plt\n"
   ]
  },
  {
   "cell_type": "code",
   "execution_count": 2,
   "id": "5a68e64a-74f1-4d51-815b-31e780d52d95",
   "metadata": {},
   "outputs": [],
   "source": [
    "pd.set_option('display.max_columns', None)  # Show all columns"
   ]
  },
  {
   "cell_type": "code",
   "execution_count": 3,
   "id": "dcc37187-9ada-4f62-b944-147fceb9882d",
   "metadata": {
    "scrolled": true
   },
   "outputs": [
    {
     "data": {
      "text/html": [
       "<div>\n",
       "<style scoped>\n",
       "    .dataframe tbody tr th:only-of-type {\n",
       "        vertical-align: middle;\n",
       "    }\n",
       "\n",
       "    .dataframe tbody tr th {\n",
       "        vertical-align: top;\n",
       "    }\n",
       "\n",
       "    .dataframe thead th {\n",
       "        text-align: right;\n",
       "    }\n",
       "</style>\n",
       "<table border=\"1\" class=\"dataframe\">\n",
       "  <thead>\n",
       "    <tr style=\"text-align: right;\">\n",
       "      <th></th>\n",
       "      <th>BP</th>\n",
       "      <th>Total TVA Janvier</th>\n",
       "      <th>Total TVA Février</th>\n",
       "      <th>Total TVA Mars</th>\n",
       "      <th>Total TVA Avril</th>\n",
       "      <th>Total TVA Mai</th>\n",
       "      <th>Total TVA Juin</th>\n",
       "      <th>Total TVA Juillet</th>\n",
       "      <th>Total TVA Août</th>\n",
       "      <th>Total TVA Septembre</th>\n",
       "      <th>Total TVA Octobre</th>\n",
       "      <th>Total TVA Novembre</th>\n",
       "      <th>Total TVA Décembre</th>\n",
       "      <th>Total TVA anuelle</th>\n",
       "    </tr>\n",
       "  </thead>\n",
       "  <tbody>\n",
       "    <tr>\n",
       "      <th>0</th>\n",
       "      <td>2000045735</td>\n",
       "      <td>5.673996e+10</td>\n",
       "      <td>5.673996e+10</td>\n",
       "      <td>5.673996e+10</td>\n",
       "      <td>5.686871e+10</td>\n",
       "      <td>5.686871e+10</td>\n",
       "      <td>5.686871e+10</td>\n",
       "      <td>5.686871e+10</td>\n",
       "      <td>5.686871e+10</td>\n",
       "      <td>5.686871e+10</td>\n",
       "      <td>5.686871e+10</td>\n",
       "      <td>5.686871e+10</td>\n",
       "      <td>5.686871e+10</td>\n",
       "      <td>6.820383e+11</td>\n",
       "    </tr>\n",
       "    <tr>\n",
       "      <th>1</th>\n",
       "      <td>2000045713</td>\n",
       "      <td>4.144110e+10</td>\n",
       "      <td>3.921014e+10</td>\n",
       "      <td>4.450774e+10</td>\n",
       "      <td>4.044965e+10</td>\n",
       "      <td>4.618311e+10</td>\n",
       "      <td>5.128326e+10</td>\n",
       "      <td>5.148410e+10</td>\n",
       "      <td>5.068299e+10</td>\n",
       "      <td>4.662371e+10</td>\n",
       "      <td>4.928438e+10</td>\n",
       "      <td>4.616254e+10</td>\n",
       "      <td>4.775904e+10</td>\n",
       "      <td>5.550718e+11</td>\n",
       "    </tr>\n",
       "    <tr>\n",
       "      <th>2</th>\n",
       "      <td>2000047084</td>\n",
       "      <td>5.665823e+10</td>\n",
       "      <td>2.574793e+10</td>\n",
       "      <td>2.574793e+10</td>\n",
       "      <td>2.574793e+10</td>\n",
       "      <td>2.574793e+10</td>\n",
       "      <td>2.574793e+10</td>\n",
       "      <td>2.574793e+10</td>\n",
       "      <td>2.574793e+10</td>\n",
       "      <td>2.574793e+10</td>\n",
       "      <td>2.574793e+10</td>\n",
       "      <td>2.574793e+10</td>\n",
       "      <td>2.574793e+10</td>\n",
       "      <td>3.398854e+11</td>\n",
       "    </tr>\n",
       "    <tr>\n",
       "      <th>3</th>\n",
       "      <td>2000045463</td>\n",
       "      <td>2.405172e+10</td>\n",
       "      <td>2.290525e+10</td>\n",
       "      <td>2.471443e+10</td>\n",
       "      <td>2.287708e+10</td>\n",
       "      <td>2.684493e+10</td>\n",
       "      <td>2.200446e+10</td>\n",
       "      <td>2.181726e+10</td>\n",
       "      <td>2.430774e+10</td>\n",
       "      <td>2.396239e+10</td>\n",
       "      <td>2.027387e+10</td>\n",
       "      <td>1.697435e+10</td>\n",
       "      <td>3.190136e+10</td>\n",
       "      <td>2.826349e+11</td>\n",
       "    </tr>\n",
       "    <tr>\n",
       "      <th>4</th>\n",
       "      <td>2000045085</td>\n",
       "      <td>2.861511e+10</td>\n",
       "      <td>1.954036e+10</td>\n",
       "      <td>3.077501e+10</td>\n",
       "      <td>1.753370e+10</td>\n",
       "      <td>2.249412e+10</td>\n",
       "      <td>1.588623e+10</td>\n",
       "      <td>1.323405e+10</td>\n",
       "      <td>2.219429e+10</td>\n",
       "      <td>2.462665e+10</td>\n",
       "      <td>2.558820e+10</td>\n",
       "      <td>2.078586e+10</td>\n",
       "      <td>2.424613e+10</td>\n",
       "      <td>2.655197e+11</td>\n",
       "    </tr>\n",
       "    <tr>\n",
       "      <th>...</th>\n",
       "      <td>...</td>\n",
       "      <td>...</td>\n",
       "      <td>...</td>\n",
       "      <td>...</td>\n",
       "      <td>...</td>\n",
       "      <td>...</td>\n",
       "      <td>...</td>\n",
       "      <td>...</td>\n",
       "      <td>...</td>\n",
       "      <td>...</td>\n",
       "      <td>...</td>\n",
       "      <td>...</td>\n",
       "      <td>...</td>\n",
       "      <td>...</td>\n",
       "    </tr>\n",
       "    <tr>\n",
       "      <th>1393</th>\n",
       "      <td>2000132466</td>\n",
       "      <td>0.000000e+00</td>\n",
       "      <td>0.000000e+00</td>\n",
       "      <td>0.000000e+00</td>\n",
       "      <td>0.000000e+00</td>\n",
       "      <td>0.000000e+00</td>\n",
       "      <td>0.000000e+00</td>\n",
       "      <td>0.000000e+00</td>\n",
       "      <td>0.000000e+00</td>\n",
       "      <td>0.000000e+00</td>\n",
       "      <td>0.000000e+00</td>\n",
       "      <td>0.000000e+00</td>\n",
       "      <td>0.000000e+00</td>\n",
       "      <td>0.000000e+00</td>\n",
       "    </tr>\n",
       "    <tr>\n",
       "      <th>1394</th>\n",
       "      <td>2000133175</td>\n",
       "      <td>0.000000e+00</td>\n",
       "      <td>0.000000e+00</td>\n",
       "      <td>0.000000e+00</td>\n",
       "      <td>0.000000e+00</td>\n",
       "      <td>0.000000e+00</td>\n",
       "      <td>0.000000e+00</td>\n",
       "      <td>0.000000e+00</td>\n",
       "      <td>0.000000e+00</td>\n",
       "      <td>0.000000e+00</td>\n",
       "      <td>0.000000e+00</td>\n",
       "      <td>0.000000e+00</td>\n",
       "      <td>0.000000e+00</td>\n",
       "      <td>0.000000e+00</td>\n",
       "    </tr>\n",
       "    <tr>\n",
       "      <th>1395</th>\n",
       "      <td>2000133650</td>\n",
       "      <td>0.000000e+00</td>\n",
       "      <td>0.000000e+00</td>\n",
       "      <td>0.000000e+00</td>\n",
       "      <td>0.000000e+00</td>\n",
       "      <td>0.000000e+00</td>\n",
       "      <td>0.000000e+00</td>\n",
       "      <td>0.000000e+00</td>\n",
       "      <td>0.000000e+00</td>\n",
       "      <td>0.000000e+00</td>\n",
       "      <td>0.000000e+00</td>\n",
       "      <td>0.000000e+00</td>\n",
       "      <td>0.000000e+00</td>\n",
       "      <td>0.000000e+00</td>\n",
       "    </tr>\n",
       "    <tr>\n",
       "      <th>1396</th>\n",
       "      <td>2000133891</td>\n",
       "      <td>0.000000e+00</td>\n",
       "      <td>0.000000e+00</td>\n",
       "      <td>0.000000e+00</td>\n",
       "      <td>0.000000e+00</td>\n",
       "      <td>0.000000e+00</td>\n",
       "      <td>0.000000e+00</td>\n",
       "      <td>0.000000e+00</td>\n",
       "      <td>0.000000e+00</td>\n",
       "      <td>0.000000e+00</td>\n",
       "      <td>0.000000e+00</td>\n",
       "      <td>0.000000e+00</td>\n",
       "      <td>0.000000e+00</td>\n",
       "      <td>0.000000e+00</td>\n",
       "    </tr>\n",
       "    <tr>\n",
       "      <th>1397</th>\n",
       "      <td>2000138542</td>\n",
       "      <td>0.000000e+00</td>\n",
       "      <td>0.000000e+00</td>\n",
       "      <td>0.000000e+00</td>\n",
       "      <td>0.000000e+00</td>\n",
       "      <td>0.000000e+00</td>\n",
       "      <td>0.000000e+00</td>\n",
       "      <td>0.000000e+00</td>\n",
       "      <td>0.000000e+00</td>\n",
       "      <td>0.000000e+00</td>\n",
       "      <td>0.000000e+00</td>\n",
       "      <td>0.000000e+00</td>\n",
       "      <td>0.000000e+00</td>\n",
       "      <td>0.000000e+00</td>\n",
       "    </tr>\n",
       "  </tbody>\n",
       "</table>\n",
       "<p>1398 rows × 14 columns</p>\n",
       "</div>"
      ],
      "text/plain": [
       "              BP  Total TVA Janvier  Total TVA Février  Total TVA Mars  \\\n",
       "0     2000045735       5.673996e+10       5.673996e+10    5.673996e+10   \n",
       "1     2000045713       4.144110e+10       3.921014e+10    4.450774e+10   \n",
       "2     2000047084       5.665823e+10       2.574793e+10    2.574793e+10   \n",
       "3     2000045463       2.405172e+10       2.290525e+10    2.471443e+10   \n",
       "4     2000045085       2.861511e+10       1.954036e+10    3.077501e+10   \n",
       "...          ...                ...                ...             ...   \n",
       "1393  2000132466       0.000000e+00       0.000000e+00    0.000000e+00   \n",
       "1394  2000133175       0.000000e+00       0.000000e+00    0.000000e+00   \n",
       "1395  2000133650       0.000000e+00       0.000000e+00    0.000000e+00   \n",
       "1396  2000133891       0.000000e+00       0.000000e+00    0.000000e+00   \n",
       "1397  2000138542       0.000000e+00       0.000000e+00    0.000000e+00   \n",
       "\n",
       "      Total TVA Avril  Total TVA Mai  Total TVA Juin  Total TVA Juillet  \\\n",
       "0        5.686871e+10   5.686871e+10    5.686871e+10       5.686871e+10   \n",
       "1        4.044965e+10   4.618311e+10    5.128326e+10       5.148410e+10   \n",
       "2        2.574793e+10   2.574793e+10    2.574793e+10       2.574793e+10   \n",
       "3        2.287708e+10   2.684493e+10    2.200446e+10       2.181726e+10   \n",
       "4        1.753370e+10   2.249412e+10    1.588623e+10       1.323405e+10   \n",
       "...               ...            ...             ...                ...   \n",
       "1393     0.000000e+00   0.000000e+00    0.000000e+00       0.000000e+00   \n",
       "1394     0.000000e+00   0.000000e+00    0.000000e+00       0.000000e+00   \n",
       "1395     0.000000e+00   0.000000e+00    0.000000e+00       0.000000e+00   \n",
       "1396     0.000000e+00   0.000000e+00    0.000000e+00       0.000000e+00   \n",
       "1397     0.000000e+00   0.000000e+00    0.000000e+00       0.000000e+00   \n",
       "\n",
       "      Total TVA Août  Total TVA Septembre  Total TVA Octobre  \\\n",
       "0       5.686871e+10         5.686871e+10       5.686871e+10   \n",
       "1       5.068299e+10         4.662371e+10       4.928438e+10   \n",
       "2       2.574793e+10         2.574793e+10       2.574793e+10   \n",
       "3       2.430774e+10         2.396239e+10       2.027387e+10   \n",
       "4       2.219429e+10         2.462665e+10       2.558820e+10   \n",
       "...              ...                  ...                ...   \n",
       "1393    0.000000e+00         0.000000e+00       0.000000e+00   \n",
       "1394    0.000000e+00         0.000000e+00       0.000000e+00   \n",
       "1395    0.000000e+00         0.000000e+00       0.000000e+00   \n",
       "1396    0.000000e+00         0.000000e+00       0.000000e+00   \n",
       "1397    0.000000e+00         0.000000e+00       0.000000e+00   \n",
       "\n",
       "      Total TVA Novembre  Total TVA Décembre  Total TVA anuelle  \n",
       "0           5.686871e+10        5.686871e+10       6.820383e+11  \n",
       "1           4.616254e+10        4.775904e+10       5.550718e+11  \n",
       "2           2.574793e+10        2.574793e+10       3.398854e+11  \n",
       "3           1.697435e+10        3.190136e+10       2.826349e+11  \n",
       "4           2.078586e+10        2.424613e+10       2.655197e+11  \n",
       "...                  ...                 ...                ...  \n",
       "1393        0.000000e+00        0.000000e+00       0.000000e+00  \n",
       "1394        0.000000e+00        0.000000e+00       0.000000e+00  \n",
       "1395        0.000000e+00        0.000000e+00       0.000000e+00  \n",
       "1396        0.000000e+00        0.000000e+00       0.000000e+00  \n",
       "1397        0.000000e+00        0.000000e+00       0.000000e+00  \n",
       "\n",
       "[1398 rows x 14 columns]"
      ]
     },
     "execution_count": 3,
     "metadata": {},
     "output_type": "execute_result"
    }
   ],
   "source": [
    "TVA = pd.read_excel('VraiTVA.xlsx')\n",
    "TVA"
   ]
  },
  {
   "cell_type": "code",
   "execution_count": 4,
   "id": "80b4eeb6-454b-450f-8edb-b153659c11a2",
   "metadata": {
    "scrolled": true
   },
   "outputs": [
    {
     "data": {
      "text/html": [
       "<div>\n",
       "<style scoped>\n",
       "    .dataframe tbody tr th:only-of-type {\n",
       "        vertical-align: middle;\n",
       "    }\n",
       "\n",
       "    .dataframe tbody tr th {\n",
       "        vertical-align: top;\n",
       "    }\n",
       "\n",
       "    .dataframe thead th {\n",
       "        text-align: right;\n",
       "    }\n",
       "</style>\n",
       "<table border=\"1\" class=\"dataframe\">\n",
       "  <thead>\n",
       "    <tr style=\"text-align: right;\">\n",
       "      <th></th>\n",
       "      <th>BP</th>\n",
       "      <th>Wilaya</th>\n",
       "      <th>Code CNRC</th>\n",
       "      <th>Code ONS</th>\n",
       "      <th>Chiffre d’affaire (C.A)</th>\n",
       "    </tr>\n",
       "  </thead>\n",
       "  <tbody>\n",
       "    <tr>\n",
       "      <th>0</th>\n",
       "      <td>2000000147</td>\n",
       "      <td>DIW Alger est</td>\n",
       "      <td>607047</td>\n",
       "      <td>/</td>\n",
       "      <td>0</td>\n",
       "    </tr>\n",
       "    <tr>\n",
       "      <th>1</th>\n",
       "      <td>2000000200</td>\n",
       "      <td>DIW Alger est</td>\n",
       "      <td>608001</td>\n",
       "      <td>/</td>\n",
       "      <td>93115698</td>\n",
       "    </tr>\n",
       "    <tr>\n",
       "      <th>2</th>\n",
       "      <td>2000004794</td>\n",
       "      <td>DIW Sétif</td>\n",
       "      <td>107101</td>\n",
       "      <td>1061</td>\n",
       "      <td>9939245586</td>\n",
       "    </tr>\n",
       "    <tr>\n",
       "      <th>3</th>\n",
       "      <td>2000005295</td>\n",
       "      <td>DIW Mostaganem</td>\n",
       "      <td>101104</td>\n",
       "      <td>/</td>\n",
       "      <td>1667080491</td>\n",
       "    </tr>\n",
       "    <tr>\n",
       "      <th>4</th>\n",
       "      <td>2000005535</td>\n",
       "      <td>DIW Mostaganem</td>\n",
       "      <td>102102</td>\n",
       "      <td>/</td>\n",
       "      <td>440288270</td>\n",
       "    </tr>\n",
       "    <tr>\n",
       "      <th>...</th>\n",
       "      <td>...</td>\n",
       "      <td>...</td>\n",
       "      <td>...</td>\n",
       "      <td>...</td>\n",
       "      <td>...</td>\n",
       "    </tr>\n",
       "    <tr>\n",
       "      <th>1380</th>\n",
       "      <td>2000133650</td>\n",
       "      <td>DIW Alger ouest</td>\n",
       "      <td>/</td>\n",
       "      <td>/</td>\n",
       "      <td>0</td>\n",
       "    </tr>\n",
       "    <tr>\n",
       "      <th>1381</th>\n",
       "      <td>2000133867</td>\n",
       "      <td>DIW Sétif</td>\n",
       "      <td>104111</td>\n",
       "      <td>/</td>\n",
       "      <td>82699656</td>\n",
       "    </tr>\n",
       "    <tr>\n",
       "      <th>1382</th>\n",
       "      <td>2000133891</td>\n",
       "      <td>DIW Sétif</td>\n",
       "      <td>109201</td>\n",
       "      <td>/</td>\n",
       "      <td>0</td>\n",
       "    </tr>\n",
       "    <tr>\n",
       "      <th>1383</th>\n",
       "      <td>2000138542</td>\n",
       "      <td>Non affecté</td>\n",
       "      <td>/</td>\n",
       "      <td>/</td>\n",
       "      <td>33908156303</td>\n",
       "    </tr>\n",
       "    <tr>\n",
       "      <th>1384</th>\n",
       "      <td>2000139090</td>\n",
       "      <td>DIW Annaba</td>\n",
       "      <td>/</td>\n",
       "      <td>/</td>\n",
       "      <td>114745645</td>\n",
       "    </tr>\n",
       "  </tbody>\n",
       "</table>\n",
       "<p>1385 rows × 5 columns</p>\n",
       "</div>"
      ],
      "text/plain": [
       "              BP           Wilaya Code CNRC Code ONS  Chiffre d’affaire (C.A)\n",
       "0     2000000147    DIW Alger est    607047        /                        0\n",
       "1     2000000200    DIW Alger est    608001        /                 93115698\n",
       "2     2000004794        DIW Sétif    107101     1061               9939245586\n",
       "3     2000005295   DIW Mostaganem    101104        /               1667080491\n",
       "4     2000005535   DIW Mostaganem    102102        /                440288270\n",
       "...          ...              ...       ...      ...                      ...\n",
       "1380  2000133650  DIW Alger ouest         /        /                        0\n",
       "1381  2000133867        DIW Sétif    104111        /                 82699656\n",
       "1382  2000133891        DIW Sétif    109201        /                        0\n",
       "1383  2000138542      Non affecté         /        /              33908156303\n",
       "1384  2000139090       DIW Annaba         /        /                114745645\n",
       "\n",
       "[1385 rows x 5 columns]"
      ]
     },
     "execution_count": 4,
     "metadata": {},
     "output_type": "execute_result"
    }
   ],
   "source": [
    "ERA = pd.read_excel('VraiERA.xlsx')\n",
    "ERA"
   ]
  },
  {
   "cell_type": "code",
   "execution_count": 5,
   "id": "3aeb02ab-58de-48dc-ab15-cc95a96eba82",
   "metadata": {
    "scrolled": true
   },
   "outputs": [
    {
     "data": {
      "text/html": [
       "<div>\n",
       "<style scoped>\n",
       "    .dataframe tbody tr th:only-of-type {\n",
       "        vertical-align: middle;\n",
       "    }\n",
       "\n",
       "    .dataframe tbody tr th {\n",
       "        vertical-align: top;\n",
       "    }\n",
       "\n",
       "    .dataframe thead th {\n",
       "        text-align: right;\n",
       "    }\n",
       "</style>\n",
       "<table border=\"1\" class=\"dataframe\">\n",
       "  <thead>\n",
       "    <tr style=\"text-align: right;\">\n",
       "      <th></th>\n",
       "      <th>BP</th>\n",
       "      <th>Wilaya</th>\n",
       "      <th>Code CNRC</th>\n",
       "      <th>Code ONS</th>\n",
       "      <th>Chiffre d’affaire (C.A)</th>\n",
       "      <th>Total TVA Janvier</th>\n",
       "      <th>Total TVA Février</th>\n",
       "      <th>Total TVA Mars</th>\n",
       "      <th>Total TVA Avril</th>\n",
       "      <th>Total TVA Mai</th>\n",
       "      <th>Total TVA Juin</th>\n",
       "      <th>Total TVA Juillet</th>\n",
       "      <th>Total TVA Août</th>\n",
       "      <th>Total TVA Septembre</th>\n",
       "      <th>Total TVA Octobre</th>\n",
       "      <th>Total TVA Novembre</th>\n",
       "      <th>Total TVA Décembre</th>\n",
       "      <th>Total TVA anuelle</th>\n",
       "    </tr>\n",
       "  </thead>\n",
       "  <tbody>\n",
       "    <tr>\n",
       "      <th>0</th>\n",
       "      <td>2000000147</td>\n",
       "      <td>DIW Alger est</td>\n",
       "      <td>607047</td>\n",
       "      <td>/</td>\n",
       "      <td>0</td>\n",
       "      <td>4.381490e+09</td>\n",
       "      <td>4.710011e+09</td>\n",
       "      <td>5.358351e+09</td>\n",
       "      <td>4.811742e+09</td>\n",
       "      <td>4.835182e+09</td>\n",
       "      <td>4.467203e+09</td>\n",
       "      <td>3.692317e+09</td>\n",
       "      <td>3.713033e+09</td>\n",
       "      <td>5.274394e+09</td>\n",
       "      <td>6.056911e+09</td>\n",
       "      <td>4.706919e+09</td>\n",
       "      <td>5.852010e+09</td>\n",
       "      <td>5.785956e+10</td>\n",
       "    </tr>\n",
       "    <tr>\n",
       "      <th>1</th>\n",
       "      <td>2000000200</td>\n",
       "      <td>DIW Alger est</td>\n",
       "      <td>608001</td>\n",
       "      <td>/</td>\n",
       "      <td>93115698</td>\n",
       "      <td>6.441810e+05</td>\n",
       "      <td>1.478702e+06</td>\n",
       "      <td>2.304256e+06</td>\n",
       "      <td>1.226741e+06</td>\n",
       "      <td>2.147761e+07</td>\n",
       "      <td>3.343922e+07</td>\n",
       "      <td>9.184847e+06</td>\n",
       "      <td>4.261077e+06</td>\n",
       "      <td>3.033041e+06</td>\n",
       "      <td>4.966790e+06</td>\n",
       "      <td>5.425418e+06</td>\n",
       "      <td>5.673810e+06</td>\n",
       "      <td>9.311570e+07</td>\n",
       "    </tr>\n",
       "    <tr>\n",
       "      <th>2</th>\n",
       "      <td>2000007178</td>\n",
       "      <td>DIW Bordj Bou Arréridj</td>\n",
       "      <td>110202</td>\n",
       "      <td>/</td>\n",
       "      <td>155423274</td>\n",
       "      <td>4.872747e+06</td>\n",
       "      <td>4.275042e+06</td>\n",
       "      <td>3.918504e+06</td>\n",
       "      <td>6.082352e+06</td>\n",
       "      <td>7.774514e+06</td>\n",
       "      <td>2.706730e+07</td>\n",
       "      <td>2.240796e+07</td>\n",
       "      <td>8.738202e+06</td>\n",
       "      <td>5.113770e+06</td>\n",
       "      <td>5.666626e+06</td>\n",
       "      <td>2.643794e+07</td>\n",
       "      <td>3.306832e+07</td>\n",
       "      <td>1.554233e+08</td>\n",
       "    </tr>\n",
       "    <tr>\n",
       "      <th>3</th>\n",
       "      <td>2000009570</td>\n",
       "      <td>DIW Alger est</td>\n",
       "      <td>405105</td>\n",
       "      <td>/</td>\n",
       "      <td>5798168362</td>\n",
       "      <td>4.232086e+08</td>\n",
       "      <td>3.965581e+08</td>\n",
       "      <td>4.111293e+08</td>\n",
       "      <td>6.288660e+08</td>\n",
       "      <td>3.132802e+08</td>\n",
       "      <td>4.100639e+08</td>\n",
       "      <td>3.332674e+08</td>\n",
       "      <td>5.615210e+08</td>\n",
       "      <td>7.133190e+08</td>\n",
       "      <td>4.950724e+08</td>\n",
       "      <td>5.964098e+08</td>\n",
       "      <td>5.272515e+08</td>\n",
       "      <td>5.809947e+09</td>\n",
       "    </tr>\n",
       "    <tr>\n",
       "      <th>4</th>\n",
       "      <td>2000011509</td>\n",
       "      <td>DIW Alger est</td>\n",
       "      <td>409001</td>\n",
       "      <td>/</td>\n",
       "      <td>2062602782</td>\n",
       "      <td>1.607687e+08</td>\n",
       "      <td>2.937824e+08</td>\n",
       "      <td>3.321080e+08</td>\n",
       "      <td>1.234689e+08</td>\n",
       "      <td>1.051586e+08</td>\n",
       "      <td>2.330517e+08</td>\n",
       "      <td>1.305186e+08</td>\n",
       "      <td>1.720886e+08</td>\n",
       "      <td>1.598969e+08</td>\n",
       "      <td>1.437596e+08</td>\n",
       "      <td>7.488136e+07</td>\n",
       "      <td>1.328862e+08</td>\n",
       "      <td>2.062370e+09</td>\n",
       "    </tr>\n",
       "  </tbody>\n",
       "</table>\n",
       "</div>"
      ],
      "text/plain": [
       "           BP                  Wilaya Code CNRC Code ONS  \\\n",
       "0  2000000147           DIW Alger est    607047        /   \n",
       "1  2000000200           DIW Alger est    608001        /   \n",
       "2  2000007178  DIW Bordj Bou Arréridj    110202        /   \n",
       "3  2000009570           DIW Alger est    405105        /   \n",
       "4  2000011509           DIW Alger est    409001        /   \n",
       "\n",
       "   Chiffre d’affaire (C.A)  Total TVA Janvier  Total TVA Février  \\\n",
       "0                        0       4.381490e+09       4.710011e+09   \n",
       "1                 93115698       6.441810e+05       1.478702e+06   \n",
       "2                155423274       4.872747e+06       4.275042e+06   \n",
       "3               5798168362       4.232086e+08       3.965581e+08   \n",
       "4               2062602782       1.607687e+08       2.937824e+08   \n",
       "\n",
       "   Total TVA Mars  Total TVA Avril  Total TVA Mai  Total TVA Juin  \\\n",
       "0    5.358351e+09     4.811742e+09   4.835182e+09    4.467203e+09   \n",
       "1    2.304256e+06     1.226741e+06   2.147761e+07    3.343922e+07   \n",
       "2    3.918504e+06     6.082352e+06   7.774514e+06    2.706730e+07   \n",
       "3    4.111293e+08     6.288660e+08   3.132802e+08    4.100639e+08   \n",
       "4    3.321080e+08     1.234689e+08   1.051586e+08    2.330517e+08   \n",
       "\n",
       "   Total TVA Juillet  Total TVA Août  Total TVA Septembre  Total TVA Octobre  \\\n",
       "0       3.692317e+09    3.713033e+09         5.274394e+09       6.056911e+09   \n",
       "1       9.184847e+06    4.261077e+06         3.033041e+06       4.966790e+06   \n",
       "2       2.240796e+07    8.738202e+06         5.113770e+06       5.666626e+06   \n",
       "3       3.332674e+08    5.615210e+08         7.133190e+08       4.950724e+08   \n",
       "4       1.305186e+08    1.720886e+08         1.598969e+08       1.437596e+08   \n",
       "\n",
       "   Total TVA Novembre  Total TVA Décembre  Total TVA anuelle  \n",
       "0        4.706919e+09        5.852010e+09       5.785956e+10  \n",
       "1        5.425418e+06        5.673810e+06       9.311570e+07  \n",
       "2        2.643794e+07        3.306832e+07       1.554233e+08  \n",
       "3        5.964098e+08        5.272515e+08       5.809947e+09  \n",
       "4        7.488136e+07        1.328862e+08       2.062370e+09  "
      ]
     },
     "execution_count": 5,
     "metadata": {},
     "output_type": "execute_result"
    }
   ],
   "source": [
    "jointure = pd.merge(ERA, TVA, on='BP', how='inner')\n",
    "#jointure = jointure[['BP', 'Wilaya', 'Code CNRC', 'Code ONS', 'Chiffre d’affaire (C.A)', 'Total TVA anuelle']]  \n",
    "jointure.head()"
   ]
  },
  {
   "cell_type": "code",
   "execution_count": 6,
   "id": "0d14e914-9ad0-4ced-ae55-917b5adc5926",
   "metadata": {},
   "outputs": [],
   "source": [
    "jointure.rename(columns={'Chiffre d’affaire (C.A)': 'ChAff'}, inplace=True)"
   ]
  },
  {
   "cell_type": "code",
   "execution_count": 7,
   "id": "58092643-a529-4412-aec8-7208cbf90a1e",
   "metadata": {
    "scrolled": true
   },
   "outputs": [
    {
     "data": {
      "text/html": [
       "<div>\n",
       "<style scoped>\n",
       "    .dataframe tbody tr th:only-of-type {\n",
       "        vertical-align: middle;\n",
       "    }\n",
       "\n",
       "    .dataframe tbody tr th {\n",
       "        vertical-align: top;\n",
       "    }\n",
       "\n",
       "    .dataframe thead th {\n",
       "        text-align: right;\n",
       "    }\n",
       "</style>\n",
       "<table border=\"1\" class=\"dataframe\">\n",
       "  <thead>\n",
       "    <tr style=\"text-align: right;\">\n",
       "      <th></th>\n",
       "      <th>BP</th>\n",
       "      <th>Wilaya</th>\n",
       "      <th>Code CNRC</th>\n",
       "      <th>Code ONS</th>\n",
       "      <th>ChAff</th>\n",
       "      <th>Total TVA Janvier</th>\n",
       "      <th>Total TVA Février</th>\n",
       "      <th>Total TVA Mars</th>\n",
       "      <th>Total TVA Avril</th>\n",
       "      <th>Total TVA Mai</th>\n",
       "      <th>Total TVA Juin</th>\n",
       "      <th>Total TVA Juillet</th>\n",
       "      <th>Total TVA Août</th>\n",
       "      <th>Total TVA Septembre</th>\n",
       "      <th>Total TVA Octobre</th>\n",
       "      <th>Total TVA Novembre</th>\n",
       "      <th>Total TVA Décembre</th>\n",
       "      <th>Total TVA anuelle</th>\n",
       "    </tr>\n",
       "  </thead>\n",
       "  <tbody>\n",
       "    <tr>\n",
       "      <th>0</th>\n",
       "      <td>2000000147</td>\n",
       "      <td>DIW Alger est</td>\n",
       "      <td>607047</td>\n",
       "      <td>/</td>\n",
       "      <td>0</td>\n",
       "      <td>4.381490e+09</td>\n",
       "      <td>4.710011e+09</td>\n",
       "      <td>5.358351e+09</td>\n",
       "      <td>4.811742e+09</td>\n",
       "      <td>4.835182e+09</td>\n",
       "      <td>4.467203e+09</td>\n",
       "      <td>3.692317e+09</td>\n",
       "      <td>3.713033e+09</td>\n",
       "      <td>5.274394e+09</td>\n",
       "      <td>6.056911e+09</td>\n",
       "      <td>4.706919e+09</td>\n",
       "      <td>5.852010e+09</td>\n",
       "      <td>5.785956e+10</td>\n",
       "    </tr>\n",
       "    <tr>\n",
       "      <th>1</th>\n",
       "      <td>2000000200</td>\n",
       "      <td>DIW Alger est</td>\n",
       "      <td>608001</td>\n",
       "      <td>/</td>\n",
       "      <td>93115698</td>\n",
       "      <td>6.441810e+05</td>\n",
       "      <td>1.478702e+06</td>\n",
       "      <td>2.304256e+06</td>\n",
       "      <td>1.226741e+06</td>\n",
       "      <td>2.147761e+07</td>\n",
       "      <td>3.343922e+07</td>\n",
       "      <td>9.184847e+06</td>\n",
       "      <td>4.261077e+06</td>\n",
       "      <td>3.033041e+06</td>\n",
       "      <td>4.966790e+06</td>\n",
       "      <td>5.425418e+06</td>\n",
       "      <td>5.673810e+06</td>\n",
       "      <td>9.311570e+07</td>\n",
       "    </tr>\n",
       "    <tr>\n",
       "      <th>2</th>\n",
       "      <td>2000007178</td>\n",
       "      <td>DIW Bordj Bou Arréridj</td>\n",
       "      <td>110202</td>\n",
       "      <td>/</td>\n",
       "      <td>155423274</td>\n",
       "      <td>4.872747e+06</td>\n",
       "      <td>4.275042e+06</td>\n",
       "      <td>3.918504e+06</td>\n",
       "      <td>6.082352e+06</td>\n",
       "      <td>7.774514e+06</td>\n",
       "      <td>2.706730e+07</td>\n",
       "      <td>2.240796e+07</td>\n",
       "      <td>8.738202e+06</td>\n",
       "      <td>5.113770e+06</td>\n",
       "      <td>5.666626e+06</td>\n",
       "      <td>2.643794e+07</td>\n",
       "      <td>3.306832e+07</td>\n",
       "      <td>1.554233e+08</td>\n",
       "    </tr>\n",
       "    <tr>\n",
       "      <th>3</th>\n",
       "      <td>2000009570</td>\n",
       "      <td>DIW Alger est</td>\n",
       "      <td>405105</td>\n",
       "      <td>/</td>\n",
       "      <td>5798168362</td>\n",
       "      <td>4.232086e+08</td>\n",
       "      <td>3.965581e+08</td>\n",
       "      <td>4.111293e+08</td>\n",
       "      <td>6.288660e+08</td>\n",
       "      <td>3.132802e+08</td>\n",
       "      <td>4.100639e+08</td>\n",
       "      <td>3.332674e+08</td>\n",
       "      <td>5.615210e+08</td>\n",
       "      <td>7.133190e+08</td>\n",
       "      <td>4.950724e+08</td>\n",
       "      <td>5.964098e+08</td>\n",
       "      <td>5.272515e+08</td>\n",
       "      <td>5.809947e+09</td>\n",
       "    </tr>\n",
       "    <tr>\n",
       "      <th>4</th>\n",
       "      <td>2000011509</td>\n",
       "      <td>DIW Alger est</td>\n",
       "      <td>409001</td>\n",
       "      <td>/</td>\n",
       "      <td>2062602782</td>\n",
       "      <td>1.607687e+08</td>\n",
       "      <td>2.937824e+08</td>\n",
       "      <td>3.321080e+08</td>\n",
       "      <td>1.234689e+08</td>\n",
       "      <td>1.051586e+08</td>\n",
       "      <td>2.330517e+08</td>\n",
       "      <td>1.305186e+08</td>\n",
       "      <td>1.720886e+08</td>\n",
       "      <td>1.598969e+08</td>\n",
       "      <td>1.437596e+08</td>\n",
       "      <td>7.488136e+07</td>\n",
       "      <td>1.328862e+08</td>\n",
       "      <td>2.062370e+09</td>\n",
       "    </tr>\n",
       "    <tr>\n",
       "      <th>...</th>\n",
       "      <td>...</td>\n",
       "      <td>...</td>\n",
       "      <td>...</td>\n",
       "      <td>...</td>\n",
       "      <td>...</td>\n",
       "      <td>...</td>\n",
       "      <td>...</td>\n",
       "      <td>...</td>\n",
       "      <td>...</td>\n",
       "      <td>...</td>\n",
       "      <td>...</td>\n",
       "      <td>...</td>\n",
       "      <td>...</td>\n",
       "      <td>...</td>\n",
       "      <td>...</td>\n",
       "      <td>...</td>\n",
       "      <td>...</td>\n",
       "      <td>...</td>\n",
       "    </tr>\n",
       "    <tr>\n",
       "      <th>1265</th>\n",
       "      <td>2000132134</td>\n",
       "      <td>DIW Sidi Bel Abbes</td>\n",
       "      <td>105101</td>\n",
       "      <td>/</td>\n",
       "      <td>0</td>\n",
       "      <td>0.000000e+00</td>\n",
       "      <td>0.000000e+00</td>\n",
       "      <td>0.000000e+00</td>\n",
       "      <td>0.000000e+00</td>\n",
       "      <td>0.000000e+00</td>\n",
       "      <td>0.000000e+00</td>\n",
       "      <td>0.000000e+00</td>\n",
       "      <td>0.000000e+00</td>\n",
       "      <td>0.000000e+00</td>\n",
       "      <td>0.000000e+00</td>\n",
       "      <td>0.000000e+00</td>\n",
       "      <td>0.000000e+00</td>\n",
       "      <td>0.000000e+00</td>\n",
       "    </tr>\n",
       "    <tr>\n",
       "      <th>1266</th>\n",
       "      <td>2000132466</td>\n",
       "      <td>DIW Alger ouest</td>\n",
       "      <td>102104</td>\n",
       "      <td>/</td>\n",
       "      <td>0</td>\n",
       "      <td>0.000000e+00</td>\n",
       "      <td>0.000000e+00</td>\n",
       "      <td>0.000000e+00</td>\n",
       "      <td>0.000000e+00</td>\n",
       "      <td>0.000000e+00</td>\n",
       "      <td>0.000000e+00</td>\n",
       "      <td>0.000000e+00</td>\n",
       "      <td>0.000000e+00</td>\n",
       "      <td>0.000000e+00</td>\n",
       "      <td>0.000000e+00</td>\n",
       "      <td>0.000000e+00</td>\n",
       "      <td>0.000000e+00</td>\n",
       "      <td>0.000000e+00</td>\n",
       "    </tr>\n",
       "    <tr>\n",
       "      <th>1267</th>\n",
       "      <td>2000133650</td>\n",
       "      <td>DIW Alger ouest</td>\n",
       "      <td>/</td>\n",
       "      <td>/</td>\n",
       "      <td>0</td>\n",
       "      <td>0.000000e+00</td>\n",
       "      <td>0.000000e+00</td>\n",
       "      <td>0.000000e+00</td>\n",
       "      <td>0.000000e+00</td>\n",
       "      <td>0.000000e+00</td>\n",
       "      <td>0.000000e+00</td>\n",
       "      <td>0.000000e+00</td>\n",
       "      <td>0.000000e+00</td>\n",
       "      <td>0.000000e+00</td>\n",
       "      <td>0.000000e+00</td>\n",
       "      <td>0.000000e+00</td>\n",
       "      <td>0.000000e+00</td>\n",
       "      <td>0.000000e+00</td>\n",
       "    </tr>\n",
       "    <tr>\n",
       "      <th>1268</th>\n",
       "      <td>2000133891</td>\n",
       "      <td>DIW Sétif</td>\n",
       "      <td>109201</td>\n",
       "      <td>/</td>\n",
       "      <td>0</td>\n",
       "      <td>0.000000e+00</td>\n",
       "      <td>0.000000e+00</td>\n",
       "      <td>0.000000e+00</td>\n",
       "      <td>0.000000e+00</td>\n",
       "      <td>0.000000e+00</td>\n",
       "      <td>0.000000e+00</td>\n",
       "      <td>0.000000e+00</td>\n",
       "      <td>0.000000e+00</td>\n",
       "      <td>0.000000e+00</td>\n",
       "      <td>0.000000e+00</td>\n",
       "      <td>0.000000e+00</td>\n",
       "      <td>0.000000e+00</td>\n",
       "      <td>0.000000e+00</td>\n",
       "    </tr>\n",
       "    <tr>\n",
       "      <th>1269</th>\n",
       "      <td>2000138542</td>\n",
       "      <td>Non affecté</td>\n",
       "      <td>/</td>\n",
       "      <td>/</td>\n",
       "      <td>33908156303</td>\n",
       "      <td>0.000000e+00</td>\n",
       "      <td>0.000000e+00</td>\n",
       "      <td>0.000000e+00</td>\n",
       "      <td>0.000000e+00</td>\n",
       "      <td>0.000000e+00</td>\n",
       "      <td>0.000000e+00</td>\n",
       "      <td>0.000000e+00</td>\n",
       "      <td>0.000000e+00</td>\n",
       "      <td>0.000000e+00</td>\n",
       "      <td>0.000000e+00</td>\n",
       "      <td>0.000000e+00</td>\n",
       "      <td>0.000000e+00</td>\n",
       "      <td>0.000000e+00</td>\n",
       "    </tr>\n",
       "  </tbody>\n",
       "</table>\n",
       "<p>1270 rows × 18 columns</p>\n",
       "</div>"
      ],
      "text/plain": [
       "              BP                  Wilaya Code CNRC Code ONS        ChAff  \\\n",
       "0     2000000147           DIW Alger est    607047        /            0   \n",
       "1     2000000200           DIW Alger est    608001        /     93115698   \n",
       "2     2000007178  DIW Bordj Bou Arréridj    110202        /    155423274   \n",
       "3     2000009570           DIW Alger est    405105        /   5798168362   \n",
       "4     2000011509           DIW Alger est    409001        /   2062602782   \n",
       "...          ...                     ...       ...      ...          ...   \n",
       "1265  2000132134      DIW Sidi Bel Abbes    105101        /            0   \n",
       "1266  2000132466         DIW Alger ouest    102104        /            0   \n",
       "1267  2000133650         DIW Alger ouest         /        /            0   \n",
       "1268  2000133891               DIW Sétif    109201        /            0   \n",
       "1269  2000138542             Non affecté         /        /  33908156303   \n",
       "\n",
       "      Total TVA Janvier  Total TVA Février  Total TVA Mars  Total TVA Avril  \\\n",
       "0          4.381490e+09       4.710011e+09    5.358351e+09     4.811742e+09   \n",
       "1          6.441810e+05       1.478702e+06    2.304256e+06     1.226741e+06   \n",
       "2          4.872747e+06       4.275042e+06    3.918504e+06     6.082352e+06   \n",
       "3          4.232086e+08       3.965581e+08    4.111293e+08     6.288660e+08   \n",
       "4          1.607687e+08       2.937824e+08    3.321080e+08     1.234689e+08   \n",
       "...                 ...                ...             ...              ...   \n",
       "1265       0.000000e+00       0.000000e+00    0.000000e+00     0.000000e+00   \n",
       "1266       0.000000e+00       0.000000e+00    0.000000e+00     0.000000e+00   \n",
       "1267       0.000000e+00       0.000000e+00    0.000000e+00     0.000000e+00   \n",
       "1268       0.000000e+00       0.000000e+00    0.000000e+00     0.000000e+00   \n",
       "1269       0.000000e+00       0.000000e+00    0.000000e+00     0.000000e+00   \n",
       "\n",
       "      Total TVA Mai  Total TVA Juin  Total TVA Juillet  Total TVA Août  \\\n",
       "0      4.835182e+09    4.467203e+09       3.692317e+09    3.713033e+09   \n",
       "1      2.147761e+07    3.343922e+07       9.184847e+06    4.261077e+06   \n",
       "2      7.774514e+06    2.706730e+07       2.240796e+07    8.738202e+06   \n",
       "3      3.132802e+08    4.100639e+08       3.332674e+08    5.615210e+08   \n",
       "4      1.051586e+08    2.330517e+08       1.305186e+08    1.720886e+08   \n",
       "...             ...             ...                ...             ...   \n",
       "1265   0.000000e+00    0.000000e+00       0.000000e+00    0.000000e+00   \n",
       "1266   0.000000e+00    0.000000e+00       0.000000e+00    0.000000e+00   \n",
       "1267   0.000000e+00    0.000000e+00       0.000000e+00    0.000000e+00   \n",
       "1268   0.000000e+00    0.000000e+00       0.000000e+00    0.000000e+00   \n",
       "1269   0.000000e+00    0.000000e+00       0.000000e+00    0.000000e+00   \n",
       "\n",
       "      Total TVA Septembre  Total TVA Octobre  Total TVA Novembre  \\\n",
       "0            5.274394e+09       6.056911e+09        4.706919e+09   \n",
       "1            3.033041e+06       4.966790e+06        5.425418e+06   \n",
       "2            5.113770e+06       5.666626e+06        2.643794e+07   \n",
       "3            7.133190e+08       4.950724e+08        5.964098e+08   \n",
       "4            1.598969e+08       1.437596e+08        7.488136e+07   \n",
       "...                   ...                ...                 ...   \n",
       "1265         0.000000e+00       0.000000e+00        0.000000e+00   \n",
       "1266         0.000000e+00       0.000000e+00        0.000000e+00   \n",
       "1267         0.000000e+00       0.000000e+00        0.000000e+00   \n",
       "1268         0.000000e+00       0.000000e+00        0.000000e+00   \n",
       "1269         0.000000e+00       0.000000e+00        0.000000e+00   \n",
       "\n",
       "      Total TVA Décembre  Total TVA anuelle  \n",
       "0           5.852010e+09       5.785956e+10  \n",
       "1           5.673810e+06       9.311570e+07  \n",
       "2           3.306832e+07       1.554233e+08  \n",
       "3           5.272515e+08       5.809947e+09  \n",
       "4           1.328862e+08       2.062370e+09  \n",
       "...                  ...                ...  \n",
       "1265        0.000000e+00       0.000000e+00  \n",
       "1266        0.000000e+00       0.000000e+00  \n",
       "1267        0.000000e+00       0.000000e+00  \n",
       "1268        0.000000e+00       0.000000e+00  \n",
       "1269        0.000000e+00       0.000000e+00  \n",
       "\n",
       "[1270 rows x 18 columns]"
      ]
     },
     "execution_count": 7,
     "metadata": {},
     "output_type": "execute_result"
    }
   ],
   "source": [
    "jointure['Total TVA anuelle'] = pd.to_numeric(jointure['Total TVA anuelle'], errors='raise')\n",
    "jointure['ChAff'] = pd.to_numeric(jointure['ChAff'], errors='raise')\n",
    "jointure"
   ]
  },
  {
   "cell_type": "markdown",
   "id": "faadccdd-3283-4952-8d1d-701144afec10",
   "metadata": {},
   "source": [
    "# créer la colonne feature et cible"
   ]
  },
  {
   "cell_type": "code",
   "execution_count": 8,
   "id": "82d20868-a42f-43eb-a20f-330db137ade3",
   "metadata": {},
   "outputs": [],
   "source": [
    "jointure['Différence C.A - TVA '] =  jointure['ChAff']  - jointure['Total TVA anuelle'] "
   ]
  },
  {
   "cell_type": "code",
   "execution_count": 9,
   "id": "01d12733-c34b-4c79-ba69-fbc06375e2c5",
   "metadata": {},
   "outputs": [],
   "source": [
    "jointure.rename(columns={'Différence TVA - C.A ': 'featureTCh'}, inplace=True)"
   ]
  },
  {
   "cell_type": "code",
   "execution_count": 10,
   "id": "6aa6f441-2d11-4ac0-affc-f1e4bb1031a0",
   "metadata": {
    "scrolled": true
   },
   "outputs": [
    {
     "name": "stdout",
     "output_type": "stream",
     "text": [
      "<class 'pandas.core.frame.DataFrame'>\n",
      "RangeIndex: 1270 entries, 0 to 1269\n",
      "Data columns (total 19 columns):\n",
      " #   Column                 Non-Null Count  Dtype  \n",
      "---  ------                 --------------  -----  \n",
      " 0   BP                     1270 non-null   int64  \n",
      " 1   Wilaya                 1270 non-null   object \n",
      " 2   Code CNRC              1270 non-null   object \n",
      " 3   Code ONS               1270 non-null   object \n",
      " 4   ChAff                  1270 non-null   int64  \n",
      " 5   Total TVA Janvier      1270 non-null   float64\n",
      " 6   Total TVA Février      1270 non-null   float64\n",
      " 7   Total TVA Mars         1270 non-null   float64\n",
      " 8   Total TVA Avril        1270 non-null   float64\n",
      " 9   Total TVA Mai          1270 non-null   float64\n",
      " 10  Total TVA Juin         1270 non-null   float64\n",
      " 11  Total TVA Juillet      1270 non-null   float64\n",
      " 12  Total TVA Août         1270 non-null   float64\n",
      " 13  Total TVA Septembre    1270 non-null   float64\n",
      " 14  Total TVA Octobre      1270 non-null   float64\n",
      " 15  Total TVA Novembre     1270 non-null   float64\n",
      " 16  Total TVA Décembre     1270 non-null   float64\n",
      " 17  Total TVA anuelle      1270 non-null   float64\n",
      " 18  Différence C.A - TVA   1270 non-null   float64\n",
      "dtypes: float64(14), int64(2), object(3)\n",
      "memory usage: 188.6+ KB\n"
     ]
    }
   ],
   "source": [
    "jointure.info()"
   ]
  },
  {
   "cell_type": "code",
   "execution_count": 11,
   "id": "37b8f234-2d2b-41ca-b8ba-be60cbcd34fe",
   "metadata": {},
   "outputs": [
    {
     "name": "stdout",
     "output_type": "stream",
     "text": [
      "Index(['BP', 'Wilaya', 'Code CNRC', 'Code ONS', 'ChAff', 'Total TVA Janvier',\n",
      "       'Total TVA Février', 'Total TVA Mars', 'Total TVA Avril',\n",
      "       'Total TVA Mai', 'Total TVA Juin', 'Total TVA Juillet',\n",
      "       'Total TVA Août', 'Total TVA Septembre', 'Total TVA Octobre',\n",
      "       'Total TVA Novembre', 'Total TVA Décembre', 'Total TVA anuelle',\n",
      "       'Différence C.A - TVA '],\n",
      "      dtype='object')\n"
     ]
    }
   ],
   "source": [
    "print(jointure.columns)"
   ]
  },
  {
   "cell_type": "code",
   "execution_count": 12,
   "id": "dd421ea8-19d1-4222-81c8-91a92045c468",
   "metadata": {},
   "outputs": [],
   "source": [
    "jointure = jointure.drop(columns = ['BP','Wilaya','Code CNRC', 'Code ONS', 'Total TVA Janvier',\n",
    "       'Total TVA Février', 'Total TVA Mars', 'Total TVA Avril',\n",
    "       'Total TVA Mai', 'Total TVA Juin', 'Total TVA Juillet',\n",
    "       'Total TVA Août', 'Total TVA Septembre', 'Total TVA Octobre',\n",
    "       'Total TVA Novembre', 'Total TVA Décembre',])"
   ]
  },
  {
   "cell_type": "code",
   "execution_count": 13,
   "id": "9c18f073-99c9-437b-8730-8e60c06e259d",
   "metadata": {},
   "outputs": [],
   "source": [
    "jointure['featureChT'] =   jointure['ChAff']  - jointure['Total TVA anuelle']"
   ]
  },
  {
   "cell_type": "code",
   "execution_count": 14,
   "id": "06bd86d7-9eaf-4486-8c1e-af020fc423df",
   "metadata": {},
   "outputs": [],
   "source": [
    "def detect_fraud(row):\n",
    "    if row['ChAff'] == 0:\n",
    "        return 1\n",
    "    elif abs(row['featureChT']) > 0.2 * row['ChAff']:\n",
    "        return 1\n",
    "    else:\n",
    "        return 0\n",
    "\n",
    "jointure['Fraude'] = jointure.apply(detect_fraud, axis=1)"
   ]
  },
  {
   "cell_type": "code",
   "execution_count": 15,
   "id": "0840de87-9d10-4a12-8c35-105956ba0d89",
   "metadata": {},
   "outputs": [
    {
     "name": "stdout",
     "output_type": "stream",
     "text": [
      "              precision    recall  f1-score   support\n",
      "\n",
      "           0       0.99      0.97      0.98       144\n",
      "           1       0.96      0.98      0.97       110\n",
      "\n",
      "    accuracy                           0.98       254\n",
      "   macro avg       0.98      0.98      0.98       254\n",
      "weighted avg       0.98      0.98      0.98       254\n",
      "\n"
     ]
    },
    {
     "data": {
      "image/png": "[encoded data removed]",
      "text/plain": [
       "<Figure size 1000x700 with 2 Axes>"
      ]
     },
     "metadata": {},
     "output_type": "display_data"
    }
   ],
   "source": [
    "\n",
    "# Séparation des caractéristiques et de la cible\n",
    "X = jointure.drop('Fraude', axis=1)\n",
    "y = jointure['Fraude']\n",
    "\n",
    "# Division en ensembles d'entraînement et de test\n",
    "X_train, X_test, y_train, y_test = train_test_split(X, y, test_size=0.2, random_state=42)\n",
    "\n",
    "# Standardisation des caractéristiques\n",
    "scaler = StandardScaler()\n",
    "X_train_scaled = scaler.fit_transform(X_train)\n",
    "X_test_scaled = scaler.transform(X_test)\n",
    "\n",
    "# Entraînement du modèle de classification\n",
    "model = RandomForestClassifier(random_state=42)\n",
    "model.fit(X_train_scaled, y_train)\n",
    "\n",
    "# Prédictions sur l'ensemble de test\n",
    "y_pred = model.predict(X_test_scaled)\n",
    "\n",
    "# Évaluation du modèle\n",
    "report = classification_report(y_test, y_pred)\n",
    "print(report)\n",
    "\n",
    "\n",
    "# Générer la matrice de confusion\n",
    "conf_matrix = confusion_matrix(y_test, y_pred)\n",
    "\n",
    "# Utilisation de seaborn pour créer une heatmap de la matrice de confusion\n",
    "plt.figure(figsize=(10, 7))\n",
    "sns.heatmap(conf_matrix, annot=True, fmt='g')\n",
    "plt.title('Matrice de confusion')\n",
    "plt.ylabel('Vraie classe')\n",
    "plt.xlabel('Classe prédite')\n",
    "plt.show()\n",
    "\n"
   ]
  },
  {
   "cell_type": "code",
   "execution_count": null,
   "id": "69016a05-869b-48dc-97ac-80a56458ea67",
   "metadata": {},
   "outputs": [],
   "source": []
  },
  {
   "cell_type": "code",
   "execution_count": 34,
   "id": "1e39e014-f02a-4e4c-879a-ab2d6a4e1ee7",
   "metadata": {},
   "outputs": [
    {
     "data": {
      "application/vnd.plotly.v1+json": {
       "config": {
        "plotlyServerURL": "https://plot.ly"
       },
       "data": [
        {
         "fill": "toself",
         "fillcolor": "rgb(140, 86, 75)",
         "hoverinfo": "name",
         "legendgroup": "rgb(140, 86, 75)",
         "mode": "none",
         "name": "Test",
         "showlegend": true,
         "type": "scatter",
         "x": [
          "2024-03-25",
          "2024-03-31",
          "2024-03-31",
          "2024-03-25"
         ],
         "y": [
          0.8,
          0.8,
          1.2,
          1.2
         ]
        },
        {
         "fill": "toself",
         "fillcolor": "rgb(148, 103, 189)",
         "hoverinfo": "name",
         "legendgroup": "rgb(148, 103, 189)",
         "mode": "none",
         "name": "Prétraitement des données",
         "showlegend": true,
         "type": "scatter",
         "x": [
          "2024-01-25",
          "2024-02-07",
          "2024-02-07",
          "2024-01-25",
          "2024-01-25",
          "2024-02-08",
          "2024-02-22",
          "2024-02-22",
          "2024-02-08"
         ],
         "y": [
          4.8,
          4.8,
          5.2,
          5.2,
          null,
          3.8,
          3.8,
          4.2,
          4.2
         ]
        },
        {
         "fill": "toself",
         "fillcolor": "rgb(214, 39, 40)",
         "hoverinfo": "name",
         "legendgroup": "rgb(214, 39, 40)",
         "mode": "none",
         "name": "Planification",
         "showlegend": true,
         "type": "scatter",
         "x": [
          "2024-01-18",
          "2024-01-24",
          "2024-01-24",
          "2024-01-18"
         ],
         "y": [
          5.8,
          5.8,
          6.2,
          6.2
         ]
        },
        {
         "fill": "toself",
         "fillcolor": "rgb(227, 119, 194)",
         "hoverinfo": "name",
         "legendgroup": "rgb(227, 119, 194)",
         "mode": "none",
         "name": "Visualisation",
         "showlegend": true,
         "type": "scatter",
         "x": [
          "2024-02-23",
          "2024-02-26",
          "2024-02-26",
          "2024-02-23"
         ],
         "y": [
          2.8,
          2.8,
          3.2,
          3.2
         ]
        },
        {
         "fill": "toself",
         "fillcolor": "rgb(255, 127, 14)",
         "hoverinfo": "name",
         "legendgroup": "rgb(255, 127, 14)",
         "mode": "none",
         "name": "Documentation",
         "showlegend": true,
         "type": "scatter",
         "x": [
          "2024-04-01",
          "2024-04-18",
          "2024-04-18",
          "2024-04-01"
         ],
         "y": [
          -0.2,
          -0.2,
          0.2,
          0.2
         ]
        },
        {
         "fill": "toself",
         "fillcolor": "rgb(31, 119, 180)",
         "hoverinfo": "name",
         "legendgroup": "rgb(31, 119, 180)",
         "mode": "none",
         "name": "Collecte de données",
         "showlegend": true,
         "type": "scatter",
         "x": [
          "2024-01-10",
          "2024-01-17",
          "2024-01-17",
          "2024-01-10"
         ],
         "y": [
          6.8,
          6.8,
          7.2,
          7.2
         ]
        },
        {
         "fill": "toself",
         "fillcolor": "rgb(44, 160, 44)",
         "hoverinfo": "name",
         "legendgroup": "rgb(44, 160, 44)",
         "mode": "none",
         "name": "Modélisation",
         "showlegend": true,
         "type": "scatter",
         "x": [
          "2024-02-27",
          "2024-03-24",
          "2024-03-24",
          "2024-02-27"
         ],
         "y": [
          1.8,
          1.8,
          2.2,
          2.2
         ]
        },
        {
         "legendgroup": "rgb(140, 86, 75)",
         "marker": {
          "color": "rgb(140, 86, 75)",
          "opacity": 0,
          "size": 1
         },
         "mode": "markers",
         "name": "",
         "showlegend": false,
         "text": [
          null,
          null
         ],
         "type": "scatter",
         "x": [
          "2024-03-25",
          "2024-03-31"
         ],
         "y": [
          1,
          1
         ]
        },
        {
         "legendgroup": "rgb(148, 103, 189)",
         "marker": {
          "color": "rgb(148, 103, 189)",
          "opacity": 0,
          "size": 1
         },
         "mode": "markers",
         "name": "",
         "showlegend": false,
         "text": [
          null,
          null,
          null,
          null
         ],
         "type": "scatter",
         "x": [
          "2024-01-25",
          "2024-02-07",
          "2024-02-08",
          "2024-02-22"
         ],
         "y": [
          5,
          5,
          4,
          4
         ]
        },
        {
         "legendgroup": "rgb(214, 39, 40)",
         "marker": {
          "color": "rgb(214, 39, 40)",
          "opacity": 0,
          "size": 1
         },
         "mode": "markers",
         "name": "",
         "showlegend": false,
         "text": [
          null,
          null
         ],
         "type": "scatter",
         "x": [
          "2024-01-18",
          "2024-01-24"
         ],
         "y": [
          6,
          6
         ]
        },
        {
         "legendgroup": "rgb(227, 119, 194)",
         "marker": {
          "color": "rgb(227, 119, 194)",
          "opacity": 0,
          "size": 1
         },
         "mode": "markers",
         "name": "",
         "showlegend": false,
         "text": [
          null,
          null
         ],
         "type": "scatter",
         "x": [
          "2024-02-23",
          "2024-02-26"
         ],
         "y": [
          3,
          3
         ]
        },
        {
         "legendgroup": "rgb(255, 127, 14)",
         "marker": {
          "color": "rgb(255, 127, 14)",
          "opacity": 0,
          "size": 1
         },
         "mode": "markers",
         "name": "",
         "showlegend": false,
         "text": [
          null,
          null
         ],
         "type": "scatter",
         "x": [
          "2024-04-01",
          "2024-04-18"
         ],
         "y": [
          0,
          0
         ]
        },
        {
         "legendgroup": "rgb(31, 119, 180)",
         "marker": {
          "color": "rgb(31, 119, 180)",
          "opacity": 0,
          "size": 1
         },
         "mode": "markers",
         "name": "",
         "showlegend": false,
         "text": [
          null,
          null
         ],
         "type": "scatter",
         "x": [
          "2024-01-10",
          "2024-01-17"
         ],
         "y": [
          7,
          7
         ]
        },
        {
         "legendgroup": "rgb(44, 160, 44)",
         "marker": {
          "color": "rgb(44, 160, 44)",
          "opacity": 0,
          "size": 1
         },
         "mode": "markers",
         "name": "",
         "showlegend": false,
         "text": [
          null,
          null
         ],
         "type": "scatter",
         "x": [
          "2024-02-27",
          "2024-03-24"
         ],
         "y": [
          2,
          2
         ]
        }
       ],
       "layout": {
        "autosize": true,
        "hovermode": "closest",
        "showlegend": true,
        "template": {
         "data": {
          "bar": [
           {
            "error_x": {
             "color": "#2a3f5f"
            },
            "error_y": {
             "color": "#2a3f5f"
            },
            "marker": {
             "line": {
              "color": "#E5ECF6",
              "width": 0.5
             },
             "pattern": {
              "fillmode": "overlay",
              "size": 10,
              "solidity": 0.2
             }
            },
            "type": "bar"
           }
          ],
          "barpolar": [
           {
            "marker": {
             "line": {
              "color": "#E5ECF6",
              "width": 0.5
             },
             "pattern": {
              "fillmode": "overlay",
              "size": 10,
              "solidity": 0.2
             }
            },
            "type": "barpolar"
           }
          ],
          "carpet": [
           {
            "aaxis": {
             "endlinecolor": "#2a3f5f",
             "gridcolor": "white",
             "linecolor": "white",
             "minorgridcolor": "white",
             "startlinecolor": "#2a3f5f"
            },
            "baxis": {
             "endlinecolor": "#2a3f5f",
             "gridcolor": "white",
             "linecolor": "white",
             "minorgridcolor": "white",
             "startlinecolor": "#2a3f5f"
            },
            "type": "carpet"
           }
          ],
          "choropleth": [
           {
            "colorbar": {
             "outlinewidth": 0,
             "ticks": ""
            },
            "type": "choropleth"
           }
          ],
          "contour": [
           {
            "colorbar": {
             "outlinewidth": 0,
             "ticks": ""
            },
            "colorscale": [
             [
              0,
              "#0d0887"
             ],
             [
              0.1111111111111111,
              "#46039f"
             ],
             [
              0.2222222222222222,
              "#7201a8"
             ],
             [
              0.3333333333333333,
              "#9c179e"
             ],
             [
              0.4444444444444444,
              "#bd3786"
             ],
             [
              0.5555555555555556,
              "#d8576b"
             ],
             [
              0.6666666666666666,
              "#ed7953"
             ],
             [
              0.7777777777777778,
              "#fb9f3a"
             ],
             [
              0.8888888888888888,
              "#fdca26"
             ],
             [
              1,
              "#f0f921"
             ]
            ],
            "type": "contour"
           }
          ],
          "contourcarpet": [
           {
            "colorbar": {
             "outlinewidth": 0,
             "ticks": ""
            },
            "type": "contourcarpet"
           }
          ],
          "heatmap": [
           {
            "colorbar": {
             "outlinewidth": 0,
             "ticks": ""
            },
            "colorscale": [
             [
              0,
              "#0d0887"
             ],
             [
              0.1111111111111111,
              "#46039f"
             ],
             [
              0.2222222222222222,
              "#7201a8"
             ],
             [
              0.3333333333333333,
              "#9c179e"
             ],
             [
              0.4444444444444444,
              "#bd3786"
             ],
             [
              0.5555555555555556,
              "#d8576b"
             ],
             [
              0.6666666666666666,
              "#ed7953"
             ],
             [
              0.7777777777777778,
              "#fb9f3a"
             ],
             [
              0.8888888888888888,
              "#fdca26"
             ],
             [
              1,
              "#f0f921"
             ]
            ],
            "type": "heatmap"
           }
          ],
          "heatmapgl": [
           {
            "colorbar": {
             "outlinewidth": 0,
             "ticks": ""
            },
            "colorscale": [
             [
              0,
              "#0d0887"
             ],
             [
              0.1111111111111111,
              "#46039f"
             ],
             [
              0.2222222222222222,
              "#7201a8"
             ],
             [
              0.3333333333333333,
              "#9c179e"
             ],
             [
              0.4444444444444444,
              "#bd3786"
             ],
             [
              0.5555555555555556,
              "#d8576b"
             ],
             [
              0.6666666666666666,
              "#ed7953"
             ],
             [
              0.7777777777777778,
              "#fb9f3a"
             ],
             [
              0.8888888888888888,
              "#fdca26"
             ],
             [
              1,
              "#f0f921"
             ]
            ],
            "type": "heatmapgl"
           }
          ],
          "histogram": [
           {
            "marker": {
             "pattern": {
              "fillmode": "overlay",
              "size": 10,
              "solidity": 0.2
             }
            },
            "type": "histogram"
           }
          ],
          "histogram2d": [
           {
            "colorbar": {
             "outlinewidth": 0,
             "ticks": ""
            },
            "colorscale": [
             [
              0,
              "#0d0887"
             ],
             [
              0.1111111111111111,
              "#46039f"
             ],
             [
              0.2222222222222222,
              "#7201a8"
             ],
             [
              0.3333333333333333,
              "#9c179e"
             ],
             [
              0.4444444444444444,
              "#bd3786"
             ],
             [
              0.5555555555555556,
              "#d8576b"
             ],
             [
              0.6666666666666666,
              "#ed7953"
             ],
             [
              0.7777777777777778,
              "#fb9f3a"
             ],
             [
              0.8888888888888888,
              "#fdca26"
             ],
             [
              1,
              "#f0f921"
             ]
            ],
            "type": "histogram2d"
           }
          ],
          "histogram2dcontour": [
           {
            "colorbar": {
             "outlinewidth": 0,
             "ticks": ""
            },
            "colorscale": [
             [
              0,
              "#0d0887"
             ],
             [
              0.1111111111111111,
              "#46039f"
             ],
             [
              0.2222222222222222,
              "#7201a8"
             ],
             [
              0.3333333333333333,
              "#9c179e"
             ],
             [
              0.4444444444444444,
              "#bd3786"
             ],
             [
              0.5555555555555556,
              "#d8576b"
             ],
             [
              0.6666666666666666,
              "#ed7953"
             ],
             [
              0.7777777777777778,
              "#fb9f3a"
             ],
             [
              0.8888888888888888,
              "#fdca26"
             ],
             [
              1,
              "#f0f921"
             ]
            ],
            "type": "histogram2dcontour"
           }
          ],
          "mesh3d": [
           {
            "colorbar": {
             "outlinewidth": 0,
             "ticks": ""
            },
            "type": "mesh3d"
           }
          ],
          "parcoords": [
           {
            "line": {
             "colorbar": {
              "outlinewidth": 0,
              "ticks": ""
             }
            },
            "type": "parcoords"
           }
          ],
          "pie": [
           {
            "automargin": true,
            "type": "pie"
           }
          ],
          "scatter": [
           {
            "fillpattern": {
             "fillmode": "overlay",
             "size": 10,
             "solidity": 0.2
            },
            "type": "scatter"
           }
          ],
          "scatter3d": [
           {
            "line": {
             "colorbar": {
              "outlinewidth": 0,
              "ticks": ""
             }
            },
            "marker": {
             "colorbar": {
              "outlinewidth": 0,
              "ticks": ""
             }
            },
            "type": "scatter3d"
           }
          ],
          "scattercarpet": [
           {
            "marker": {
             "colorbar": {
              "outlinewidth": 0,
              "ticks": ""
             }
            },
            "type": "scattercarpet"
           }
          ],
          "scattergeo": [
           {
            "marker": {
             "colorbar": {
              "outlinewidth": 0,
              "ticks": ""
             }
            },
            "type": "scattergeo"
           }
          ],
          "scattergl": [
           {
            "marker": {
             "colorbar": {
              "outlinewidth": 0,
              "ticks": ""
             }
            },
            "type": "scattergl"
           }
          ],
          "scattermapbox": [
           {
            "marker": {
             "colorbar": {
              "outlinewidth": 0,
              "ticks": ""
             }
            },
            "type": "scattermapbox"
           }
          ],
          "scatterpolar": [
           {
            "marker": {
             "colorbar": {
              "outlinewidth": 0,
              "ticks": ""
             }
            },
            "type": "scatterpolar"
           }
          ],
          "scatterpolargl": [
           {
            "marker": {
             "colorbar": {
              "outlinewidth": 0,
              "ticks": ""
             }
            },
            "type": "scatterpolargl"
           }
          ],
          "scatterternary": [
           {
            "marker": {
             "colorbar": {
              "outlinewidth": 0,
              "ticks": ""
             }
            },
            "type": "scatterternary"
           }
          ],
          "surface": [
           {
            "colorbar": {
             "outlinewidth": 0,
             "ticks": ""
            },
            "colorscale": [
             [
              0,
              "#0d0887"
             ],
             [
              0.1111111111111111,
              "#46039f"
             ],
             [
              0.2222222222222222,
              "#7201a8"
             ],
             [
              0.3333333333333333,
              "#9c179e"
             ],
             [
              0.4444444444444444,
              "#bd3786"
             ],
             [
              0.5555555555555556,
              "#d8576b"
             ],
             [
              0.6666666666666666,
              "#ed7953"
             ],
             [
              0.7777777777777778,
              "#fb9f3a"
             ],
             [
              0.8888888888888888,
              "#fdca26"
             ],
             [
              1,
              "#f0f921"
             ]
            ],
            "type": "surface"
           }
          ],
          "table": [
           {
            "cells": {
             "fill": {
              "color": "#EBF0F8"
             },
             "line": {
              "color": "white"
             }
            },
            "header": {
             "fill": {
              "color": "#C8D4E3"
             },
             "line": {
              "color": "white"
             }
            },
            "type": "table"
           }
          ]
         },
         "layout": {
          "annotationdefaults": {
           "arrowcolor": "#2a3f5f",
           "arrowhead": 0,
           "arrowwidth": 1
          },
          "autotypenumbers": "strict",
          "coloraxis": {
           "colorbar": {
            "outlinewidth": 0,
            "ticks": ""
           }
          },
          "colorscale": {
           "diverging": [
            [
             0,
             "#8e0152"
            ],
            [
             0.1,
             "#c51b7d"
            ],
            [
             0.2,
             "#de77ae"
            ],
            [
             0.3,
             "#f1b6da"
            ],
            [
             0.4,
             "#fde0ef"
            ],
            [
             0.5,
             "#f7f7f7"
            ],
            [
             0.6,
             "#e6f5d0"
            ],
            [
             0.7,
             "#b8e186"
            ],
            [
             0.8,
             "#7fbc41"
            ],
            [
             0.9,
             "#4d9221"
            ],
            [
             1,
             "#276419"
            ]
           ],
           "sequential": [
            [
             0,
             "#0d0887"
            ],
            [
             0.1111111111111111,
             "#46039f"
            ],
            [
             0.2222222222222222,
             "#7201a8"
            ],
            [
             0.3333333333333333,
             "#9c179e"
            ],
            [
             0.4444444444444444,
             "#bd3786"
            ],
            [
             0.5555555555555556,
             "#d8576b"
            ],
            [
             0.6666666666666666,
             "#ed7953"
            ],
            [
             0.7777777777777778,
             "#fb9f3a"
            ],
            [
             0.8888888888888888,
             "#fdca26"
            ],
            [
             1,
             "#f0f921"
            ]
           ],
           "sequentialminus": [
            [
             0,
             "#0d0887"
            ],
            [
             0.1111111111111111,
             "#46039f"
            ],
            [
             0.2222222222222222,
             "#7201a8"
            ],
            [
             0.3333333333333333,
             "#9c179e"
            ],
            [
             0.4444444444444444,
             "#bd3786"
            ],
            [
             0.5555555555555556,
             "#d8576b"
            ],
            [
             0.6666666666666666,
             "#ed7953"
            ],
            [
             0.7777777777777778,
             "#fb9f3a"
            ],
            [
             0.8888888888888888,
             "#fdca26"
            ],
            [
             1,
             "#f0f921"
            ]
           ]
          },
          "colorway": [
           "#636efa",
           "#EF553B",
           "#00cc96",
           "#ab63fa",
           "#FFA15A",
           "#19d3f3",
           "#FF6692",
           "#B6E880",
           "#FF97FF",
           "#FECB52"
          ],
          "font": {
           "color": "#2a3f5f"
          },
          "geo": {
           "bgcolor": "white",
           "lakecolor": "white",
           "landcolor": "#E5ECF6",
           "showlakes": true,
           "showland": true,
           "subunitcolor": "white"
          },
          "hoverlabel": {
           "align": "left"
          },
          "hovermode": "closest",
          "mapbox": {
           "style": "light"
          },
          "paper_bgcolor": "white",
          "plot_bgcolor": "#E5ECF6",
          "polar": {
           "angularaxis": {
            "gridcolor": "white",
            "linecolor": "white",
            "ticks": ""
           },
           "bgcolor": "#E5ECF6",
           "radialaxis": {
            "gridcolor": "white",
            "linecolor": "white",
            "ticks": ""
           }
          },
          "scene": {
           "xaxis": {
            "backgroundcolor": "#E5ECF6",
            "gridcolor": "white",
            "gridwidth": 2,
            "linecolor": "white",
            "showbackground": true,
            "ticks": "",
            "zerolinecolor": "white"
           },
           "yaxis": {
            "backgroundcolor": "#E5ECF6",
            "gridcolor": "white",
            "gridwidth": 2,
            "linecolor": "white",
            "showbackground": true,
            "ticks": "",
            "zerolinecolor": "white"
           },
           "zaxis": {
            "backgroundcolor": "#E5ECF6",
            "gridcolor": "white",
            "gridwidth": 2,
            "linecolor": "white",
            "showbackground": true,
            "ticks": "",
            "zerolinecolor": "white"
           }
          },
          "shapedefaults": {
           "line": {
            "color": "#2a3f5f"
           }
          },
          "ternary": {
           "aaxis": {
            "gridcolor": "white",
            "linecolor": "white",
            "ticks": ""
           },
           "baxis": {
            "gridcolor": "white",
            "linecolor": "white",
            "ticks": ""
           },
           "bgcolor": "#E5ECF6",
           "caxis": {
            "gridcolor": "white",
            "linecolor": "white",
            "ticks": ""
           }
          },
          "title": {
           "x": 0.05
          },
          "xaxis": {
           "automargin": true,
           "gridcolor": "white",
           "linecolor": "white",
           "ticks": "",
           "title": {
            "standoff": 15
           },
           "zerolinecolor": "white",
           "zerolinewidth": 2
          },
          "yaxis": {
           "automargin": true,
           "gridcolor": "white",
           "linecolor": "white",
           "ticks": "",
           "title": {
            "standoff": 15
           },
           "zerolinecolor": "white",
           "zerolinewidth": 2
          }
         }
        },
        "title": {
         "text": "Gantt Chart"
        },
        "xaxis": {
         "autorange": true,
         "range": [
          "2024-01-03 22:14:08.3837",
          "2024-04-24 01:45:51.6163"
         ],
         "rangeselector": {
          "buttons": [
           {
            "count": 7,
            "label": "1w",
            "step": "day",
            "stepmode": "backward"
           },
           {
            "count": 1,
            "label": "1m",
            "step": "month",
            "stepmode": "backward"
           },
           {
            "count": 6,
            "label": "6m",
            "step": "month",
            "stepmode": "backward"
           },
           {
            "count": 1,
            "label": "YTD",
            "step": "year",
            "stepmode": "todate"
           },
           {
            "count": 1,
            "label": "1y",
            "step": "year",
            "stepmode": "backward"
           },
           {
            "step": "all"
           }
          ]
         },
         "showgrid": false,
         "type": "date",
         "zeroline": false
        },
        "yaxis": {
         "autorange": false,
         "range": [
          -1,
          9
         ],
         "showgrid": false,
         "ticktext": [
          "Documentation et Rapport Final",
          "Tests et Optimisation",
          "Développement du modèle ML",
          "Création du Dashboard",
          "Normalisation et Standardisation",
          "Filtrage et Nettoyage des données",
          "Discussion avec le maître de stage",
          "Récupération des données"
         ],
         "tickvals": [
          0,
          1,
          2,
          3,
          4,
          5,
          6,
          7
         ],
         "type": "linear",
         "zeroline": false
        }
       }
      },
      "image/png": "[encoded data removed]",
      "text/html": [
       "<div>                            <div id=\"1f42556e-e173-4527-964f-06a81d11aba7\" class=\"plotly-graph-div\" style=\"height:600px; width:100%;\"></div>            <script type=\"text/javascript\">                require([\"plotly\"], function(Plotly) {                    window.PLOTLYENV=window.PLOTLYENV || {};                                    if (document.getElementById(\"1f42556e-e173-4527-964f-06a81d11aba7\")) {                    Plotly.newPlot(                        \"1f42556e-e173-4527-964f-06a81d11aba7\",                        [{\"fill\":\"toself\",\"fillcolor\":\"rgb(140, 86, 75)\",\"hoverinfo\":\"name\",\"legendgroup\":\"rgb(140, 86, 75)\",\"mode\":\"none\",\"name\":\"Test\",\"showlegend\":true,\"x\":[\"2024-03-25\",\"2024-03-31\",\"2024-03-31\",\"2024-03-25\"],\"y\":[0.8,0.8,1.2,1.2],\"type\":\"scatter\"},{\"fill\":\"toself\",\"fillcolor\":\"rgb(148, 103, 189)\",\"hoverinfo\":\"name\",\"legendgroup\":\"rgb(148, 103, 189)\",\"mode\":\"none\",\"name\":\"Pr\\u00e9traitement des donn\\u00e9es\",\"showlegend\":true,\"x\":[\"2024-01-25\",\"2024-02-07\",\"2024-02-07\",\"2024-01-25\",\"2024-01-25\",\"2024-02-08\",\"2024-02-22\",\"2024-02-22\",\"2024-02-08\"],\"y\":[4.8,4.8,5.2,5.2,null,3.8,3.8,4.2,4.2],\"type\":\"scatter\"},{\"fill\":\"toself\",\"fillcolor\":\"rgb(214, 39, 40)\",\"hoverinfo\":\"name\",\"legendgroup\":\"rgb(214, 39, 40)\",\"mode\":\"none\",\"name\":\"Planification\",\"showlegend\":true,\"x\":[\"2024-01-18\",\"2024-01-24\",\"2024-01-24\",\"2024-01-18\"],\"y\":[5.8,5.8,6.2,6.2],\"type\":\"scatter\"},{\"fill\":\"toself\",\"fillcolor\":\"rgb(227, 119, 194)\",\"hoverinfo\":\"name\",\"legendgroup\":\"rgb(227, 119, 194)\",\"mode\":\"none\",\"name\":\"Visualisation\",\"showlegend\":true,\"x\":[\"2024-02-23\",\"2024-02-26\",\"2024-02-26\",\"2024-02-23\"],\"y\":[2.8,2.8,3.2,3.2],\"type\":\"scatter\"},{\"fill\":\"toself\",\"fillcolor\":\"rgb(255, 127, 14)\",\"hoverinfo\":\"name\",\"legendgroup\":\"rgb(255, 127, 14)\",\"mode\":\"none\",\"name\":\"Documentation\",\"showlegend\":true,\"x\":[\"2024-04-01\",\"2024-04-18\",\"2024-04-18\",\"2024-04-01\"],\"y\":[-0.2,-0.2,0.2,0.2],\"type\":\"scatter\"},{\"fill\":\"toself\",\"fillcolor\":\"rgb(31, 119, 180)\",\"hoverinfo\":\"name\",\"legendgroup\":\"rgb(31, 119, 180)\",\"mode\":\"none\",\"name\":\"Collecte de donn\\u00e9es\",\"showlegend\":true,\"x\":[\"2024-01-10\",\"2024-01-17\",\"2024-01-17\",\"2024-01-10\"],\"y\":[6.8,6.8,7.2,7.2],\"type\":\"scatter\"},{\"fill\":\"toself\",\"fillcolor\":\"rgb(44, 160, 44)\",\"hoverinfo\":\"name\",\"legendgroup\":\"rgb(44, 160, 44)\",\"mode\":\"none\",\"name\":\"Mod\\u00e9lisation\",\"showlegend\":true,\"x\":[\"2024-02-27\",\"2024-03-24\",\"2024-03-24\",\"2024-02-27\"],\"y\":[1.8,1.8,2.2,2.2],\"type\":\"scatter\"},{\"legendgroup\":\"rgb(140, 86, 75)\",\"marker\":{\"color\":\"rgb(140, 86, 75)\",\"opacity\":0,\"size\":1},\"mode\":\"markers\",\"name\":\"\",\"showlegend\":false,\"text\":[null,null],\"x\":[\"2024-03-25\",\"2024-03-31\"],\"y\":[1,1],\"type\":\"scatter\"},{\"legendgroup\":\"rgb(148, 103, 189)\",\"marker\":{\"color\":\"rgb(148, 103, 189)\",\"opacity\":0,\"size\":1},\"mode\":\"markers\",\"name\":\"\",\"showlegend\":false,\"text\":[null,null,null,null],\"x\":[\"2024-01-25\",\"2024-02-07\",\"2024-02-08\",\"2024-02-22\"],\"y\":[5,5,4,4],\"type\":\"scatter\"},{\"legendgroup\":\"rgb(214, 39, 40)\",\"marker\":{\"color\":\"rgb(214, 39, 40)\",\"opacity\":0,\"size\":1},\"mode\":\"markers\",\"name\":\"\",\"showlegend\":false,\"text\":[null,null],\"x\":[\"2024-01-18\",\"2024-01-24\"],\"y\":[6,6],\"type\":\"scatter\"},{\"legendgroup\":\"rgb(227, 119, 194)\",\"marker\":{\"color\":\"rgb(227, 119, 194)\",\"opacity\":0,\"size\":1},\"mode\":\"markers\",\"name\":\"\",\"showlegend\":false,\"text\":[null,null],\"x\":[\"2024-02-23\",\"2024-02-26\"],\"y\":[3,3],\"type\":\"scatter\"},{\"legendgroup\":\"rgb(255, 127, 14)\",\"marker\":{\"color\":\"rgb(255, 127, 14)\",\"opacity\":0,\"size\":1},\"mode\":\"markers\",\"name\":\"\",\"showlegend\":false,\"text\":[null,null],\"x\":[\"2024-04-01\",\"2024-04-18\"],\"y\":[0,0],\"type\":\"scatter\"},{\"legendgroup\":\"rgb(31, 119, 180)\",\"marker\":{\"color\":\"rgb(31, 119, 180)\",\"opacity\":0,\"size\":1},\"mode\":\"markers\",\"name\":\"\",\"showlegend\":false,\"text\":[null,null],\"x\":[\"2024-01-10\",\"2024-01-17\"],\"y\":[7,7],\"type\":\"scatter\"},{\"legendgroup\":\"rgb(44, 160, 44)\",\"marker\":{\"color\":\"rgb(44, 160, 44)\",\"opacity\":0,\"size\":1},\"mode\":\"markers\",\"name\":\"\",\"showlegend\":false,\"text\":[null,null],\"x\":[\"2024-02-27\",\"2024-03-24\"],\"y\":[2,2],\"type\":\"scatter\"}],                        {\"height\":600,\"hovermode\":\"closest\",\"showlegend\":true,\"title\":{\"text\":\"Gantt Chart\"},\"xaxis\":{\"rangeselector\":{\"buttons\":[{\"count\":7,\"label\":\"1w\",\"step\":\"day\",\"stepmode\":\"backward\"},{\"count\":1,\"label\":\"1m\",\"step\":\"month\",\"stepmode\":\"backward\"},{\"count\":6,\"label\":\"6m\",\"step\":\"month\",\"stepmode\":\"backward\"},{\"count\":1,\"label\":\"YTD\",\"step\":\"year\",\"stepmode\":\"todate\"},{\"count\":1,\"label\":\"1y\",\"step\":\"year\",\"stepmode\":\"backward\"},{\"step\":\"all\"}]},\"showgrid\":false,\"type\":\"date\",\"zeroline\":false},\"yaxis\":{\"autorange\":false,\"range\":[-1,9],\"showgrid\":false,\"ticktext\":[\"Documentation et Rapport Final\",\"Tests et Optimisation\",\"D\\u00e9veloppement du mod\\u00e8le ML\",\"Cr\\u00e9ation du Dashboard\",\"Normalisation et Standardisation\",\"Filtrage et Nettoyage des donn\\u00e9es\",\"Discussion avec le ma\\u00eetre de stage\",\"R\\u00e9cup\\u00e9ration des donn\\u00e9es\"],\"tickvals\":[0,1,2,3,4,5,6,7],\"zeroline\":false},\"template\":{\"data\":{\"histogram2dcontour\":[{\"type\":\"histogram2dcontour\",\"colorbar\":{\"outlinewidth\":0,\"ticks\":\"\"},\"colorscale\":[[0.0,\"#0d0887\"],[0.1111111111111111,\"#46039f\"],[0.2222222222222222,\"#7201a8\"],[0.3333333333333333,\"#9c179e\"],[0.4444444444444444,\"#bd3786\"],[0.5555555555555556,\"#d8576b\"],[0.6666666666666666,\"#ed7953\"],[0.7777777777777778,\"#fb9f3a\"],[0.8888888888888888,\"#fdca26\"],[1.0,\"#f0f921\"]]}],\"choropleth\":[{\"type\":\"choropleth\",\"colorbar\":{\"outlinewidth\":0,\"ticks\":\"\"}}],\"histogram2d\":[{\"type\":\"histogram2d\",\"colorbar\":{\"outlinewidth\":0,\"ticks\":\"\"},\"colorscale\":[[0.0,\"#0d0887\"],[0.1111111111111111,\"#46039f\"],[0.2222222222222222,\"#7201a8\"],[0.3333333333333333,\"#9c179e\"],[0.4444444444444444,\"#bd3786\"],[0.5555555555555556,\"#d8576b\"],[0.6666666666666666,\"#ed7953\"],[0.7777777777777778,\"#fb9f3a\"],[0.8888888888888888,\"#fdca26\"],[1.0,\"#f0f921\"]]}],\"heatmap\":[{\"type\":\"heatmap\",\"colorbar\":{\"outlinewidth\":0,\"ticks\":\"\"},\"colorscale\":[[0.0,\"#0d0887\"],[0.1111111111111111,\"#46039f\"],[0.2222222222222222,\"#7201a8\"],[0.3333333333333333,\"#9c179e\"],[0.4444444444444444,\"#bd3786\"],[0.5555555555555556,\"#d8576b\"],[0.6666666666666666,\"#ed7953\"],[0.7777777777777778,\"#fb9f3a\"],[0.8888888888888888,\"#fdca26\"],[1.0,\"#f0f921\"]]}],\"heatmapgl\":[{\"type\":\"heatmapgl\",\"colorbar\":{\"outlinewidth\":0,\"ticks\":\"\"},\"colorscale\":[[0.0,\"#0d0887\"],[0.1111111111111111,\"#46039f\"],[0.2222222222222222,\"#7201a8\"],[0.3333333333333333,\"#9c179e\"],[0.4444444444444444,\"#bd3786\"],[0.5555555555555556,\"#d8576b\"],[0.6666666666666666,\"#ed7953\"],[0.7777777777777778,\"#fb9f3a\"],[0.8888888888888888,\"#fdca26\"],[1.0,\"#f0f921\"]]}],\"contourcarpet\":[{\"type\":\"contourcarpet\",\"colorbar\":{\"outlinewidth\":0,\"ticks\":\"\"}}],\"contour\":[{\"type\":\"contour\",\"colorbar\":{\"outlinewidth\":0,\"ticks\":\"\"},\"colorscale\":[[0.0,\"#0d0887\"],[0.1111111111111111,\"#46039f\"],[0.2222222222222222,\"#7201a8\"],[0.3333333333333333,\"#9c179e\"],[0.4444444444444444,\"#bd3786\"],[0.5555555555555556,\"#d8576b\"],[0.6666666666666666,\"#ed7953\"],[0.7777777777777778,\"#fb9f3a\"],[0.8888888888888888,\"#fdca26\"],[1.0,\"#f0f921\"]]}],\"surface\":[{\"type\":\"surface\",\"colorbar\":{\"outlinewidth\":0,\"ticks\":\"\"},\"colorscale\":[[0.0,\"#0d0887\"],[0.1111111111111111,\"#46039f\"],[0.2222222222222222,\"#7201a8\"],[0.3333333333333333,\"#9c179e\"],[0.4444444444444444,\"#bd3786\"],[0.5555555555555556,\"#d8576b\"],[0.6666666666666666,\"#ed7953\"],[0.7777777777777778,\"#fb9f3a\"],[0.8888888888888888,\"#fdca26\"],[1.0,\"#f0f921\"]]}],\"mesh3d\":[{\"type\":\"mesh3d\",\"colorbar\":{\"outlinewidth\":0,\"ticks\":\"\"}}],\"scatter\":[{\"fillpattern\":{\"fillmode\":\"overlay\",\"size\":10,\"solidity\":0.2},\"type\":\"scatter\"}],\"parcoords\":[{\"type\":\"parcoords\",\"line\":{\"colorbar\":{\"outlinewidth\":0,\"ticks\":\"\"}}}],\"scatterpolargl\":[{\"type\":\"scatterpolargl\",\"marker\":{\"colorbar\":{\"outlinewidth\":0,\"ticks\":\"\"}}}],\"bar\":[{\"error_x\":{\"color\":\"#2a3f5f\"},\"error_y\":{\"color\":\"#2a3f5f\"},\"marker\":{\"line\":{\"color\":\"#E5ECF6\",\"width\":0.5},\"pattern\":{\"fillmode\":\"overlay\",\"size\":10,\"solidity\":0.2}},\"type\":\"bar\"}],\"scattergeo\":[{\"type\":\"scattergeo\",\"marker\":{\"colorbar\":{\"outlinewidth\":0,\"ticks\":\"\"}}}],\"scatterpolar\":[{\"type\":\"scatterpolar\",\"marker\":{\"colorbar\":{\"outlinewidth\":0,\"ticks\":\"\"}}}],\"histogram\":[{\"marker\":{\"pattern\":{\"fillmode\":\"overlay\",\"size\":10,\"solidity\":0.2}},\"type\":\"histogram\"}],\"scattergl\":[{\"type\":\"scattergl\",\"marker\":{\"colorbar\":{\"outlinewidth\":0,\"ticks\":\"\"}}}],\"scatter3d\":[{\"type\":\"scatter3d\",\"line\":{\"colorbar\":{\"outlinewidth\":0,\"ticks\":\"\"}},\"marker\":{\"colorbar\":{\"outlinewidth\":0,\"ticks\":\"\"}}}],\"scattermapbox\":[{\"type\":\"scattermapbox\",\"marker\":{\"colorbar\":{\"outlinewidth\":0,\"ticks\":\"\"}}}],\"scatterternary\":[{\"type\":\"scatterternary\",\"marker\":{\"colorbar\":{\"outlinewidth\":0,\"ticks\":\"\"}}}],\"scattercarpet\":[{\"type\":\"scattercarpet\",\"marker\":{\"colorbar\":{\"outlinewidth\":0,\"ticks\":\"\"}}}],\"carpet\":[{\"aaxis\":{\"endlinecolor\":\"#2a3f5f\",\"gridcolor\":\"white\",\"linecolor\":\"white\",\"minorgridcolor\":\"white\",\"startlinecolor\":\"#2a3f5f\"},\"baxis\":{\"endlinecolor\":\"#2a3f5f\",\"gridcolor\":\"white\",\"linecolor\":\"white\",\"minorgridcolor\":\"white\",\"startlinecolor\":\"#2a3f5f\"},\"type\":\"carpet\"}],\"table\":[{\"cells\":{\"fill\":{\"color\":\"#EBF0F8\"},\"line\":{\"color\":\"white\"}},\"header\":{\"fill\":{\"color\":\"#C8D4E3\"},\"line\":{\"color\":\"white\"}},\"type\":\"table\"}],\"barpolar\":[{\"marker\":{\"line\":{\"color\":\"#E5ECF6\",\"width\":0.5},\"pattern\":{\"fillmode\":\"overlay\",\"size\":10,\"solidity\":0.2}},\"type\":\"barpolar\"}],\"pie\":[{\"automargin\":true,\"type\":\"pie\"}]},\"layout\":{\"autotypenumbers\":\"strict\",\"colorway\":[\"#636efa\",\"#EF553B\",\"#00cc96\",\"#ab63fa\",\"#FFA15A\",\"#19d3f3\",\"#FF6692\",\"#B6E880\",\"#FF97FF\",\"#FECB52\"],\"font\":{\"color\":\"#2a3f5f\"},\"hovermode\":\"closest\",\"hoverlabel\":{\"align\":\"left\"},\"paper_bgcolor\":\"white\",\"plot_bgcolor\":\"#E5ECF6\",\"polar\":{\"bgcolor\":\"#E5ECF6\",\"angularaxis\":{\"gridcolor\":\"white\",\"linecolor\":\"white\",\"ticks\":\"\"},\"radialaxis\":{\"gridcolor\":\"white\",\"linecolor\":\"white\",\"ticks\":\"\"}},\"ternary\":{\"bgcolor\":\"#E5ECF6\",\"aaxis\":{\"gridcolor\":\"white\",\"linecolor\":\"white\",\"ticks\":\"\"},\"baxis\":{\"gridcolor\":\"white\",\"linecolor\":\"white\",\"ticks\":\"\"},\"caxis\":{\"gridcolor\":\"white\",\"linecolor\":\"white\",\"ticks\":\"\"}},\"coloraxis\":{\"colorbar\":{\"outlinewidth\":0,\"ticks\":\"\"}},\"colorscale\":{\"sequential\":[[0.0,\"#0d0887\"],[0.1111111111111111,\"#46039f\"],[0.2222222222222222,\"#7201a8\"],[0.3333333333333333,\"#9c179e\"],[0.4444444444444444,\"#bd3786\"],[0.5555555555555556,\"#d8576b\"],[0.6666666666666666,\"#ed7953\"],[0.7777777777777778,\"#fb9f3a\"],[0.8888888888888888,\"#fdca26\"],[1.0,\"#f0f921\"]],\"sequentialminus\":[[0.0,\"#0d0887\"],[0.1111111111111111,\"#46039f\"],[0.2222222222222222,\"#7201a8\"],[0.3333333333333333,\"#9c179e\"],[0.4444444444444444,\"#bd3786\"],[0.5555555555555556,\"#d8576b\"],[0.6666666666666666,\"#ed7953\"],[0.7777777777777778,\"#fb9f3a\"],[0.8888888888888888,\"#fdca26\"],[1.0,\"#f0f921\"]],\"diverging\":[[0,\"#8e0152\"],[0.1,\"#c51b7d\"],[0.2,\"#de77ae\"],[0.3,\"#f1b6da\"],[0.4,\"#fde0ef\"],[0.5,\"#f7f7f7\"],[0.6,\"#e6f5d0\"],[0.7,\"#b8e186\"],[0.8,\"#7fbc41\"],[0.9,\"#4d9221\"],[1,\"#276419\"]]},\"xaxis\":{\"gridcolor\":\"white\",\"linecolor\":\"white\",\"ticks\":\"\",\"title\":{\"standoff\":15},\"zerolinecolor\":\"white\",\"automargin\":true,\"zerolinewidth\":2},\"yaxis\":{\"gridcolor\":\"white\",\"linecolor\":\"white\",\"ticks\":\"\",\"title\":{\"standoff\":15},\"zerolinecolor\":\"white\",\"automargin\":true,\"zerolinewidth\":2},\"scene\":{\"xaxis\":{\"backgroundcolor\":\"#E5ECF6\",\"gridcolor\":\"white\",\"linecolor\":\"white\",\"showbackground\":true,\"ticks\":\"\",\"zerolinecolor\":\"white\",\"gridwidth\":2},\"yaxis\":{\"backgroundcolor\":\"#E5ECF6\",\"gridcolor\":\"white\",\"linecolor\":\"white\",\"showbackground\":true,\"ticks\":\"\",\"zerolinecolor\":\"white\",\"gridwidth\":2},\"zaxis\":{\"backgroundcolor\":\"#E5ECF6\",\"gridcolor\":\"white\",\"linecolor\":\"white\",\"showbackground\":true,\"ticks\":\"\",\"zerolinecolor\":\"white\",\"gridwidth\":2}},\"shapedefaults\":{\"line\":{\"color\":\"#2a3f5f\"}},\"annotationdefaults\":{\"arrowcolor\":\"#2a3f5f\",\"arrowhead\":0,\"arrowwidth\":1},\"geo\":{\"bgcolor\":\"white\",\"landcolor\":\"#E5ECF6\",\"subunitcolor\":\"white\",\"showland\":true,\"showlakes\":true,\"lakecolor\":\"white\"},\"title\":{\"x\":0.05},\"mapbox\":{\"style\":\"light\"}}}},                        {\"responsive\": true}                    ).then(function(){\n",
       "                            \n",
       "var gd = document.getElementById('1f42556e-e173-4527-964f-06a81d11aba7');\n",
       "var x = new MutationObserver(function (mutations, observer) {{\n",
       "        var display = window.getComputedStyle(gd).display;\n",
       "        if (!display || display === 'none') {{\n",
       "            console.log([gd, 'removed!']);\n",
       "            Plotly.purge(gd);\n",
       "            observer.disconnect();\n",
       "        }}\n",
       "}});\n",
       "\n",
       "// Listen for the removal of the full notebook cells\n",
       "var notebookContainer = gd.closest('#notebook-container');\n",
       "if (notebookContainer) {{\n",
       "    x.observe(notebookContainer, {childList: true});\n",
       "}}\n",
       "\n",
       "// Listen for the clearing of the current output cell\n",
       "var outputEl = gd.closest('.output');\n",
       "if (outputEl) {{\n",
       "    x.observe(outputEl, {childList: true});\n",
       "}}\n",
       "\n",
       "                        })                };                });            </script>        </div>"
      ]
     },
     "metadata": {},
     "output_type": "display_data"
    }
   ],
   "source": [
    "import plotly.figure_factory as ff\n",
    "\n",
    "# Définition des tâches avec leurs dates de début et de fin\n",
    "tasks = [\n",
    "    dict(Task=\"Récupération des données\", Start='2024-01-10', Finish='2024-01-17', Resource='Collecte de données'),\n",
    "    dict(Task=\"Discussion avec le maître de stage\", Start='2024-01-18', Finish='2024-01-24', Resource='Planification'),\n",
    "    dict(Task=\"Filtrage et Nettoyage des données\", Start='2024-01-25', Finish='2024-02-07', Resource='Prétraitement des données'),\n",
    "    dict(Task=\"Normalisation et Standardisation\", Start='2024-02-08', Finish='2024-02-22', Resource='Prétraitement des données'),\n",
    "    dict(Task=\"Création du Dashboard\", Start='2024-02-23', Finish='2024-02-26', Resource='Visualisation'),\n",
    "    dict(Task=\"Développement du modèle ML\", Start='2024-02-27', Finish='2024-03-24', Resource='Modélisation'),\n",
    "    dict(Task=\"Tests et Optimisation\", Start='2024-03-25', Finish='2024-03-31', Resource='Test'),\n",
    "    dict(Task=\"Documentation et Rapport Final\", Start='2024-04-01', Finish='2024-04-18', Resource='Documentation')\n",
    "]\n",
    "\n",
    "# Création du diagramme de Gantt\n",
    "fig = ff.create_gantt(tasks, index_col='Resource', show_colorbar=True, group_tasks=True)\n",
    "\n",
    "# Affichage du graphique\n",
    "fig.show()\n"
   ]
  },
  {
   "cell_type": "code",
   "execution_count": 30,
   "id": "7170a3fa-24c6-46d4-9ad7-a21ac0e846bf",
   "metadata": {},
   "outputs": [
    {
     "data": {
      "application/vnd.plotly.v1+json": {
       "config": {
        "plotlyServerURL": "https://plot.ly"
       },
       "data": [
        {
         "fill": "toself",
         "fillcolor": "rgb(140, 86, 75)",
         "hoverinfo": "name",
         "legendgroup": "rgb(140, 86, 75)",
         "mode": "none",
         "name": "Présentation",
         "showlegend": true,
         "type": "scatter",
         "x": [
          "2024-04-10",
          "2024-04-14",
          "2024-04-14",
          "2024-04-10"
         ],
         "y": [
          0.8,
          0.8,
          1.2,
          1.2
         ]
        },
        {
         "fill": "toself",
         "fillcolor": "rgb(148, 103, 189)",
         "hoverinfo": "name",
         "legendgroup": "rgb(148, 103, 189)",
         "mode": "none",
         "name": "Planification",
         "showlegend": true,
         "type": "scatter",
         "x": [
          "2024-02-27",
          "2024-03-03",
          "2024-03-03",
          "2024-02-27"
         ],
         "y": [
          6.8,
          6.8,
          7.2,
          7.2
         ]
        },
        {
         "fill": "toself",
         "fillcolor": "rgb(214, 39, 40)",
         "hoverinfo": "name",
         "legendgroup": "rgb(214, 39, 40)",
         "mode": "none",
         "name": "Développement",
         "showlegend": true,
         "type": "scatter",
         "x": [
          "2024-03-06",
          "2024-03-10",
          "2024-03-10",
          "2024-03-06"
         ],
         "y": [
          5.8,
          5.8,
          6.2,
          6.2
         ]
        },
        {
         "fill": "toself",
         "fillcolor": "rgb(227, 119, 194)",
         "hoverinfo": "name",
         "legendgroup": "rgb(227, 119, 194)",
         "mode": "none",
         "name": "Test",
         "showlegend": true,
         "type": "scatter",
         "x": [
          "2024-03-27",
          "2024-03-31",
          "2024-03-31",
          "2024-03-27"
         ],
         "y": [
          2.8,
          2.8,
          3.2,
          3.2
         ]
        },
        {
         "fill": "toself",
         "fillcolor": "rgb(255, 127, 14)",
         "hoverinfo": "name",
         "legendgroup": "rgb(255, 127, 14)",
         "mode": "none",
         "name": "Configuration",
         "showlegend": true,
         "type": "scatter",
         "x": [
          "2024-03-13",
          "2024-03-17",
          "2024-03-17",
          "2024-03-13",
          "2024-03-13",
          "2024-03-20",
          "2024-03-24",
          "2024-03-24",
          "2024-03-20"
         ],
         "y": [
          4.8,
          4.8,
          5.2,
          5.2,
          null,
          3.8,
          3.8,
          4.2,
          4.2
         ]
        },
        {
         "fill": "toself",
         "fillcolor": "rgb(31, 119, 180)",
         "hoverinfo": "name",
         "legendgroup": "rgb(31, 119, 180)",
         "mode": "none",
         "name": "Clôture",
         "showlegend": true,
         "type": "scatter",
         "x": [
          "2024-04-17",
          "2024-04-18",
          "2024-04-18",
          "2024-04-17"
         ],
         "y": [
          -0.2,
          -0.2,
          0.2,
          0.2
         ]
        },
        {
         "fill": "toself",
         "fillcolor": "rgb(44, 160, 44)",
         "hoverinfo": "name",
         "legendgroup": "rgb(44, 160, 44)",
         "mode": "none",
         "name": "Documentation",
         "showlegend": true,
         "type": "scatter",
         "x": [
          "2024-04-03",
          "2024-04-07",
          "2024-04-07",
          "2024-04-03"
         ],
         "y": [
          1.8,
          1.8,
          2.2,
          2.2
         ]
        },
        {
         "legendgroup": "rgb(140, 86, 75)",
         "marker": {
          "color": "rgb(140, 86, 75)",
          "opacity": 0,
          "size": 1
         },
         "mode": "markers",
         "name": "",
         "showlegend": false,
         "text": [
          null,
          null
         ],
         "type": "scatter",
         "x": [
          "2024-04-10",
          "2024-04-14"
         ],
         "y": [
          1,
          1
         ]
        },
        {
         "legendgroup": "rgb(148, 103, 189)",
         "marker": {
          "color": "rgb(148, 103, 189)",
          "opacity": 0,
          "size": 1
         },
         "mode": "markers",
         "name": "",
         "showlegend": false,
         "text": [
          null,
          null
         ],
         "type": "scatter",
         "x": [
          "2024-02-27",
          "2024-03-03"
         ],
         "y": [
          7,
          7
         ]
        },
        {
         "legendgroup": "rgb(214, 39, 40)",
         "marker": {
          "color": "rgb(214, 39, 40)",
          "opacity": 0,
          "size": 1
         },
         "mode": "markers",
         "name": "",
         "showlegend": false,
         "text": [
          null,
          null
         ],
         "type": "scatter",
         "x": [
          "2024-03-06",
          "2024-03-10"
         ],
         "y": [
          6,
          6
         ]
        },
        {
         "legendgroup": "rgb(227, 119, 194)",
         "marker": {
          "color": "rgb(227, 119, 194)",
          "opacity": 0,
          "size": 1
         },
         "mode": "markers",
         "name": "",
         "showlegend": false,
         "text": [
          null,
          null
         ],
         "type": "scatter",
         "x": [
          "2024-03-27",
          "2024-03-31"
         ],
         "y": [
          3,
          3
         ]
        },
        {
         "legendgroup": "rgb(255, 127, 14)",
         "marker": {
          "color": "rgb(255, 127, 14)",
          "opacity": 0,
          "size": 1
         },
         "mode": "markers",
         "name": "",
         "showlegend": false,
         "text": [
          null,
          null,
          null,
          null
         ],
         "type": "scatter",
         "x": [
          "2024-03-13",
          "2024-03-17",
          "2024-03-20",
          "2024-03-24"
         ],
         "y": [
          5,
          5,
          4,
          4
         ]
        },
        {
         "legendgroup": "rgb(31, 119, 180)",
         "marker": {
          "color": "rgb(31, 119, 180)",
          "opacity": 0,
          "size": 1
         },
         "mode": "markers",
         "name": "",
         "showlegend": false,
         "text": [
          null,
          null
         ],
         "type": "scatter",
         "x": [
          "2024-04-17",
          "2024-04-18"
         ],
         "y": [
          0,
          0
         ]
        },
        {
         "legendgroup": "rgb(44, 160, 44)",
         "marker": {
          "color": "rgb(44, 160, 44)",
          "opacity": 0,
          "size": 1
         },
         "mode": "markers",
         "name": "",
         "showlegend": false,
         "text": [
          null,
          null
         ],
         "type": "scatter",
         "x": [
          "2024-04-03",
          "2024-04-07"
         ],
         "y": [
          2,
          2
         ]
        }
       ],
       "layout": {
        "autosize": true,
        "hovermode": "closest",
        "showlegend": true,
        "template": {
         "data": {
          "bar": [
           {
            "error_x": {
             "color": "#2a3f5f"
            },
            "error_y": {
             "color": "#2a3f5f"
            },
            "marker": {
             "line": {
              "color": "#E5ECF6",
              "width": 0.5
             },
             "pattern": {
              "fillmode": "overlay",
              "size": 10,
              "solidity": 0.2
             }
            },
            "type": "bar"
           }
          ],
          "barpolar": [
           {
            "marker": {
             "line": {
              "color": "#E5ECF6",
              "width": 0.5
             },
             "pattern": {
              "fillmode": "overlay",
              "size": 10,
              "solidity": 0.2
             }
            },
            "type": "barpolar"
           }
          ],
          "carpet": [
           {
            "aaxis": {
             "endlinecolor": "#2a3f5f",
             "gridcolor": "white",
             "linecolor": "white",
             "minorgridcolor": "white",
             "startlinecolor": "#2a3f5f"
            },
            "baxis": {
             "endlinecolor": "#2a3f5f",
             "gridcolor": "white",
             "linecolor": "white",
             "minorgridcolor": "white",
             "startlinecolor": "#2a3f5f"
            },
            "type": "carpet"
           }
          ],
          "choropleth": [
           {
            "colorbar": {
             "outlinewidth": 0,
             "ticks": ""
            },
            "type": "choropleth"
           }
          ],
          "contour": [
           {
            "colorbar": {
             "outlinewidth": 0,
             "ticks": ""
            },
            "colorscale": [
             [
              0,
              "#0d0887"
             ],
             [
              0.1111111111111111,
              "#46039f"
             ],
             [
              0.2222222222222222,
              "#7201a8"
             ],
             [
              0.3333333333333333,
              "#9c179e"
             ],
             [
              0.4444444444444444,
              "#bd3786"
             ],
             [
              0.5555555555555556,
              "#d8576b"
             ],
             [
              0.6666666666666666,
              "#ed7953"
             ],
             [
              0.7777777777777778,
              "#fb9f3a"
             ],
             [
              0.8888888888888888,
              "#fdca26"
             ],
             [
              1,
              "#f0f921"
             ]
            ],
            "type": "contour"
           }
          ],
          "contourcarpet": [
           {
            "colorbar": {
             "outlinewidth": 0,
             "ticks": ""
            },
            "type": "contourcarpet"
           }
          ],
          "heatmap": [
           {
            "colorbar": {
             "outlinewidth": 0,
             "ticks": ""
            },
            "colorscale": [
             [
              0,
              "#0d0887"
             ],
             [
              0.1111111111111111,
              "#46039f"
             ],
             [
              0.2222222222222222,
              "#7201a8"
             ],
             [
              0.3333333333333333,
              "#9c179e"
             ],
             [
              0.4444444444444444,
              "#bd3786"
             ],
             [
              0.5555555555555556,
              "#d8576b"
             ],
             [
              0.6666666666666666,
              "#ed7953"
             ],
             [
              0.7777777777777778,
              "#fb9f3a"
             ],
             [
              0.8888888888888888,
              "#fdca26"
             ],
             [
              1,
              "#f0f921"
             ]
            ],
            "type": "heatmap"
           }
          ],
          "heatmapgl": [
           {
            "colorbar": {
             "outlinewidth": 0,
             "ticks": ""
            },
            "colorscale": [
             [
              0,
              "#0d0887"
             ],
             [
              0.1111111111111111,
              "#46039f"
             ],
             [
              0.2222222222222222,
              "#7201a8"
             ],
             [
              0.3333333333333333,
              "#9c179e"
             ],
             [
              0.4444444444444444,
              "#bd3786"
             ],
             [
              0.5555555555555556,
              "#d8576b"
             ],
             [
              0.6666666666666666,
              "#ed7953"
             ],
             [
              0.7777777777777778,
              "#fb9f3a"
             ],
             [
              0.8888888888888888,
              "#fdca26"
             ],
             [
              1,
              "#f0f921"
             ]
            ],
            "type": "heatmapgl"
           }
          ],
          "histogram": [
           {
            "marker": {
             "pattern": {
              "fillmode": "overlay",
              "size": 10,
              "solidity": 0.2
             }
            },
            "type": "histogram"
           }
          ],
          "histogram2d": [
           {
            "colorbar": {
             "outlinewidth": 0,
             "ticks": ""
            },
            "colorscale": [
             [
              0,
              "#0d0887"
             ],
             [
              0.1111111111111111,
              "#46039f"
             ],
             [
              0.2222222222222222,
              "#7201a8"
             ],
             [
              0.3333333333333333,
              "#9c179e"
             ],
             [
              0.4444444444444444,
              "#bd3786"
             ],
             [
              0.5555555555555556,
              "#d8576b"
             ],
             [
              0.6666666666666666,
              "#ed7953"
             ],
             [
              0.7777777777777778,
              "#fb9f3a"
             ],
             [
              0.8888888888888888,
              "#fdca26"
             ],
             [
              1,
              "#f0f921"
             ]
            ],
            "type": "histogram2d"
           }
          ],
          "histogram2dcontour": [
           {
            "colorbar": {
             "outlinewidth": 0,
             "ticks": ""
            },
            "colorscale": [
             [
              0,
              "#0d0887"
             ],
             [
              0.1111111111111111,
              "#46039f"
             ],
             [
              0.2222222222222222,
              "#7201a8"
             ],
             [
              0.3333333333333333,
              "#9c179e"
             ],
             [
              0.4444444444444444,
              "#bd3786"
             ],
             [
              0.5555555555555556,
              "#d8576b"
             ],
             [
              0.6666666666666666,
              "#ed7953"
             ],
             [
              0.7777777777777778,
              "#fb9f3a"
             ],
             [
              0.8888888888888888,
              "#fdca26"
             ],
             [
              1,
              "#f0f921"
             ]
            ],
            "type": "histogram2dcontour"
           }
          ],
          "mesh3d": [
           {
            "colorbar": {
             "outlinewidth": 0,
             "ticks": ""
            },
            "type": "mesh3d"
           }
          ],
          "parcoords": [
           {
            "line": {
             "colorbar": {
              "outlinewidth": 0,
              "ticks": ""
             }
            },
            "type": "parcoords"
           }
          ],
          "pie": [
           {
            "automargin": true,
            "type": "pie"
           }
          ],
          "scatter": [
           {
            "fillpattern": {
             "fillmode": "overlay",
             "size": 10,
             "solidity": 0.2
            },
            "type": "scatter"
           }
          ],
          "scatter3d": [
           {
            "line": {
             "colorbar": {
              "outlinewidth": 0,
              "ticks": ""
             }
            },
            "marker": {
             "colorbar": {
              "outlinewidth": 0,
              "ticks": ""
             }
            },
            "type": "scatter3d"
           }
          ],
          "scattercarpet": [
           {
            "marker": {
             "colorbar": {
              "outlinewidth": 0,
              "ticks": ""
             }
            },
            "type": "scattercarpet"
           }
          ],
          "scattergeo": [
           {
            "marker": {
             "colorbar": {
              "outlinewidth": 0,
              "ticks": ""
             }
            },
            "type": "scattergeo"
           }
          ],
          "scattergl": [
           {
            "marker": {
             "colorbar": {
              "outlinewidth": 0,
              "ticks": ""
             }
            },
            "type": "scattergl"
           }
          ],
          "scattermapbox": [
           {
            "marker": {
             "colorbar": {
              "outlinewidth": 0,
              "ticks": ""
             }
            },
            "type": "scattermapbox"
           }
          ],
          "scatterpolar": [
           {
            "marker": {
             "colorbar": {
              "outlinewidth": 0,
              "ticks": ""
             }
            },
            "type": "scatterpolar"
           }
          ],
          "scatterpolargl": [
           {
            "marker": {
             "colorbar": {
              "outlinewidth": 0,
              "ticks": ""
             }
            },
            "type": "scatterpolargl"
           }
          ],
          "scatterternary": [
           {
            "marker": {
             "colorbar": {
              "outlinewidth": 0,
              "ticks": ""
             }
            },
            "type": "scatterternary"
           }
          ],
          "surface": [
           {
            "colorbar": {
             "outlinewidth": 0,
             "ticks": ""
            },
            "colorscale": [
             [
              0,
              "#0d0887"
             ],
             [
              0.1111111111111111,
              "#46039f"
             ],
             [
              0.2222222222222222,
              "#7201a8"
             ],
             [
              0.3333333333333333,
              "#9c179e"
             ],
             [
              0.4444444444444444,
              "#bd3786"
             ],
             [
              0.5555555555555556,
              "#d8576b"
             ],
             [
              0.6666666666666666,
              "#ed7953"
             ],
             [
              0.7777777777777778,
              "#fb9f3a"
             ],
             [
              0.8888888888888888,
              "#fdca26"
             ],
             [
              1,
              "#f0f921"
             ]
            ],
            "type": "surface"
           }
          ],
          "table": [
           {
            "cells": {
             "fill": {
              "color": "#EBF0F8"
             },
             "line": {
              "color": "white"
             }
            },
            "header": {
             "fill": {
              "color": "#C8D4E3"
             },
             "line": {
              "color": "white"
             }
            },
            "type": "table"
           }
          ]
         },
         "layout": {
          "annotationdefaults": {
           "arrowcolor": "#2a3f5f",
           "arrowhead": 0,
           "arrowwidth": 1
          },
          "autotypenumbers": "strict",
          "coloraxis": {
           "colorbar": {
            "outlinewidth": 0,
            "ticks": ""
           }
          },
          "colorscale": {
           "diverging": [
            [
             0,
             "#8e0152"
            ],
            [
             0.1,
             "#c51b7d"
            ],
            [
             0.2,
             "#de77ae"
            ],
            [
             0.3,
             "#f1b6da"
            ],
            [
             0.4,
             "#fde0ef"
            ],
            [
             0.5,
             "#f7f7f7"
            ],
            [
             0.6,
             "#e6f5d0"
            ],
            [
             0.7,
             "#b8e186"
            ],
            [
             0.8,
             "#7fbc41"
            ],
            [
             0.9,
             "#4d9221"
            ],
            [
             1,
             "#276419"
            ]
           ],
           "sequential": [
            [
             0,
             "#0d0887"
            ],
            [
             0.1111111111111111,
             "#46039f"
            ],
            [
             0.2222222222222222,
             "#7201a8"
            ],
            [
             0.3333333333333333,
             "#9c179e"
            ],
            [
             0.4444444444444444,
             "#bd3786"
            ],
            [
             0.5555555555555556,
             "#d8576b"
            ],
            [
             0.6666666666666666,
             "#ed7953"
            ],
            [
             0.7777777777777778,
             "#fb9f3a"
            ],
            [
             0.8888888888888888,
             "#fdca26"
            ],
            [
             1,
             "#f0f921"
            ]
           ],
           "sequentialminus": [
            [
             0,
             "#0d0887"
            ],
            [
             0.1111111111111111,
             "#46039f"
            ],
            [
             0.2222222222222222,
             "#7201a8"
            ],
            [
             0.3333333333333333,
             "#9c179e"
            ],
            [
             0.4444444444444444,
             "#bd3786"
            ],
            [
             0.5555555555555556,
             "#d8576b"
            ],
            [
             0.6666666666666666,
             "#ed7953"
            ],
            [
             0.7777777777777778,
             "#fb9f3a"
            ],
            [
             0.8888888888888888,
             "#fdca26"
            ],
            [
             1,
             "#f0f921"
            ]
           ]
          },
          "colorway": [
           "#636efa",
           "#EF553B",
           "#00cc96",
           "#ab63fa",
           "#FFA15A",
           "#19d3f3",
           "#FF6692",
           "#B6E880",
           "#FF97FF",
           "#FECB52"
          ],
          "font": {
           "color": "#2a3f5f"
          },
          "geo": {
           "bgcolor": "white",
           "lakecolor": "white",
           "landcolor": "#E5ECF6",
           "showlakes": true,
           "showland": true,
           "subunitcolor": "white"
          },
          "hoverlabel": {
           "align": "left"
          },
          "hovermode": "closest",
          "mapbox": {
           "style": "light"
          },
          "paper_bgcolor": "white",
          "plot_bgcolor": "#E5ECF6",
          "polar": {
           "angularaxis": {
            "gridcolor": "white",
            "linecolor": "white",
            "ticks": ""
           },
           "bgcolor": "#E5ECF6",
           "radialaxis": {
            "gridcolor": "white",
            "linecolor": "white",
            "ticks": ""
           }
          },
          "scene": {
           "xaxis": {
            "backgroundcolor": "#E5ECF6",
            "gridcolor": "white",
            "gridwidth": 2,
            "linecolor": "white",
            "showbackground": true,
            "ticks": "",
            "zerolinecolor": "white"
           },
           "yaxis": {
            "backgroundcolor": "#E5ECF6",
            "gridcolor": "white",
            "gridwidth": 2,
            "linecolor": "white",
            "showbackground": true,
            "ticks": "",
            "zerolinecolor": "white"
           },
           "zaxis": {
            "backgroundcolor": "#E5ECF6",
            "gridcolor": "white",
            "gridwidth": 2,
            "linecolor": "white",
            "showbackground": true,
            "ticks": "",
            "zerolinecolor": "white"
           }
          },
          "shapedefaults": {
           "line": {
            "color": "#2a3f5f"
           }
          },
          "ternary": {
           "aaxis": {
            "gridcolor": "white",
            "linecolor": "white",
            "ticks": ""
           },
           "baxis": {
            "gridcolor": "white",
            "linecolor": "white",
            "ticks": ""
           },
           "bgcolor": "#E5ECF6",
           "caxis": {
            "gridcolor": "white",
            "linecolor": "white",
            "ticks": ""
           }
          },
          "title": {
           "x": 0.05
          },
          "xaxis": {
           "automargin": true,
           "gridcolor": "white",
           "linecolor": "white",
           "ticks": "",
           "title": {
            "standoff": 15
           },
           "zerolinecolor": "white",
           "zerolinewidth": 2
          },
          "yaxis": {
           "automargin": true,
           "gridcolor": "white",
           "linecolor": "white",
           "ticks": "",
           "title": {
            "standoff": 15
           },
           "zerolinecolor": "white",
           "zerolinewidth": 2
          }
         }
        },
        "title": {
         "text": "Gantt Chart"
        },
        "xaxis": {
         "autorange": true,
         "range": [
          "2024-02-23 21:40:49.0706",
          "2024-04-21 02:19:10.9294"
         ],
         "rangeselector": {
          "buttons": [
           {
            "count": 7,
            "label": "1w",
            "step": "day",
            "stepmode": "backward"
           },
           {
            "count": 1,
            "label": "1m",
            "step": "month",
            "stepmode": "backward"
           },
           {
            "count": 6,
            "label": "6m",
            "step": "month",
            "stepmode": "backward"
           },
           {
            "count": 1,
            "label": "YTD",
            "step": "year",
            "stepmode": "todate"
           },
           {
            "count": 1,
            "label": "1y",
            "step": "year",
            "stepmode": "backward"
           },
           {
            "step": "all"
           }
          ]
         },
         "showgrid": false,
         "type": "date",
         "zeroline": false
        },
        "yaxis": {
         "autorange": false,
         "range": [
          -1,
          9
         ],
         "showgrid": false,
         "ticktext": [
          "Clôture Stage",
          "Présentation Projet",
          "Documentation",
          "Optimisation et Tests",
          "Configuration Clients VPN",
          "Configuration Routeurs/Serveurs",
          "Conception Topologie",
          "Préparation"
         ],
         "tickvals": [
          0,
          1,
          2,
          3,
          4,
          5,
          6,
          7
         ],
         "type": "linear",
         "zeroline": false
        }
       }
      },
      "image/png": "[encoded data removed]",
      "text/html": [
       "<div>                            <div id=\"fc4d25a8-ea21-422f-b8cb-b359682eadd3\" class=\"plotly-graph-div\" style=\"height:600px; width:100%;\"></div>            <script type=\"text/javascript\">                require([\"plotly\"], function(Plotly) {                    window.PLOTLYENV=window.PLOTLYENV || {};                                    if (document.getElementById(\"fc4d25a8-ea21-422f-b8cb-b359682eadd3\")) {                    Plotly.newPlot(                        \"fc4d25a8-ea21-422f-b8cb-b359682eadd3\",                        [{\"fill\":\"toself\",\"fillcolor\":\"rgb(140, 86, 75)\",\"hoverinfo\":\"name\",\"legendgroup\":\"rgb(140, 86, 75)\",\"mode\":\"none\",\"name\":\"Pr\\u00e9sentation\",\"showlegend\":true,\"x\":[\"2024-04-10\",\"2024-04-14\",\"2024-04-14\",\"2024-04-10\"],\"y\":[0.8,0.8,1.2,1.2],\"type\":\"scatter\"},{\"fill\":\"toself\",\"fillcolor\":\"rgb(148, 103, 189)\",\"hoverinfo\":\"name\",\"legendgroup\":\"rgb(148, 103, 189)\",\"mode\":\"none\",\"name\":\"Planification\",\"showlegend\":true,\"x\":[\"2024-02-27\",\"2024-03-03\",\"2024-03-03\",\"2024-02-27\"],\"y\":[6.8,6.8,7.2,7.2],\"type\":\"scatter\"},{\"fill\":\"toself\",\"fillcolor\":\"rgb(214, 39, 40)\",\"hoverinfo\":\"name\",\"legendgroup\":\"rgb(214, 39, 40)\",\"mode\":\"none\",\"name\":\"D\\u00e9veloppement\",\"showlegend\":true,\"x\":[\"2024-03-06\",\"2024-03-10\",\"2024-03-10\",\"2024-03-06\"],\"y\":[5.8,5.8,6.2,6.2],\"type\":\"scatter\"},{\"fill\":\"toself\",\"fillcolor\":\"rgb(227, 119, 194)\",\"hoverinfo\":\"name\",\"legendgroup\":\"rgb(227, 119, 194)\",\"mode\":\"none\",\"name\":\"Test\",\"showlegend\":true,\"x\":[\"2024-03-27\",\"2024-03-31\",\"2024-03-31\",\"2024-03-27\"],\"y\":[2.8,2.8,3.2,3.2],\"type\":\"scatter\"},{\"fill\":\"toself\",\"fillcolor\":\"rgb(255, 127, 14)\",\"hoverinfo\":\"name\",\"legendgroup\":\"rgb(255, 127, 14)\",\"mode\":\"none\",\"name\":\"Configuration\",\"showlegend\":true,\"x\":[\"2024-03-13\",\"2024-03-17\",\"2024-03-17\",\"2024-03-13\",\"2024-03-13\",\"2024-03-20\",\"2024-03-24\",\"2024-03-24\",\"2024-03-20\"],\"y\":[4.8,4.8,5.2,5.2,null,3.8,3.8,4.2,4.2],\"type\":\"scatter\"},{\"fill\":\"toself\",\"fillcolor\":\"rgb(31, 119, 180)\",\"hoverinfo\":\"name\",\"legendgroup\":\"rgb(31, 119, 180)\",\"mode\":\"none\",\"name\":\"Cl\\u00f4ture\",\"showlegend\":true,\"x\":[\"2024-04-17\",\"2024-04-18\",\"2024-04-18\",\"2024-04-17\"],\"y\":[-0.2,-0.2,0.2,0.2],\"type\":\"scatter\"},{\"fill\":\"toself\",\"fillcolor\":\"rgb(44, 160, 44)\",\"hoverinfo\":\"name\",\"legendgroup\":\"rgb(44, 160, 44)\",\"mode\":\"none\",\"name\":\"Documentation\",\"showlegend\":true,\"x\":[\"2024-04-03\",\"2024-04-07\",\"2024-04-07\",\"2024-04-03\"],\"y\":[1.8,1.8,2.2,2.2],\"type\":\"scatter\"},{\"legendgroup\":\"rgb(140, 86, 75)\",\"marker\":{\"color\":\"rgb(140, 86, 75)\",\"opacity\":0,\"size\":1},\"mode\":\"markers\",\"name\":\"\",\"showlegend\":false,\"text\":[null,null],\"x\":[\"2024-04-10\",\"2024-04-14\"],\"y\":[1,1],\"type\":\"scatter\"},{\"legendgroup\":\"rgb(148, 103, 189)\",\"marker\":{\"color\":\"rgb(148, 103, 189)\",\"opacity\":0,\"size\":1},\"mode\":\"markers\",\"name\":\"\",\"showlegend\":false,\"text\":[null,null],\"x\":[\"2024-02-27\",\"2024-03-03\"],\"y\":[7,7],\"type\":\"scatter\"},{\"legendgroup\":\"rgb(214, 39, 40)\",\"marker\":{\"color\":\"rgb(214, 39, 40)\",\"opacity\":0,\"size\":1},\"mode\":\"markers\",\"name\":\"\",\"showlegend\":false,\"text\":[null,null],\"x\":[\"2024-03-06\",\"2024-03-10\"],\"y\":[6,6],\"type\":\"scatter\"},{\"legendgroup\":\"rgb(227, 119, 194)\",\"marker\":{\"color\":\"rgb(227, 119, 194)\",\"opacity\":0,\"size\":1},\"mode\":\"markers\",\"name\":\"\",\"showlegend\":false,\"text\":[null,null],\"x\":[\"2024-03-27\",\"2024-03-31\"],\"y\":[3,3],\"type\":\"scatter\"},{\"legendgroup\":\"rgb(255, 127, 14)\",\"marker\":{\"color\":\"rgb(255, 127, 14)\",\"opacity\":0,\"size\":1},\"mode\":\"markers\",\"name\":\"\",\"showlegend\":false,\"text\":[null,null,null,null],\"x\":[\"2024-03-13\",\"2024-03-17\",\"2024-03-20\",\"2024-03-24\"],\"y\":[5,5,4,4],\"type\":\"scatter\"},{\"legendgroup\":\"rgb(31, 119, 180)\",\"marker\":{\"color\":\"rgb(31, 119, 180)\",\"opacity\":0,\"size\":1},\"mode\":\"markers\",\"name\":\"\",\"showlegend\":false,\"text\":[null,null],\"x\":[\"2024-04-17\",\"2024-04-18\"],\"y\":[0,0],\"type\":\"scatter\"},{\"legendgroup\":\"rgb(44, 160, 44)\",\"marker\":{\"color\":\"rgb(44, 160, 44)\",\"opacity\":0,\"size\":1},\"mode\":\"markers\",\"name\":\"\",\"showlegend\":false,\"text\":[null,null],\"x\":[\"2024-04-03\",\"2024-04-07\"],\"y\":[2,2],\"type\":\"scatter\"}],                        {\"height\":600,\"hovermode\":\"closest\",\"showlegend\":true,\"title\":{\"text\":\"Gantt Chart\"},\"xaxis\":{\"rangeselector\":{\"buttons\":[{\"count\":7,\"label\":\"1w\",\"step\":\"day\",\"stepmode\":\"backward\"},{\"count\":1,\"label\":\"1m\",\"step\":\"month\",\"stepmode\":\"backward\"},{\"count\":6,\"label\":\"6m\",\"step\":\"month\",\"stepmode\":\"backward\"},{\"count\":1,\"label\":\"YTD\",\"step\":\"year\",\"stepmode\":\"todate\"},{\"count\":1,\"label\":\"1y\",\"step\":\"year\",\"stepmode\":\"backward\"},{\"step\":\"all\"}]},\"showgrid\":false,\"type\":\"date\",\"zeroline\":false},\"yaxis\":{\"autorange\":false,\"range\":[-1,9],\"showgrid\":false,\"ticktext\":[\"Cl\\u00f4ture Stage\",\"Pr\\u00e9sentation Projet\",\"Documentation\",\"Optimisation et Tests\",\"Configuration Clients VPN\",\"Configuration Routeurs/Serveurs\",\"Conception Topologie\",\"Pr\\u00e9paration\"],\"tickvals\":[0,1,2,3,4,5,6,7],\"zeroline\":false},\"template\":{\"data\":{\"histogram2dcontour\":[{\"type\":\"histogram2dcontour\",\"colorbar\":{\"outlinewidth\":0,\"ticks\":\"\"},\"colorscale\":[[0.0,\"#0d0887\"],[0.1111111111111111,\"#46039f\"],[0.2222222222222222,\"#7201a8\"],[0.3333333333333333,\"#9c179e\"],[0.4444444444444444,\"#bd3786\"],[0.5555555555555556,\"#d8576b\"],[0.6666666666666666,\"#ed7953\"],[0.7777777777777778,\"#fb9f3a\"],[0.8888888888888888,\"#fdca26\"],[1.0,\"#f0f921\"]]}],\"choropleth\":[{\"type\":\"choropleth\",\"colorbar\":{\"outlinewidth\":0,\"ticks\":\"\"}}],\"histogram2d\":[{\"type\":\"histogram2d\",\"colorbar\":{\"outlinewidth\":0,\"ticks\":\"\"},\"colorscale\":[[0.0,\"#0d0887\"],[0.1111111111111111,\"#46039f\"],[0.2222222222222222,\"#7201a8\"],[0.3333333333333333,\"#9c179e\"],[0.4444444444444444,\"#bd3786\"],[0.5555555555555556,\"#d8576b\"],[0.6666666666666666,\"#ed7953\"],[0.7777777777777778,\"#fb9f3a\"],[0.8888888888888888,\"#fdca26\"],[1.0,\"#f0f921\"]]}],\"heatmap\":[{\"type\":\"heatmap\",\"colorbar\":{\"outlinewidth\":0,\"ticks\":\"\"},\"colorscale\":[[0.0,\"#0d0887\"],[0.1111111111111111,\"#46039f\"],[0.2222222222222222,\"#7201a8\"],[0.3333333333333333,\"#9c179e\"],[0.4444444444444444,\"#bd3786\"],[0.5555555555555556,\"#d8576b\"],[0.6666666666666666,\"#ed7953\"],[0.7777777777777778,\"#fb9f3a\"],[0.8888888888888888,\"#fdca26\"],[1.0,\"#f0f921\"]]}],\"heatmapgl\":[{\"type\":\"heatmapgl\",\"colorbar\":{\"outlinewidth\":0,\"ticks\":\"\"},\"colorscale\":[[0.0,\"#0d0887\"],[0.1111111111111111,\"#46039f\"],[0.2222222222222222,\"#7201a8\"],[0.3333333333333333,\"#9c179e\"],[0.4444444444444444,\"#bd3786\"],[0.5555555555555556,\"#d8576b\"],[0.6666666666666666,\"#ed7953\"],[0.7777777777777778,\"#fb9f3a\"],[0.8888888888888888,\"#fdca26\"],[1.0,\"#f0f921\"]]}],\"contourcarpet\":[{\"type\":\"contourcarpet\",\"colorbar\":{\"outlinewidth\":0,\"ticks\":\"\"}}],\"contour\":[{\"type\":\"contour\",\"colorbar\":{\"outlinewidth\":0,\"ticks\":\"\"},\"colorscale\":[[0.0,\"#0d0887\"],[0.1111111111111111,\"#46039f\"],[0.2222222222222222,\"#7201a8\"],[0.3333333333333333,\"#9c179e\"],[0.4444444444444444,\"#bd3786\"],[0.5555555555555556,\"#d8576b\"],[0.6666666666666666,\"#ed7953\"],[0.7777777777777778,\"#fb9f3a\"],[0.8888888888888888,\"#fdca26\"],[1.0,\"#f0f921\"]]}],\"surface\":[{\"type\":\"surface\",\"colorbar\":{\"outlinewidth\":0,\"ticks\":\"\"},\"colorscale\":[[0.0,\"#0d0887\"],[0.1111111111111111,\"#46039f\"],[0.2222222222222222,\"#7201a8\"],[0.3333333333333333,\"#9c179e\"],[0.4444444444444444,\"#bd3786\"],[0.5555555555555556,\"#d8576b\"],[0.6666666666666666,\"#ed7953\"],[0.7777777777777778,\"#fb9f3a\"],[0.8888888888888888,\"#fdca26\"],[1.0,\"#f0f921\"]]}],\"mesh3d\":[{\"type\":\"mesh3d\",\"colorbar\":{\"outlinewidth\":0,\"ticks\":\"\"}}],\"scatter\":[{\"fillpattern\":{\"fillmode\":\"overlay\",\"size\":10,\"solidity\":0.2},\"type\":\"scatter\"}],\"parcoords\":[{\"type\":\"parcoords\",\"line\":{\"colorbar\":{\"outlinewidth\":0,\"ticks\":\"\"}}}],\"scatterpolargl\":[{\"type\":\"scatterpolargl\",\"marker\":{\"colorbar\":{\"outlinewidth\":0,\"ticks\":\"\"}}}],\"bar\":[{\"error_x\":{\"color\":\"#2a3f5f\"},\"error_y\":{\"color\":\"#2a3f5f\"},\"marker\":{\"line\":{\"color\":\"#E5ECF6\",\"width\":0.5},\"pattern\":{\"fillmode\":\"overlay\",\"size\":10,\"solidity\":0.2}},\"type\":\"bar\"}],\"scattergeo\":[{\"type\":\"scattergeo\",\"marker\":{\"colorbar\":{\"outlinewidth\":0,\"ticks\":\"\"}}}],\"scatterpolar\":[{\"type\":\"scatterpolar\",\"marker\":{\"colorbar\":{\"outlinewidth\":0,\"ticks\":\"\"}}}],\"histogram\":[{\"marker\":{\"pattern\":{\"fillmode\":\"overlay\",\"size\":10,\"solidity\":0.2}},\"type\":\"histogram\"}],\"scattergl\":[{\"type\":\"scattergl\",\"marker\":{\"colorbar\":{\"outlinewidth\":0,\"ticks\":\"\"}}}],\"scatter3d\":[{\"type\":\"scatter3d\",\"line\":{\"colorbar\":{\"outlinewidth\":0,\"ticks\":\"\"}},\"marker\":{\"colorbar\":{\"outlinewidth\":0,\"ticks\":\"\"}}}],\"scattermapbox\":[{\"type\":\"scattermapbox\",\"marker\":{\"colorbar\":{\"outlinewidth\":0,\"ticks\":\"\"}}}],\"scatterternary\":[{\"type\":\"scatterternary\",\"marker\":{\"colorbar\":{\"outlinewidth\":0,\"ticks\":\"\"}}}],\"scattercarpet\":[{\"type\":\"scattercarpet\",\"marker\":{\"colorbar\":{\"outlinewidth\":0,\"ticks\":\"\"}}}],\"carpet\":[{\"aaxis\":{\"endlinecolor\":\"#2a3f5f\",\"gridcolor\":\"white\",\"linecolor\":\"white\",\"minorgridcolor\":\"white\",\"startlinecolor\":\"#2a3f5f\"},\"baxis\":{\"endlinecolor\":\"#2a3f5f\",\"gridcolor\":\"white\",\"linecolor\":\"white\",\"minorgridcolor\":\"white\",\"startlinecolor\":\"#2a3f5f\"},\"type\":\"carpet\"}],\"table\":[{\"cells\":{\"fill\":{\"color\":\"#EBF0F8\"},\"line\":{\"color\":\"white\"}},\"header\":{\"fill\":{\"color\":\"#C8D4E3\"},\"line\":{\"color\":\"white\"}},\"type\":\"table\"}],\"barpolar\":[{\"marker\":{\"line\":{\"color\":\"#E5ECF6\",\"width\":0.5},\"pattern\":{\"fillmode\":\"overlay\",\"size\":10,\"solidity\":0.2}},\"type\":\"barpolar\"}],\"pie\":[{\"automargin\":true,\"type\":\"pie\"}]},\"layout\":{\"autotypenumbers\":\"strict\",\"colorway\":[\"#636efa\",\"#EF553B\",\"#00cc96\",\"#ab63fa\",\"#FFA15A\",\"#19d3f3\",\"#FF6692\",\"#B6E880\",\"#FF97FF\",\"#FECB52\"],\"font\":{\"color\":\"#2a3f5f\"},\"hovermode\":\"closest\",\"hoverlabel\":{\"align\":\"left\"},\"paper_bgcolor\":\"white\",\"plot_bgcolor\":\"#E5ECF6\",\"polar\":{\"bgcolor\":\"#E5ECF6\",\"angularaxis\":{\"gridcolor\":\"white\",\"linecolor\":\"white\",\"ticks\":\"\"},\"radialaxis\":{\"gridcolor\":\"white\",\"linecolor\":\"white\",\"ticks\":\"\"}},\"ternary\":{\"bgcolor\":\"#E5ECF6\",\"aaxis\":{\"gridcolor\":\"white\",\"linecolor\":\"white\",\"ticks\":\"\"},\"baxis\":{\"gridcolor\":\"white\",\"linecolor\":\"white\",\"ticks\":\"\"},\"caxis\":{\"gridcolor\":\"white\",\"linecolor\":\"white\",\"ticks\":\"\"}},\"coloraxis\":{\"colorbar\":{\"outlinewidth\":0,\"ticks\":\"\"}},\"colorscale\":{\"sequential\":[[0.0,\"#0d0887\"],[0.1111111111111111,\"#46039f\"],[0.2222222222222222,\"#7201a8\"],[0.3333333333333333,\"#9c179e\"],[0.4444444444444444,\"#bd3786\"],[0.5555555555555556,\"#d8576b\"],[0.6666666666666666,\"#ed7953\"],[0.7777777777777778,\"#fb9f3a\"],[0.8888888888888888,\"#fdca26\"],[1.0,\"#f0f921\"]],\"sequentialminus\":[[0.0,\"#0d0887\"],[0.1111111111111111,\"#46039f\"],[0.2222222222222222,\"#7201a8\"],[0.3333333333333333,\"#9c179e\"],[0.4444444444444444,\"#bd3786\"],[0.5555555555555556,\"#d8576b\"],[0.6666666666666666,\"#ed7953\"],[0.7777777777777778,\"#fb9f3a\"],[0.8888888888888888,\"#fdca26\"],[1.0,\"#f0f921\"]],\"diverging\":[[0,\"#8e0152\"],[0.1,\"#c51b7d\"],[0.2,\"#de77ae\"],[0.3,\"#f1b6da\"],[0.4,\"#fde0ef\"],[0.5,\"#f7f7f7\"],[0.6,\"#e6f5d0\"],[0.7,\"#b8e186\"],[0.8,\"#7fbc41\"],[0.9,\"#4d9221\"],[1,\"#276419\"]]},\"xaxis\":{\"gridcolor\":\"white\",\"linecolor\":\"white\",\"ticks\":\"\",\"title\":{\"standoff\":15},\"zerolinecolor\":\"white\",\"automargin\":true,\"zerolinewidth\":2},\"yaxis\":{\"gridcolor\":\"white\",\"linecolor\":\"white\",\"ticks\":\"\",\"title\":{\"standoff\":15},\"zerolinecolor\":\"white\",\"automargin\":true,\"zerolinewidth\":2},\"scene\":{\"xaxis\":{\"backgroundcolor\":\"#E5ECF6\",\"gridcolor\":\"white\",\"linecolor\":\"white\",\"showbackground\":true,\"ticks\":\"\",\"zerolinecolor\":\"white\",\"gridwidth\":2},\"yaxis\":{\"backgroundcolor\":\"#E5ECF6\",\"gridcolor\":\"white\",\"linecolor\":\"white\",\"showbackground\":true,\"ticks\":\"\",\"zerolinecolor\":\"white\",\"gridwidth\":2},\"zaxis\":{\"backgroundcolor\":\"#E5ECF6\",\"gridcolor\":\"white\",\"linecolor\":\"white\",\"showbackground\":true,\"ticks\":\"\",\"zerolinecolor\":\"white\",\"gridwidth\":2}},\"shapedefaults\":{\"line\":{\"color\":\"#2a3f5f\"}},\"annotationdefaults\":{\"arrowcolor\":\"#2a3f5f\",\"arrowhead\":0,\"arrowwidth\":1},\"geo\":{\"bgcolor\":\"white\",\"landcolor\":\"#E5ECF6\",\"subunitcolor\":\"white\",\"showland\":true,\"showlakes\":true,\"lakecolor\":\"white\"},\"title\":{\"x\":0.05},\"mapbox\":{\"style\":\"light\"}}}},                        {\"responsive\": true}                    ).then(function(){\n",
       "                            \n",
       "var gd = document.getElementById('fc4d25a8-ea21-422f-b8cb-b359682eadd3');\n",
       "var x = new MutationObserver(function (mutations, observer) {{\n",
       "        var display = window.getComputedStyle(gd).display;\n",
       "        if (!display || display === 'none') {{\n",
       "            console.log([gd, 'removed!']);\n",
       "            Plotly.purge(gd);\n",
       "            observer.disconnect();\n",
       "        }}\n",
       "}});\n",
       "\n",
       "// Listen for the removal of the full notebook cells\n",
       "var notebookContainer = gd.closest('#notebook-container');\n",
       "if (notebookContainer) {{\n",
       "    x.observe(notebookContainer, {childList: true});\n",
       "}}\n",
       "\n",
       "// Listen for the clearing of the current output cell\n",
       "var outputEl = gd.closest('.output');\n",
       "if (outputEl) {{\n",
       "    x.observe(outputEl, {childList: true});\n",
       "}}\n",
       "\n",
       "                        })                };                });            </script>        </div>"
      ]
     },
     "metadata": {},
     "output_type": "display_data"
    }
   ],
   "source": [
    "import plotly.figure_factory as ff\n",
    "import datetime\n",
    "\n",
    "#Définition des tâches avec leurs dates de début et de fin\n",
    "tasks = [\n",
    "    dict(Task=\"Préparation\", Start='2024-02-27', Finish='2024-03-03', Resource='Planification'),\n",
    "    dict(Task=\"Conception Topologie\", Start='2024-03-06', Finish='2024-03-10', Resource='Développement'),\n",
    "    dict(Task=\"Configuration Routeurs/Serveurs\", Start='2024-03-13', Finish='2024-03-17', Resource='Configuration'),\n",
    "    dict(Task=\"Configuration Clients VPN\", Start='2024-03-20', Finish='2024-03-24', Resource='Configuration'),\n",
    "    dict(Task=\"Optimisation et Tests\", Start='2024-03-27', Finish='2024-03-31', Resource='Test'),\n",
    "    dict(Task=\"Documentation\", Start='2024-04-03', Finish='2024-04-07', Resource='Documentation'),\n",
    "    dict(Task=\"Présentation Projet\", Start='2024-04-10', Finish='2024-04-14', Resource='Présentation'),\n",
    "    dict(Task=\"Clôture Stage\", Start='2024-04-17', Finish='2024-04-18', Resource='Clôture')\n",
    "]\n",
    "\n",
    "#Création du diagramme de Gantt\n",
    "fig = ff.create_gantt(tasks, index_col='Resource', show_colorbar=True, group_tasks=True)\n",
    "\n",
    "#Affichage du graphique\n",
    "fig.show()"
   ]
  },
  {
   "cell_type": "code",
   "execution_count": null,
   "id": "68dcf90c-565b-4e55-8354-e4c186643b76",
   "metadata": {},
   "outputs": [],
   "source": []
  }
 ],
 "metadata": {
  "kernelspec": {
   "display_name": "Python 3 (ipykernel)",
   "language": "python",
   "name": "python3"
  },
  "language_info": {
   "codemirror_mode": {
    "name": "ipython",
    "version": 3
   },
   "file_extension": ".py",
   "mimetype": "text/x-python",
   "name": "python",
   "nbconvert_exporter": "python",
   "pygments_lexer": "ipython3",
   "version": "3.11.7"
  }
 },
 "nbformat": 4,
 "nbformat_minor": 5
}

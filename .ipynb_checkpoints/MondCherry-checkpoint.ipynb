{
 "cells": [
  {
   "cell_type": "markdown",
   "id": "d4e07c7d-6782-4be8-b43e-6ac3d250b0a3",
   "metadata": {},
   "source": [
    "# conseption et realisation d'un dashbord et d'un modele de detection de fraude des données de la Direction des Grandes Entreprise"
   ]
  },
  {
   "cell_type": "markdown",
   "id": "8dddca74-d93c-4f68-8203-891b0dd89018",
   "metadata": {},
   "source": [
    "## Preparation des données"
   ]
  },
  {
   "cell_type": "markdown",
   "id": "2aecd3db-2bab-4b25-b8cb-88dcb697cf9f",
   "metadata": {},
   "source": [
    "### Importation des modules "
   ]
  },
  {
   "cell_type": "code",
   "execution_count": 1,
   "id": "678c380b-cd79-47d8-8a5f-91045aa6ea8b",
   "metadata": {},
   "outputs": [],
   "source": [
    "import pandas as pd\n",
    "from sklearn.model_selection import train_test_split\n",
    "from sklearn.linear_model import LogisticRegression\n",
    "from sklearn.metrics import classification_report, confusion_matrix\n",
    "from sklearn.preprocessing import StandardScaler"
   ]
  },
  {
   "cell_type": "markdown",
   "id": "ced88d7e-c927-434a-bccd-116305fd630a",
   "metadata": {
    "jp-MarkdownHeadingCollapsed": true
   },
   "source": [
    "### parametrages des modules "
   ]
  },
  {
   "cell_type": "code",
   "execution_count": 2,
   "id": "46053d4c-3c45-4628-a917-2c600ed65adc",
   "metadata": {},
   "outputs": [
    {
     "ename": "NameError",
     "evalue": "name 'sns' is not defined",
     "output_type": "error",
     "traceback": [
      "\u001b[1;31m---------------------------------------------------------------------------\u001b[0m",
      "\u001b[1;31mNameError\u001b[0m                                 Traceback (most recent call last)",
      "Cell \u001b[1;32mIn[2], line 1\u001b[0m\n\u001b[1;32m----> 1\u001b[0m sns\u001b[38;5;241m.\u001b[39mset_theme()\n\u001b[0;32m      2\u001b[0m \u001b[38;5;66;03m#pd.set_option('display.max_rows', None)  # Show all rows\u001b[39;00m\n\u001b[0;32m      3\u001b[0m pd\u001b[38;5;241m.\u001b[39mset_option(\u001b[38;5;124m'\u001b[39m\u001b[38;5;124mdisplay.max_columns\u001b[39m\u001b[38;5;124m'\u001b[39m, \u001b[38;5;28;01mNone\u001b[39;00m)\n",
      "\u001b[1;31mNameError\u001b[0m: name 'sns' is not defined"
     ]
    }
   ],
   "source": [
    "sns.set_theme()\n",
    "#pd.set_option('display.max_rows', None)  # Show all rows\n",
    "pd.set_option('display.max_columns', None)  # Show all columns"
   ]
  },
  {
   "cell_type": "markdown",
   "id": "8ec9d48a-9e27-40fe-b795-ac1315c17900",
   "metadata": {
    "jp-MarkdownHeadingCollapsed": true
   },
   "source": [
    "### selection, affichage et filtrage des fichiers"
   ]
  },
  {
   "cell_type": "code",
   "execution_count": null,
   "id": "10282c7f-3d53-4564-8d6e-c68321118650",
   "metadata": {},
   "outputs": [],
   "source": [
    "TVA = pd.read_excel('VraiTVA.xlsx')\n",
    "#TVA"
   ]
  },
  {
   "cell_type": "code",
   "execution_count": null,
   "id": "4eeb4360-4ec5-451d-a177-38895ee1b32f",
   "metadata": {},
   "outputs": [],
   "source": [
    "ERA = pd.read_excel('VraiERA.xlsx')\n",
    "#ERA"
   ]
  },
  {
   "cell_type": "code",
   "execution_count": null,
   "id": "8b12d220-b383-4539-b84c-989a561a1ba9",
   "metadata": {},
   "outputs": [],
   "source": [
    "jointure = pd.merge(ERA, TVA, on='BP', how='inner')\n",
    "#jointure = jointure[['BP', 'Wilaya', 'Code CNRC', 'Code ONS', 'Chiffre d’affaire (C.A)', 'Total TVA anuelle']]  "
   ]
  },
  {
   "cell_type": "code",
   "execution_count": null,
   "id": "8c8b5e62-8bbb-435e-b066-c4b442c0c8d6",
   "metadata": {},
   "outputs": [],
   "source": [
    "jointure.rename(columns={'Chiffre d’affaire (C.A)': 'ChAff'}, inplace=True)\n",
    "jointure.rename(columns={'Total TVA anuelle': 'Total TVA anunelle'}, inplace=True)\n",
    "#jointure.head()"
   ]
  },
  {
   "cell_type": "markdown",
   "id": "950868df-2bfe-4367-ab78-913c0e5ebfcd",
   "metadata": {
    "jp-MarkdownHeadingCollapsed": true
   },
   "source": [
    "### créer la colonne feature et cible\n"
   ]
  },
  {
   "cell_type": "code",
   "execution_count": null,
   "id": "c47aae9f-3847-431e-96ac-47a2527850b1",
   "metadata": {},
   "outputs": [],
   "source": [
    "jointure['feature'] =  jointure['ChAff']  - jointure['Total TVA anunelle'] "
   ]
  },
  {
   "cell_type": "code",
   "execution_count": null,
   "id": "51c30144-3ecf-43c2-bab1-aa4ae40bd2af",
   "metadata": {},
   "outputs": [],
   "source": [
    "def estime(row):\n",
    "    if row['ChAff'] == 0 or row['Total TVA anunelle'] ==0 :\n",
    "        return 'sus'\n",
    "    elif abs(row['feature']) > 1000:\n",
    "        return 'fraude'\n",
    "    else:\n",
    "        return 'bon'\n",
    "\n",
    "jointure['cible'] = jointure.apply(estime, axis=1)\n"
   ]
  },
  {
   "cell_type": "code",
   "execution_count": null,
   "id": "444d47fe-28b9-45e9-9096-870599bc0f09",
   "metadata": {},
   "outputs": [],
   "source": [
    "jointure.head()"
   ]
  },
  {
   "cell_type": "markdown",
   "id": "6fe4f8ec-8706-4b9f-b64e-541e4cadf671",
   "metadata": {},
   "source": [
    "## Over sample de la donnée fraude dans le data set"
   ]
  },
  {
   "cell_type": "code",
   "execution_count": null,
   "id": "98978a44-defc-4b88-9291-f9029e302a9b",
   "metadata": {},
   "outputs": [],
   "source": [
    "# Get the counts of each class\n",
    "fraud_count = jointure['cible'].value_counts()\n",
    "print(fraud_count)\n",
    "\n",
    "# Specify the class you want to oversample, in this case, 'fraude'\n",
    "target_class = 'fraude'\n",
    "\n",
    "# Define the number of samples you want for the 'fraude' class after oversampling\n",
    "# Here, you can use a multiplier to specify how many times larger the 'fraude' class should be\n",
    "multiplier = 2\n",
    "target_sample_count = fraud_count[target_class] * multiplier\n",
    "\n",
    "# Calculate the additional samples you need\n",
    "additional_samples = target_sample_count - fraud_count[target_class]\n",
    "\n",
    "# Filter the 'fraude' class\n",
    "fraude_data = jointure[jointure['cible'] == target_class]\n",
    "\n",
    "# Randomly sample from the 'fraude' data\n",
    "oversampled_fraude = fraude_data.sample(n=additional_samples, replace=True, random_state=42)\n",
    "\n",
    "# Append the oversampled data to the original DataFrame\n",
    "jointure_oversampled = pd.concat([jointure, oversampled_fraude])\n",
    "\n",
    "# Shuffle the dataset to mix the rows up\n",
    "jointure_oversampled = jointure_oversampled.sample(frac=1, random_state=42).reset_index(drop=True)\n"
   ]
  },
  {
   "cell_type": "markdown",
   "id": "b833d4f0-2ce7-4b76-9829-2cd99ed84f69",
   "metadata": {},
   "source": [
    "### Verification du nouveau data set"
   ]
  },
  {
   "cell_type": "code",
   "execution_count": null,
   "id": "14385f41-9bd8-41a0-9f38-07f35b6f9b76",
   "metadata": {},
   "outputs": [],
   "source": [
    "print(jointure_oversampled['cible'].value_counts())"
   ]
  },
  {
   "cell_type": "code",
   "execution_count": null,
   "id": "e481d326-0649-42c6-b828-9d962c29c0a4",
   "metadata": {},
   "outputs": [],
   "source": [
    "print(jointure_oversampled.info())"
   ]
  },
  {
   "cell_type": "markdown",
   "id": "5c8ff1eb-1213-4933-b34b-698ee1e506c1",
   "metadata": {
    "jp-MarkdownHeadingCollapsed": true
   },
   "source": [
    "## Encodage categoriel & Normalisation/Standardisation "
   ]
  },
  {
   "cell_type": "markdown",
   "id": "961da824-6801-439d-8437-0117c8307ca4",
   "metadata": {
    "jp-MarkdownHeadingCollapsed": true
   },
   "source": [
    "### encodage categoriel des wilaya"
   ]
  },
  {
   "cell_type": "code",
   "execution_count": null,
   "id": "74faafc6-3452-49a8-9151-8c9d5f8407f5",
   "metadata": {},
   "outputs": [],
   "source": [
    "wilaya_count = jointure_oversampled['Wilaya'].value_counts()\n",
    "print(wilaya_count)"
   ]
  },
  {
   "cell_type": "code",
   "execution_count": null,
   "id": "217156f5-f691-4074-b075-df0bfa2e1f80",
   "metadata": {},
   "outputs": [],
   "source": [
    "# Clean and standardize the Wilaya names\n",
    "jointure_oversampled['Standardized_Wilaya'] = jointure_oversampled['Wilaya'].str.replace('DIW ', '')\n",
    "\n",
    "# Label Encoding\n",
    "wilaya_mapping = {name: i + 1 for i, name in enumerate(jointure_oversampled['Standardized_Wilaya'].unique())}\n",
    "jointure_oversampled['Wilaya_encoded'] = jointure_oversampled['Standardized_Wilaya'].map(wilaya_mapping)\n",
    "\n",
    "# Display the DataFrame to check the new columns\n",
    "print(jointure_oversampled[['Wilaya', 'Standardized_Wilaya', 'Wilaya_encoded']])"
   ]
  },
  {
   "cell_type": "markdown",
   "id": "88f2ba13-3e3a-4523-bb3e-ba2dbaa8cb6e",
   "metadata": {
    "jp-MarkdownHeadingCollapsed": true
   },
   "source": [
    "### encodage categoriel des Codes ONS et CNRC"
   ]
  },
  {
   "cell_type": "code",
   "execution_count": null,
   "id": "69053aeb-e194-4c8e-95a1-12004948881e",
   "metadata": {},
   "outputs": [],
   "source": [
    "# Label Encoding for 'code CNRC'\n",
    "cnrc_unique = pd.unique(jointure_oversampled['Code CNRC'])\n",
    "code_cnrc_mapping = {code: idx + 1 for idx, code in enumerate(cnrc_unique)}\n",
    "jointure_oversampled['code CNRC_encoded'] = jointure_oversampled['Code CNRC'].map(code_cnrc_mapping)\n",
    "\n",
    "# Label Encoding for 'code ONS'\n",
    "ons_unique = pd.unique(jointure_oversampled['Code ONS'])\n",
    "code_ons_mapping = {code: idx + 1 for idx, code in enumerate(ons_unique)}\n",
    "jointure_oversampled['code ONS_encoded'] = jointure_oversampled['Code ONS'].map(code_ons_mapping)\n",
    "\n",
    "# Display the DataFrame to check the new columns\n",
    "print(jointure_oversampled)"
   ]
  },
  {
   "cell_type": "markdown",
   "id": "aeb02d06-4ec3-43ee-825e-4c0bb274f8b1",
   "metadata": {
    "jp-MarkdownHeadingCollapsed": true
   },
   "source": [
    "### encodage categoriel de target ENFIN"
   ]
  },
  {
   "cell_type": "code",
   "execution_count": null,
   "id": "3fdd6f95-500e-4daa-81b4-c6abf9d3f9bc",
   "metadata": {},
   "outputs": [],
   "source": [
    "target_mapping = {\n",
    "    'bon': 0,      # Typically, the \"normal\" class can be zero\n",
    "    'fraude': 1,   # Positive class can be one, especially if it's a binary classification\n",
    "    'sus': 2       # Additional class can take the next integer\n",
    "}\n",
    "\n",
    "# Apply the mapping to the target column\n",
    "jointure_oversampled['target_encoded'] = jointure_oversampled['cible'].map(target_mapping)\n",
    "\n",
    "# Display the DataFrame to check the new column\n",
    "print(jointure_oversampled[['cible', 'target_encoded']])"
   ]
  },
  {
   "cell_type": "markdown",
   "id": "191af59f-ca5a-4a46-8076-a62c72b3c1b4",
   "metadata": {
    "jp-MarkdownHeadingCollapsed": true
   },
   "source": [
    "### verification du Data set :SOB: + supression des columns not needed "
   ]
  },
  {
   "cell_type": "code",
   "execution_count": null,
   "id": "853a7353-5681-4112-a27c-ab667817b913",
   "metadata": {},
   "outputs": [],
   "source": [
    "jointure_oversampled"
   ]
  },
  {
   "cell_type": "code",
   "execution_count": null,
   "id": "3ec6b8a7-08a5-4064-9792-4bf01ea338b8",
   "metadata": {},
   "outputs": [],
   "source": [
    "print(jointure_oversampled.columns)"
   ]
  },
  {
   "cell_type": "code",
   "execution_count": null,
   "id": "cf920fdf-7b86-4970-8957-0254aaf19346",
   "metadata": {},
   "outputs": [],
   "source": [
    "jointure_oversampled = jointure_oversampled.drop(columns = ['Wilaya', 'Code CNRC', 'Code ONS','cible'])"
   ]
  },
  {
   "cell_type": "code",
   "execution_count": null,
   "id": "d4fa385d-74df-4518-a366-b751f8bc61fe",
   "metadata": {},
   "outputs": [],
   "source": [
    "jointure_oversampled = jointure_oversampled.drop(columns = ['Standardized_Wilaya'])"
   ]
  },
  {
   "cell_type": "code",
   "execution_count": null,
   "id": "395f82f8-153c-4835-aaf6-749967ff0c27",
   "metadata": {},
   "outputs": [],
   "source": [
    "jointure_oversampled"
   ]
  },
  {
   "cell_type": "markdown",
   "id": "f024c40c-3b7e-479e-8564-f7f3e78e1756",
   "metadata": {
    "jp-MarkdownHeadingCollapsed": true
   },
   "source": [
    "### normalisation et standardisation \n",
    " vu que nous allons faire a random forest and/or a regression tree, il serait preferable de standardiser les données "
   ]
  },
  {
   "cell_type": "code",
   "execution_count": null,
   "id": "340b656b-4ecf-4a80-bfcc-23a64692baa8",
   "metadata": {},
   "outputs": [],
   "source": [
    "jointure_oversampled.info()"
   ]
  },
  {
   "cell_type": "code",
   "execution_count": null,
   "id": "bfb75e16-a45b-48f3-b541-f86806febf37",
   "metadata": {},
   "outputs": [],
   "source": [
    "columns_to_standardize = [\n",
    "    'ChAff',\n",
    "    'Total TVA Janvier', 'Total TVA Février', 'Total TVA Mars', 'Total TVA Avril',\n",
    "    'Total TVA Mai', 'Total TVA Juin', 'Total TVA Juillet', 'Total TVA Août',\n",
    "    'Total TVA Septembre', 'Total TVA Octobre', 'Total TVA Novembre', 'Total TVA Décembre',\n",
    "    'Total TVA anunelle'\n",
    "]\n",
    "\n",
    "# Apply standardization\n",
    "for column in columns_to_standardize:\n",
    "    jointure_oversampled[column] = (jointure_oversampled[column] - jointure_oversampled[column].mean()) / jointure_oversampled[column].std()\n",
    "\n",
    "# Now your columns are standardized\n",
    "print(jointure_oversampled[columns_to_standardize].head())"
   ]
  },
  {
   "cell_type": "markdown",
   "id": "4882cee1-e592-404d-b9eb-4afff9a6f019",
   "metadata": {},
   "source": [
    "## MODEL SKLEARN KNN "
   ]
  },
  {
   "cell_type": "code",
   "execution_count": null,
   "id": "a6d3146a-aca4-49e4-9bf5-c117b464c5a7",
   "metadata": {},
   "outputs": [],
   "source": [
    "jointure_oversampled.info()"
   ]
  },
  {
   "cell_type": "code",
   "execution_count": null,
   "id": "990527fa-29d1-4bc5-913b-325e0b2029e7",
   "metadata": {},
   "outputs": [],
   "source": [
    "X = jointure_oversampled.drop(columns=['target_encoded'])  # Drop the target column to get the features\n",
    "y = jointure_oversampled['target_encoded']  # Get the target column\n",
    "\n",
    "# Standardize the features (very important for logistic regression)\n",
    "scaler = StandardScaler()\n",
    "X_scaled = scaler.fit_transform(X)\n",
    "\n",
    "# Split the data into training and testing sets\n",
    "X_train, X_test, y_train, y_test = train_test_split(X_scaled, y, test_size=0.2, random_state=42)\n",
    "\n",
    "# Initialize the Logistic Regression model\n",
    "# For multiclass problems, 'multinomial' option should be used\n",
    "log_reg = LogisticRegression(multi_class='multinomial', solver='lbfgs', max_iter=1000, random_state=42)\n",
    "\n",
    "# Train the model\n",
    "log_reg.fit(X_train, y_train)\n",
    "\n",
    "# Make predictions on the test set\n",
    "predictions = log_reg.predict(X_test)\n",
    "\n",
    "# Evaluate the model's performance\n",
    "print(\"Logistic Regression Classification Report:\")\n",
    "print(classification_report(y_test, predictions))\n",
    "\n",
    "print(\"Confusion Matrix:\")\n",
    "print(confusion_matrix(y_test, predictions))"
   ]
  },
  {
   "cell_type": "code",
   "execution_count": null,
   "id": "a53c70f0-bc9c-45b0-bae6-c4cad66cb323",
   "metadata": {},
   "outputs": [],
   "source": []
  },
  {
   "cell_type": "code",
   "execution_count": null,
   "id": "a045cb1d-aa74-4287-8d1a-2d6e32ee3c32",
   "metadata": {},
   "outputs": [],
   "source": []
  },
  {
   "cell_type": "code",
   "execution_count": null,
   "id": "48f19ade-6fa5-44b5-9f9c-a32726d4a0bb",
   "metadata": {},
   "outputs": [],
   "source": []
  },
  {
   "cell_type": "code",
   "execution_count": null,
   "id": "0aa26e65-8a2f-46a1-9593-9e239d988c91",
   "metadata": {},
   "outputs": [],
   "source": []
  }
 ],
 "metadata": {
  "kernelspec": {
   "display_name": "Python 3 (ipykernel)",
   "language": "python",
   "name": "python3"
  },
  "language_info": {
   "codemirror_mode": {
    "name": "ipython",
    "version": 3
   },
   "file_extension": ".py",
   "mimetype": "text/x-python",
   "name": "python",
   "nbconvert_exporter": "python",
   "pygments_lexer": "ipython3",
   "version": "3.11.7"
  }
 },
 "nbformat": 4,
 "nbformat_minor": 5
}

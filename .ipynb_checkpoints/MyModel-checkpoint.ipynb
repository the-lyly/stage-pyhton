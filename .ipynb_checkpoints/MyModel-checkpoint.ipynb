{
 "cells": [
  {
   "cell_type": "code",
   "execution_count": 1,
   "id": "9ed9e831-a13b-44d8-b7f9-d31a4439fdaf",
   "metadata": {},
   "outputs": [],
   "source": [
    "import seaborn as sns\n",
    "import pandas as pd\n",
    "import matplotlib.pyplot as plt\n"
   ]
  },
  {
   "cell_type": "code",
   "execution_count": 2,
   "id": "fd7abbd5-c162-45dc-ad6e-4c48d2c7965c",
   "metadata": {},
   "outputs": [],
   "source": [
    "TVA = pd.read_excel('VraiTVA.xlsx')\n",
    "ERA = pd.read_excel('VraiERA.xlsx')\n",
    "jointure = pd.merge(ERA, TVA, on='BP', how='inner')\n",
    "jointure.rename(columns={'Chiffre d’affaire (C.A)': 'ChAff'}, inplace=True)"
   ]
  },
  {
   "cell_type": "code",
   "execution_count": 3,
   "id": "740e1c5d-9c8f-40ce-be97-06283860ea73",
   "metadata": {},
   "outputs": [],
   "source": [
    "jointure['featureChT'] =  jointure['ChAff']  - jointure['Total TVA anuelle'] "
   ]
  },
  {
   "cell_type": "code",
   "execution_count": 4,
   "id": "a1d6764f-4d67-496b-bba3-d793cfd9955c",
   "metadata": {},
   "outputs": [],
   "source": [
    "def detect_fraud(row):\n",
    "    if row['ChAff'] == 0 :\n",
    "        return 'sus'\n",
    "    elif abs(row['featureChT']) > 0.2 * row['ChAff']:\n",
    "        return 'fraude'\n",
    "    else:\n",
    "        return 'bon'\n",
    "\n",
    "jointure['Fraude'] = jointure.apply(detect_fraud, axis=1)"
   ]
  },
  {
   "cell_type": "code",
   "execution_count": 5,
   "id": "fd338f99-6b96-4eae-8a66-8c7f8cf748c4",
   "metadata": {},
   "outputs": [
    {
     "name": "stdout",
     "output_type": "stream",
     "text": [
      "Index(['BP', 'Wilaya', 'Code CNRC', 'Code ONS', 'ChAff', 'Total TVA Janvier',\n",
      "       'Total TVA Février', 'Total TVA Mars', 'Total TVA Avril',\n",
      "       'Total TVA Mai', 'Total TVA Juin', 'Total TVA Juillet',\n",
      "       'Total TVA Août', 'Total TVA Septembre', 'Total TVA Octobre',\n",
      "       'Total TVA Novembre', 'Total TVA Décembre', 'Total TVA anuelle',\n",
      "       'featureChT', 'Fraude'],\n",
      "      dtype='object')\n"
     ]
    }
   ],
   "source": [
    "print(jointure.columns)"
   ]
  },
  {
   "cell_type": "markdown",
   "id": "4e58c1e1-98d9-4599-9e10-fd4baad21e33",
   "metadata": {},
   "source": [
    "# AVEC LES TVA MENSUELLES EN MOINS"
   ]
  },
  {
   "cell_type": "code",
   "execution_count": 13,
   "id": "45070fd9-912b-490e-8489-30930d02a831",
   "metadata": {},
   "outputs": [],
   "source": [
    "jointure = jointure.drop(columns = ['BP','Wilaya','Code CNRC', 'Code ONS', 'Total TVA Janvier',\n",
    "      'Total TVA Février', 'Total TVA Mars', 'Total TVA Avril',\n",
    "      'Total TVA Mai', 'Total TVA Juin', 'Total TVA Juillet',\n",
    "      'Total TVA Août', 'Total TVA Septembre', 'Total TVA Octobre',\n",
    "     'Total TVA Novembre', 'Total TVA Décembre',])"
   ]
  },
  {
   "cell_type": "code",
   "execution_count": 14,
   "id": "74b7a0d8-8c1f-45c4-bb08-9245cff3bdae",
   "metadata": {},
   "outputs": [
    {
     "data": {
      "text/html": [
       "<div>\n",
       "<style scoped>\n",
       "    .dataframe tbody tr th:only-of-type {\n",
       "        vertical-align: middle;\n",
       "    }\n",
       "\n",
       "    .dataframe tbody tr th {\n",
       "        vertical-align: top;\n",
       "    }\n",
       "\n",
       "    .dataframe thead th {\n",
       "        text-align: right;\n",
       "    }\n",
       "</style>\n",
       "<table border=\"1\" class=\"dataframe\">\n",
       "  <thead>\n",
       "    <tr style=\"text-align: right;\">\n",
       "      <th></th>\n",
       "      <th>ChAff</th>\n",
       "      <th>Total TVA anuelle</th>\n",
       "      <th>featureChT</th>\n",
       "      <th>Fraude</th>\n",
       "    </tr>\n",
       "  </thead>\n",
       "  <tbody>\n",
       "    <tr>\n",
       "      <th>0</th>\n",
       "      <td>0</td>\n",
       "      <td>5.785956e+10</td>\n",
       "      <td>-5.785956e+10</td>\n",
       "      <td>sus</td>\n",
       "    </tr>\n",
       "    <tr>\n",
       "      <th>1</th>\n",
       "      <td>93115698</td>\n",
       "      <td>9.311570e+07</td>\n",
       "      <td>0.000000e+00</td>\n",
       "      <td>bon</td>\n",
       "    </tr>\n",
       "    <tr>\n",
       "      <th>2</th>\n",
       "      <td>155423274</td>\n",
       "      <td>1.554233e+08</td>\n",
       "      <td>0.000000e+00</td>\n",
       "      <td>bon</td>\n",
       "    </tr>\n",
       "    <tr>\n",
       "      <th>3</th>\n",
       "      <td>5798168362</td>\n",
       "      <td>5.809947e+09</td>\n",
       "      <td>-1.177863e+07</td>\n",
       "      <td>bon</td>\n",
       "    </tr>\n",
       "    <tr>\n",
       "      <th>4</th>\n",
       "      <td>2062602782</td>\n",
       "      <td>2.062370e+09</td>\n",
       "      <td>2.331380e+05</td>\n",
       "      <td>bon</td>\n",
       "    </tr>\n",
       "    <tr>\n",
       "      <th>...</th>\n",
       "      <td>...</td>\n",
       "      <td>...</td>\n",
       "      <td>...</td>\n",
       "      <td>...</td>\n",
       "    </tr>\n",
       "    <tr>\n",
       "      <th>1265</th>\n",
       "      <td>0</td>\n",
       "      <td>0.000000e+00</td>\n",
       "      <td>0.000000e+00</td>\n",
       "      <td>sus</td>\n",
       "    </tr>\n",
       "    <tr>\n",
       "      <th>1266</th>\n",
       "      <td>0</td>\n",
       "      <td>0.000000e+00</td>\n",
       "      <td>0.000000e+00</td>\n",
       "      <td>sus</td>\n",
       "    </tr>\n",
       "    <tr>\n",
       "      <th>1267</th>\n",
       "      <td>0</td>\n",
       "      <td>0.000000e+00</td>\n",
       "      <td>0.000000e+00</td>\n",
       "      <td>sus</td>\n",
       "    </tr>\n",
       "    <tr>\n",
       "      <th>1268</th>\n",
       "      <td>0</td>\n",
       "      <td>0.000000e+00</td>\n",
       "      <td>0.000000e+00</td>\n",
       "      <td>sus</td>\n",
       "    </tr>\n",
       "    <tr>\n",
       "      <th>1269</th>\n",
       "      <td>33908156303</td>\n",
       "      <td>0.000000e+00</td>\n",
       "      <td>3.390816e+10</td>\n",
       "      <td>fraude</td>\n",
       "    </tr>\n",
       "  </tbody>\n",
       "</table>\n",
       "<p>1270 rows × 4 columns</p>\n",
       "</div>"
      ],
      "text/plain": [
       "            ChAff  Total TVA anuelle    featureChT  Fraude\n",
       "0               0       5.785956e+10 -5.785956e+10     sus\n",
       "1        93115698       9.311570e+07  0.000000e+00     bon\n",
       "2       155423274       1.554233e+08  0.000000e+00     bon\n",
       "3      5798168362       5.809947e+09 -1.177863e+07     bon\n",
       "4      2062602782       2.062370e+09  2.331380e+05     bon\n",
       "...           ...                ...           ...     ...\n",
       "1265            0       0.000000e+00  0.000000e+00     sus\n",
       "1266            0       0.000000e+00  0.000000e+00     sus\n",
       "1267            0       0.000000e+00  0.000000e+00     sus\n",
       "1268            0       0.000000e+00  0.000000e+00     sus\n",
       "1269  33908156303       0.000000e+00  3.390816e+10  fraude\n",
       "\n",
       "[1270 rows x 4 columns]"
      ]
     },
     "execution_count": 14,
     "metadata": {},
     "output_type": "execute_result"
    }
   ],
   "source": [
    "jointure"
   ]
  },
  {
   "cell_type": "code",
   "execution_count": 15,
   "id": "fbfdb765-6a3e-4c39-acde-904ebcad3b24",
   "metadata": {},
   "outputs": [
    {
     "name": "stdout",
     "output_type": "stream",
     "text": [
      "371\n"
     ]
    }
   ],
   "source": [
    "number_of_frauds = (jointure['Fraude'] == 'fraude').sum()\n",
    "print(number_of_frauds)"
   ]
  },
  {
   "cell_type": "code",
   "execution_count": 16,
   "id": "f1d0a3e6-ab62-4366-abbb-4f191eaef146",
   "metadata": {},
   "outputs": [
    {
     "name": "stdout",
     "output_type": "stream",
     "text": [
      "            ChAff  Total TVA anuelle    featureChT  Fraude\n",
      "7      6129403055       4.793089e+09  1.336314e+09  fraude\n",
      "10       62244972       2.265251e+07  3.959246e+07  fraude\n",
      "12     2896261006       0.000000e+00  2.896261e+09  fraude\n",
      "13     5407931878       3.359298e+09  2.048634e+09  fraude\n",
      "14      965698914       0.000000e+00  9.656989e+08  fraude\n",
      "...           ...                ...           ...     ...\n",
      "1253      6313461       3.034554e+06  3.278907e+06  fraude\n",
      "1256    661123936       4.359331e+08  2.251908e+08  fraude\n",
      "1258   4064552726       0.000000e+00  4.064553e+09  fraude\n",
      "1263    140056307       0.000000e+00  1.400563e+08  fraude\n",
      "1269  33908156303       0.000000e+00  3.390816e+10  fraude\n",
      "\n",
      "[371 rows x 4 columns]\n"
     ]
    }
   ],
   "source": [
    "fraud_rows = jointure[jointure['Fraude'] == 'fraude']\n",
    "print(fraud_rows)\n"
   ]
  },
  {
   "cell_type": "code",
   "execution_count": 10,
   "id": "80e17718-1a7b-45f1-9764-7bcc79737177",
   "metadata": {},
   "outputs": [],
   "source": [
    "#def normalize(column):\n",
    " #   min_value = min(column)\n",
    "  #  max_value = max(column)\n",
    "   # return (column - min_value) / (max_value - min_value)\n"
   ]
  },
  {
   "cell_type": "code",
   "execution_count": 11,
   "id": "531c8a85-e618-4f26-bec3-449e9969f412",
   "metadata": {},
   "outputs": [],
   "source": [
    "#def standardize(column):\n",
    " #   mean_value = column.mean()\n",
    "  #  std_dev = column.std()\n",
    "   # return (column - mean_value) / std_dev\n"
   ]
  },
  {
   "cell_type": "code",
   "execution_count": 12,
   "id": "242ca13b-1935-4db8-8661-54dabd6483c3",
   "metadata": {},
   "outputs": [],
   "source": [
    "# Supposons que 'ChAff', 'Total TVA annuelle', et 'featureChT' sont les colonnes à normaliser/standardiser\n",
    "#jointure['ChAff_normalized'] = normalize(jointure['ChAff'])\n",
    "#jointure['Total_TVA_annuelle_normalized'] = normalize(jointure['Total TVA anuelle'])\n",
    "#jointure['featureChT_standardized'] = standardize(jointure['featureChT'])\n"
   ]
  },
  {
   "cell_type": "code",
   "execution_count": 17,
   "id": "4dada9da-7b0b-41ea-bfdb-066e265f7d98",
   "metadata": {},
   "outputs": [
    {
     "name": "stdout",
     "output_type": "stream",
     "text": [
      "<class 'pandas.core.frame.DataFrame'>\n",
      "RangeIndex: 1270 entries, 0 to 1269\n",
      "Data columns (total 4 columns):\n",
      " #   Column             Non-Null Count  Dtype  \n",
      "---  ------             --------------  -----  \n",
      " 0   ChAff              1270 non-null   int64  \n",
      " 1   Total TVA anuelle  1270 non-null   float64\n",
      " 2   featureChT         1270 non-null   float64\n",
      " 3   Fraude             1270 non-null   object \n",
      "dtypes: float64(2), int64(1), object(1)\n",
      "memory usage: 39.8+ KB\n"
     ]
    }
   ],
   "source": [
    "jointure.info()"
   ]
  },
  {
   "cell_type": "code",
   "execution_count": 19,
   "id": "7ae5abfc-9d03-4ad2-a350-aff9a0c4df96",
   "metadata": {},
   "outputs": [
    {
     "data": {
      "text/html": [
       "<div>\n",
       "<style scoped>\n",
       "    .dataframe tbody tr th:only-of-type {\n",
       "        vertical-align: middle;\n",
       "    }\n",
       "\n",
       "    .dataframe tbody tr th {\n",
       "        vertical-align: top;\n",
       "    }\n",
       "\n",
       "    .dataframe thead th {\n",
       "        text-align: right;\n",
       "    }\n",
       "</style>\n",
       "<table border=\"1\" class=\"dataframe\">\n",
       "  <thead>\n",
       "    <tr style=\"text-align: right;\">\n",
       "      <th></th>\n",
       "      <th>ChAff</th>\n",
       "      <th>Total TVA anuelle</th>\n",
       "      <th>featureChT</th>\n",
       "    </tr>\n",
       "  </thead>\n",
       "  <tbody>\n",
       "    <tr>\n",
       "      <th>count</th>\n",
       "      <td>1.270000e+03</td>\n",
       "      <td>1.270000e+03</td>\n",
       "      <td>1.270000e+03</td>\n",
       "    </tr>\n",
       "    <tr>\n",
       "      <th>mean</th>\n",
       "      <td>1.613973e+10</td>\n",
       "      <td>7.026205e+09</td>\n",
       "      <td>9.113522e+09</td>\n",
       "    </tr>\n",
       "    <tr>\n",
       "      <th>std</th>\n",
       "      <td>2.484699e+11</td>\n",
       "      <td>3.229656e+10</td>\n",
       "      <td>2.443089e+11</td>\n",
       "    </tr>\n",
       "    <tr>\n",
       "      <th>min</th>\n",
       "      <td>0.000000e+00</td>\n",
       "      <td>0.000000e+00</td>\n",
       "      <td>-2.023849e+11</td>\n",
       "    </tr>\n",
       "    <tr>\n",
       "      <th>25%</th>\n",
       "      <td>5.700834e+07</td>\n",
       "      <td>5.178133e+06</td>\n",
       "      <td>-2.000000e+00</td>\n",
       "    </tr>\n",
       "    <tr>\n",
       "      <th>50%</th>\n",
       "      <td>1.453872e+09</td>\n",
       "      <td>1.103656e+09</td>\n",
       "      <td>1.000000e+00</td>\n",
       "    </tr>\n",
       "    <tr>\n",
       "      <th>75%</th>\n",
       "      <td>5.447105e+09</td>\n",
       "      <td>4.695997e+09</td>\n",
       "      <td>1.948891e+08</td>\n",
       "    </tr>\n",
       "    <tr>\n",
       "      <th>max</th>\n",
       "      <td>8.454923e+12</td>\n",
       "      <td>6.820383e+11</td>\n",
       "      <td>8.453621e+12</td>\n",
       "    </tr>\n",
       "  </tbody>\n",
       "</table>\n",
       "</div>"
      ],
      "text/plain": [
       "              ChAff  Total TVA anuelle    featureChT\n",
       "count  1.270000e+03       1.270000e+03  1.270000e+03\n",
       "mean   1.613973e+10       7.026205e+09  9.113522e+09\n",
       "std    2.484699e+11       3.229656e+10  2.443089e+11\n",
       "min    0.000000e+00       0.000000e+00 -2.023849e+11\n",
       "25%    5.700834e+07       5.178133e+06 -2.000000e+00\n",
       "50%    1.453872e+09       1.103656e+09  1.000000e+00\n",
       "75%    5.447105e+09       4.695997e+09  1.948891e+08\n",
       "max    8.454923e+12       6.820383e+11  8.453621e+12"
      ]
     },
     "execution_count": 19,
     "metadata": {},
     "output_type": "execute_result"
    }
   ],
   "source": [
    "jointure.describe()"
   ]
  },
  {
   "cell_type": "code",
   "execution_count": 20,
   "id": "3aae6bd5-1599-4830-8a80-be527f3a08d3",
   "metadata": {},
   "outputs": [],
   "source": [
    "X1 = jointure.iloc[:,0:3]"
   ]
  },
  {
   "cell_type": "code",
   "execution_count": 21,
   "id": "bbfd2d8f-7775-4a0f-9dee-a2d7b4ea0b37",
   "metadata": {},
   "outputs": [],
   "source": [
    "X2 = jointure.iloc[:,0:3]"
   ]
  },
  {
   "cell_type": "code",
   "execution_count": 22,
   "id": "00ce5302-f7ed-4d05-9d67-3c7126b9db0c",
   "metadata": {},
   "outputs": [],
   "source": [
    "from sklearn.preprocessing import StandardScaler"
   ]
  },
  {
   "cell_type": "code",
   "execution_count": 23,
   "id": "9fe888c4-3096-4284-93cd-0488baf39353",
   "metadata": {},
   "outputs": [],
   "source": [
    "scaleStandard = StandardScaler()"
   ]
  },
  {
   "cell_type": "code",
   "execution_count": 24,
   "id": "726d01fe-bff1-4acd-b396-2c141bb31c6b",
   "metadata": {},
   "outputs": [],
   "source": [
    "X1 = scaleStandard.fit_transform(X1)"
   ]
  },
  {
   "cell_type": "code",
   "execution_count": 30,
   "id": "f67066ce-12cc-496d-bbc5-f0eb3f91de17",
   "metadata": {},
   "outputs": [],
   "source": [
    "X1 = pd.DataFrame(X1,columns = ['ChAff', 'Total TVA anuelle', 'featureChT'] )"
   ]
  },
  {
   "cell_type": "code",
   "execution_count": 31,
   "id": "8bb75636-4582-42c1-b135-d58d816510fb",
   "metadata": {},
   "outputs": [
    {
     "data": {
      "text/html": [
       "<div>\n",
       "<style scoped>\n",
       "    .dataframe tbody tr th:only-of-type {\n",
       "        vertical-align: middle;\n",
       "    }\n",
       "\n",
       "    .dataframe tbody tr th {\n",
       "        vertical-align: top;\n",
       "    }\n",
       "\n",
       "    .dataframe thead th {\n",
       "        text-align: right;\n",
       "    }\n",
       "</style>\n",
       "<table border=\"1\" class=\"dataframe\">\n",
       "  <thead>\n",
       "    <tr style=\"text-align: right;\">\n",
       "      <th></th>\n",
       "      <th>ChAff</th>\n",
       "      <th>Total TVA anuelle</th>\n",
       "      <th>featureChT</th>\n",
       "    </tr>\n",
       "  </thead>\n",
       "  <tbody>\n",
       "    <tr>\n",
       "      <th>0</th>\n",
       "      <td>-0.064982</td>\n",
       "      <td>1.574576</td>\n",
       "      <td>-0.274241</td>\n",
       "    </tr>\n",
       "    <tr>\n",
       "      <th>1</th>\n",
       "      <td>-0.064607</td>\n",
       "      <td>-0.214754</td>\n",
       "      <td>-0.037318</td>\n",
       "    </tr>\n",
       "    <tr>\n",
       "      <th>2</th>\n",
       "      <td>-0.064356</td>\n",
       "      <td>-0.212824</td>\n",
       "      <td>-0.037318</td>\n",
       "    </tr>\n",
       "    <tr>\n",
       "      <th>3</th>\n",
       "      <td>-0.041637</td>\n",
       "      <td>-0.037674</td>\n",
       "      <td>-0.037366</td>\n",
       "    </tr>\n",
       "    <tr>\n",
       "      <th>4</th>\n",
       "      <td>-0.056678</td>\n",
       "      <td>-0.153756</td>\n",
       "      <td>-0.037317</td>\n",
       "    </tr>\n",
       "    <tr>\n",
       "      <th>...</th>\n",
       "      <td>...</td>\n",
       "      <td>...</td>\n",
       "      <td>...</td>\n",
       "    </tr>\n",
       "    <tr>\n",
       "      <th>1265</th>\n",
       "      <td>-0.064982</td>\n",
       "      <td>-0.217638</td>\n",
       "      <td>-0.037318</td>\n",
       "    </tr>\n",
       "    <tr>\n",
       "      <th>1266</th>\n",
       "      <td>-0.064982</td>\n",
       "      <td>-0.217638</td>\n",
       "      <td>-0.037318</td>\n",
       "    </tr>\n",
       "    <tr>\n",
       "      <th>1267</th>\n",
       "      <td>-0.064982</td>\n",
       "      <td>-0.217638</td>\n",
       "      <td>-0.037318</td>\n",
       "    </tr>\n",
       "    <tr>\n",
       "      <th>1268</th>\n",
       "      <td>-0.064982</td>\n",
       "      <td>-0.217638</td>\n",
       "      <td>-0.037318</td>\n",
       "    </tr>\n",
       "    <tr>\n",
       "      <th>1269</th>\n",
       "      <td>0.071540</td>\n",
       "      <td>-0.217638</td>\n",
       "      <td>0.101529</td>\n",
       "    </tr>\n",
       "  </tbody>\n",
       "</table>\n",
       "<p>1270 rows × 3 columns</p>\n",
       "</div>"
      ],
      "text/plain": [
       "         ChAff  Total TVA anuelle  featureChT\n",
       "0    -0.064982           1.574576   -0.274241\n",
       "1    -0.064607          -0.214754   -0.037318\n",
       "2    -0.064356          -0.212824   -0.037318\n",
       "3    -0.041637          -0.037674   -0.037366\n",
       "4    -0.056678          -0.153756   -0.037317\n",
       "...        ...                ...         ...\n",
       "1265 -0.064982          -0.217638   -0.037318\n",
       "1266 -0.064982          -0.217638   -0.037318\n",
       "1267 -0.064982          -0.217638   -0.037318\n",
       "1268 -0.064982          -0.217638   -0.037318\n",
       "1269  0.071540          -0.217638    0.101529\n",
       "\n",
       "[1270 rows x 3 columns]"
      ]
     },
     "execution_count": 31,
     "metadata": {},
     "output_type": "execute_result"
    }
   ],
   "source": [
    "X1"
   ]
  },
  {
   "cell_type": "code",
   "execution_count": 33,
   "id": "936dd1ad-e4a0-44a4-8a62-02038ad1f27d",
   "metadata": {},
   "outputs": [
    {
     "data": {
      "text/html": [
       "<div>\n",
       "<style scoped>\n",
       "    .dataframe tbody tr th:only-of-type {\n",
       "        vertical-align: middle;\n",
       "    }\n",
       "\n",
       "    .dataframe tbody tr th {\n",
       "        vertical-align: top;\n",
       "    }\n",
       "\n",
       "    .dataframe thead th {\n",
       "        text-align: right;\n",
       "    }\n",
       "</style>\n",
       "<table border=\"1\" class=\"dataframe\">\n",
       "  <thead>\n",
       "    <tr style=\"text-align: right;\">\n",
       "      <th></th>\n",
       "      <th>ChAff</th>\n",
       "      <th>Total TVA anuelle</th>\n",
       "      <th>featureChT</th>\n",
       "    </tr>\n",
       "  </thead>\n",
       "  <tbody>\n",
       "    <tr>\n",
       "      <th>count</th>\n",
       "      <td>1270.000</td>\n",
       "      <td>1270.000</td>\n",
       "      <td>1270.000</td>\n",
       "    </tr>\n",
       "    <tr>\n",
       "      <th>mean</th>\n",
       "      <td>-0.000</td>\n",
       "      <td>-0.000</td>\n",
       "      <td>0.000</td>\n",
       "    </tr>\n",
       "    <tr>\n",
       "      <th>std</th>\n",
       "      <td>1.000</td>\n",
       "      <td>1.000</td>\n",
       "      <td>1.000</td>\n",
       "    </tr>\n",
       "    <tr>\n",
       "      <th>min</th>\n",
       "      <td>-0.065</td>\n",
       "      <td>-0.218</td>\n",
       "      <td>-0.866</td>\n",
       "    </tr>\n",
       "    <tr>\n",
       "      <th>25%</th>\n",
       "      <td>-0.065</td>\n",
       "      <td>-0.217</td>\n",
       "      <td>-0.037</td>\n",
       "    </tr>\n",
       "    <tr>\n",
       "      <th>50%</th>\n",
       "      <td>-0.059</td>\n",
       "      <td>-0.183</td>\n",
       "      <td>-0.037</td>\n",
       "    </tr>\n",
       "    <tr>\n",
       "      <th>75%</th>\n",
       "      <td>-0.043</td>\n",
       "      <td>-0.072</td>\n",
       "      <td>-0.037</td>\n",
       "    </tr>\n",
       "    <tr>\n",
       "      <th>max</th>\n",
       "      <td>33.976</td>\n",
       "      <td>20.909</td>\n",
       "      <td>34.578</td>\n",
       "    </tr>\n",
       "  </tbody>\n",
       "</table>\n",
       "</div>"
      ],
      "text/plain": [
       "          ChAff  Total TVA anuelle  featureChT\n",
       "count  1270.000           1270.000    1270.000\n",
       "mean     -0.000             -0.000       0.000\n",
       "std       1.000              1.000       1.000\n",
       "min      -0.065             -0.218      -0.866\n",
       "25%      -0.065             -0.217      -0.037\n",
       "50%      -0.059             -0.183      -0.037\n",
       "75%      -0.043             -0.072      -0.037\n",
       "max      33.976             20.909      34.578"
      ]
     },
     "execution_count": 33,
     "metadata": {},
     "output_type": "execute_result"
    }
   ],
   "source": [
    "X1.describe().round(3)"
   ]
  },
  {
   "cell_type": "code",
   "execution_count": 38,
   "id": "3e0c8dd8-1aae-4d21-9663-cf5515e8bd7f",
   "metadata": {},
   "outputs": [],
   "source": [
    "from sklearn.preprocessing import MinMaxScaler"
   ]
  },
  {
   "cell_type": "code",
   "execution_count": 39,
   "id": "d57be17c-6625-4503-9f64-d72e5a3e4f95",
   "metadata": {},
   "outputs": [],
   "source": [
    "scaleMinMax = MinMaxScaler(feature_range=(0,1))"
   ]
  },
  {
   "cell_type": "code",
   "execution_count": 41,
   "id": "50e78557-7973-4dbe-b2d1-14c32c92194f",
   "metadata": {},
   "outputs": [],
   "source": [
    "X2 = scaleMinMax.fit_transform(X2)"
   ]
  },
  {
   "cell_type": "code",
   "execution_count": 42,
   "id": "50df06b5-c509-411a-ac7d-d6952eef225b",
   "metadata": {},
   "outputs": [],
   "source": [
    "X2 = pd.DataFrame(X2,columns = ['ChAff', 'Total TVA anuelle', 'featureChT'])"
   ]
  },
  {
   "cell_type": "code",
   "execution_count": 43,
   "id": "e69d92b3-76f6-438d-ac32-4f6814e17d0e",
   "metadata": {},
   "outputs": [
    {
     "data": {
      "text/html": [
       "<div>\n",
       "<style scoped>\n",
       "    .dataframe tbody tr th:only-of-type {\n",
       "        vertical-align: middle;\n",
       "    }\n",
       "\n",
       "    .dataframe tbody tr th {\n",
       "        vertical-align: top;\n",
       "    }\n",
       "\n",
       "    .dataframe thead th {\n",
       "        text-align: right;\n",
       "    }\n",
       "</style>\n",
       "<table border=\"1\" class=\"dataframe\">\n",
       "  <thead>\n",
       "    <tr style=\"text-align: right;\">\n",
       "      <th></th>\n",
       "      <th>ChAff</th>\n",
       "      <th>Total TVA anuelle</th>\n",
       "      <th>featureChT</th>\n",
       "    </tr>\n",
       "  </thead>\n",
       "  <tbody>\n",
       "    <tr>\n",
       "      <th>0</th>\n",
       "      <td>0.000000</td>\n",
       "      <td>0.084833</td>\n",
       "      <td>0.016697</td>\n",
       "    </tr>\n",
       "    <tr>\n",
       "      <th>1</th>\n",
       "      <td>0.000011</td>\n",
       "      <td>0.000137</td>\n",
       "      <td>0.023381</td>\n",
       "    </tr>\n",
       "    <tr>\n",
       "      <th>2</th>\n",
       "      <td>0.000018</td>\n",
       "      <td>0.000228</td>\n",
       "      <td>0.023381</td>\n",
       "    </tr>\n",
       "    <tr>\n",
       "      <th>3</th>\n",
       "      <td>0.000686</td>\n",
       "      <td>0.008519</td>\n",
       "      <td>0.023380</td>\n",
       "    </tr>\n",
       "    <tr>\n",
       "      <th>4</th>\n",
       "      <td>0.000244</td>\n",
       "      <td>0.003024</td>\n",
       "      <td>0.023381</td>\n",
       "    </tr>\n",
       "  </tbody>\n",
       "</table>\n",
       "</div>"
      ],
      "text/plain": [
       "      ChAff  Total TVA anuelle  featureChT\n",
       "0  0.000000           0.084833    0.016697\n",
       "1  0.000011           0.000137    0.023381\n",
       "2  0.000018           0.000228    0.023381\n",
       "3  0.000686           0.008519    0.023380\n",
       "4  0.000244           0.003024    0.023381"
      ]
     },
     "execution_count": 43,
     "metadata": {},
     "output_type": "execute_result"
    }
   ],
   "source": [
    "X2.head()"
   ]
  },
  {
   "cell_type": "code",
   "execution_count": 47,
   "id": "e535617d-8281-476e-803d-4d5d0cbfcce3",
   "metadata": {},
   "outputs": [
    {
     "data": {
      "text/html": [
       "<div>\n",
       "<style scoped>\n",
       "    .dataframe tbody tr th:only-of-type {\n",
       "        vertical-align: middle;\n",
       "    }\n",
       "\n",
       "    .dataframe tbody tr th {\n",
       "        vertical-align: top;\n",
       "    }\n",
       "\n",
       "    .dataframe thead th {\n",
       "        text-align: right;\n",
       "    }\n",
       "</style>\n",
       "<table border=\"1\" class=\"dataframe\">\n",
       "  <thead>\n",
       "    <tr style=\"text-align: right;\">\n",
       "      <th></th>\n",
       "      <th>ChAff</th>\n",
       "      <th>Total TVA anuelle</th>\n",
       "      <th>featureChT</th>\n",
       "    </tr>\n",
       "  </thead>\n",
       "  <tbody>\n",
       "    <tr>\n",
       "      <th>count</th>\n",
       "      <td>1270.000</td>\n",
       "      <td>1270.000</td>\n",
       "      <td>1270.000</td>\n",
       "    </tr>\n",
       "    <tr>\n",
       "      <th>mean</th>\n",
       "      <td>0.002</td>\n",
       "      <td>0.010</td>\n",
       "      <td>0.024</td>\n",
       "    </tr>\n",
       "    <tr>\n",
       "      <th>std</th>\n",
       "      <td>0.029</td>\n",
       "      <td>0.047</td>\n",
       "      <td>0.028</td>\n",
       "    </tr>\n",
       "    <tr>\n",
       "      <th>min</th>\n",
       "      <td>0.000</td>\n",
       "      <td>0.000</td>\n",
       "      <td>0.000</td>\n",
       "    </tr>\n",
       "    <tr>\n",
       "      <th>25%</th>\n",
       "      <td>0.000</td>\n",
       "      <td>0.000</td>\n",
       "      <td>0.023</td>\n",
       "    </tr>\n",
       "    <tr>\n",
       "      <th>50%</th>\n",
       "      <td>0.000</td>\n",
       "      <td>0.002</td>\n",
       "      <td>0.023</td>\n",
       "    </tr>\n",
       "    <tr>\n",
       "      <th>75%</th>\n",
       "      <td>0.001</td>\n",
       "      <td>0.007</td>\n",
       "      <td>0.023</td>\n",
       "    </tr>\n",
       "    <tr>\n",
       "      <th>max</th>\n",
       "      <td>1.000</td>\n",
       "      <td>1.000</td>\n",
       "      <td>1.000</td>\n",
       "    </tr>\n",
       "  </tbody>\n",
       "</table>\n",
       "</div>"
      ],
      "text/plain": [
       "          ChAff  Total TVA anuelle  featureChT\n",
       "count  1270.000           1270.000    1270.000\n",
       "mean      0.002              0.010       0.024\n",
       "std       0.029              0.047       0.028\n",
       "min       0.000              0.000       0.000\n",
       "25%       0.000              0.000       0.023\n",
       "50%       0.000              0.002       0.023\n",
       "75%       0.001              0.007       0.023\n",
       "max       1.000              1.000       1.000"
      ]
     },
     "execution_count": 47,
     "metadata": {},
     "output_type": "execute_result"
    }
   ],
   "source": [
    "X2.describe().round(3)"
   ]
  },
  {
   "cell_type": "code",
   "execution_count": 48,
   "id": "c75af480-f1ac-4dac-afef-1b668d8b6b85",
   "metadata": {},
   "outputs": [
    {
     "data": {
      "text/html": [
       "<div>\n",
       "<style scoped>\n",
       "    .dataframe tbody tr th:only-of-type {\n",
       "        vertical-align: middle;\n",
       "    }\n",
       "\n",
       "    .dataframe tbody tr th {\n",
       "        vertical-align: top;\n",
       "    }\n",
       "\n",
       "    .dataframe thead th {\n",
       "        text-align: right;\n",
       "    }\n",
       "</style>\n",
       "<table border=\"1\" class=\"dataframe\">\n",
       "  <thead>\n",
       "    <tr style=\"text-align: right;\">\n",
       "      <th></th>\n",
       "      <th>ChAff</th>\n",
       "      <th>Total TVA anuelle</th>\n",
       "      <th>featureChT</th>\n",
       "    </tr>\n",
       "  </thead>\n",
       "  <tbody>\n",
       "    <tr>\n",
       "      <th>count</th>\n",
       "      <td>1270.000</td>\n",
       "      <td>1270.000</td>\n",
       "      <td>1270.000</td>\n",
       "    </tr>\n",
       "    <tr>\n",
       "      <th>mean</th>\n",
       "      <td>-0.000</td>\n",
       "      <td>-0.000</td>\n",
       "      <td>0.000</td>\n",
       "    </tr>\n",
       "    <tr>\n",
       "      <th>std</th>\n",
       "      <td>1.000</td>\n",
       "      <td>1.000</td>\n",
       "      <td>1.000</td>\n",
       "    </tr>\n",
       "    <tr>\n",
       "      <th>min</th>\n",
       "      <td>-0.065</td>\n",
       "      <td>-0.218</td>\n",
       "      <td>-0.866</td>\n",
       "    </tr>\n",
       "    <tr>\n",
       "      <th>25%</th>\n",
       "      <td>-0.065</td>\n",
       "      <td>-0.217</td>\n",
       "      <td>-0.037</td>\n",
       "    </tr>\n",
       "    <tr>\n",
       "      <th>50%</th>\n",
       "      <td>-0.059</td>\n",
       "      <td>-0.183</td>\n",
       "      <td>-0.037</td>\n",
       "    </tr>\n",
       "    <tr>\n",
       "      <th>75%</th>\n",
       "      <td>-0.043</td>\n",
       "      <td>-0.072</td>\n",
       "      <td>-0.037</td>\n",
       "    </tr>\n",
       "    <tr>\n",
       "      <th>max</th>\n",
       "      <td>33.976</td>\n",
       "      <td>20.909</td>\n",
       "      <td>34.578</td>\n",
       "    </tr>\n",
       "  </tbody>\n",
       "</table>\n",
       "</div>"
      ],
      "text/plain": [
       "          ChAff  Total TVA anuelle  featureChT\n",
       "count  1270.000           1270.000    1270.000\n",
       "mean     -0.000             -0.000       0.000\n",
       "std       1.000              1.000       1.000\n",
       "min      -0.065             -0.218      -0.866\n",
       "25%      -0.065             -0.217      -0.037\n",
       "50%      -0.059             -0.183      -0.037\n",
       "75%      -0.043             -0.072      -0.037\n",
       "max      33.976             20.909      34.578"
      ]
     },
     "execution_count": 48,
     "metadata": {},
     "output_type": "execute_result"
    }
   ],
   "source": [
    "X1.describe().round(3)"
   ]
  },
  {
   "cell_type": "code",
   "execution_count": null,
   "id": "c97b30ea-ceea-4b5e-8809-189d4a55ba78",
   "metadata": {},
   "outputs": [],
   "source": [
    "\n",
    "def euclidien_distance(x1, x2):\n",
    "    np\n",
    "    \n",
    "\n",
    "\n",
    "class KNN:\n",
    "    def __init__(self, k=3)\n",
    "    self.k = k\n",
    "    \n",
    "    def fit(self, X, y):\n",
    "    self.X_train = X\n",
    "    self.y_train = y\n",
    "    \n",
    "    def predict(self, X):\n",
    "    prediction = [self._predict(x) for x in X]\n",
    "    return prediction\n",
    "    \n",
    "    def _predict(self, x):\n"
   ]
  }
 ],
 "metadata": {
  "kernelspec": {
   "display_name": "Python 3 (ipykernel)",
   "language": "python",
   "name": "python3"
  },
  "language_info": {
   "codemirror_mode": {
    "name": "ipython",
    "version": 3
   },
   "file_extension": ".py",
   "mimetype": "text/x-python",
   "name": "python",
   "nbconvert_exporter": "python",
   "pygments_lexer": "ipython3",
   "version": "3.11.7"
  }
 },
 "nbformat": 4,
 "nbformat_minor": 5
}

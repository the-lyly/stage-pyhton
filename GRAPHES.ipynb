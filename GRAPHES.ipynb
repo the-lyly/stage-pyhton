{
 "cells": [
  {
   "cell_type": "code",
   "execution_count": 1,
   "id": "9ed9e831-a13b-44d8-b7f9-d31a4439fdaf",
   "metadata": {},
   "outputs": [],
   "source": [
    "import seaborn as sns\n",
    "import pandas as pd\n",
    "import matplotlib.pyplot as plt\n"
   ]
  },
  {
   "cell_type": "code",
   "execution_count": 2,
   "id": "fd7abbd5-c162-45dc-ad6e-4c48d2c7965c",
   "metadata": {},
   "outputs": [],
   "source": [
    "TVA = pd.read_excel('VraiTVA.xlsx')\n",
    "ERA = pd.read_excel('VraiERA.xlsx')\n",
    "jointure = pd.merge(ERA, TVA, on='BP', how='inner')\n",
    "jointure.rename(columns={'Chiffre d’affaire (C.A)': 'ChAff'}, inplace=True)"
   ]
  },
  {
   "cell_type": "code",
   "execution_count": 3,
   "id": "740e1c5d-9c8f-40ce-be97-06283860ea73",
   "metadata": {},
   "outputs": [
    {
     "name": "stdout",
     "output_type": "stream",
     "text": [
      "           BP                  Wilaya Code CNRC Code ONS       ChAff  \\\n",
      "0  2000000147           DIW Alger est    607047        /           0   \n",
      "1  2000000200           DIW Alger est    608001        /    93115698   \n",
      "2  2000007178  DIW Bordj Bou Arréridj    110202        /   155423274   \n",
      "3  2000009570           DIW Alger est    405105        /  5798168362   \n",
      "4  2000011509           DIW Alger est    409001        /  2062602782   \n",
      "\n",
      "   Total TVA Janvier  Total TVA Février  Total TVA Mars  Total TVA Avril  \\\n",
      "0       4.381490e+09       4.710011e+09    5.358351e+09     4.811742e+09   \n",
      "1       6.441810e+05       1.478702e+06    2.304256e+06     1.226741e+06   \n",
      "2       4.872747e+06       4.275042e+06    3.918504e+06     6.082352e+06   \n",
      "3       4.232086e+08       3.965581e+08    4.111293e+08     6.288660e+08   \n",
      "4       1.607687e+08       2.937824e+08    3.321080e+08     1.234689e+08   \n",
      "\n",
      "   Total TVA Mai  Total TVA Juin  Total TVA Juillet  Total TVA Août  \\\n",
      "0   4.835182e+09    4.467203e+09       3.692317e+09    3.713033e+09   \n",
      "1   2.147761e+07    3.343922e+07       9.184847e+06    4.261077e+06   \n",
      "2   7.774514e+06    2.706730e+07       2.240796e+07    8.738202e+06   \n",
      "3   3.132802e+08    4.100639e+08       3.332674e+08    5.615210e+08   \n",
      "4   1.051586e+08    2.330517e+08       1.305186e+08    1.720886e+08   \n",
      "\n",
      "   Total TVA Septembre  Total TVA Octobre  Total TVA Novembre  \\\n",
      "0         5.274394e+09       6.056911e+09        4.706919e+09   \n",
      "1         3.033041e+06       4.966790e+06        5.425418e+06   \n",
      "2         5.113770e+06       5.666626e+06        2.643794e+07   \n",
      "3         7.133190e+08       4.950724e+08        5.964098e+08   \n",
      "4         1.598969e+08       1.437596e+08        7.488136e+07   \n",
      "\n",
      "   Total TVA Décembre  Total TVA anuelle    featureChT  \n",
      "0        5.852010e+09       5.785956e+10 -5.785956e+10  \n",
      "1        5.673810e+06       9.311570e+07  0.000000e+00  \n",
      "2        3.306832e+07       1.554233e+08  0.000000e+00  \n",
      "3        5.272515e+08       5.809947e+09 -1.177863e+07  \n",
      "4        1.328862e+08       2.062370e+09  2.331380e+05  \n"
     ]
    }
   ],
   "source": [
    "jointure['featureChT'] =  jointure['ChAff']  - jointure['Total TVA anuelle'] \n",
    "print(jointure.head())"
   ]
  },
  {
   "cell_type": "code",
   "execution_count": 6,
   "id": "a1d6764f-4d67-496b-bba3-d793cfd9955c",
   "metadata": {},
   "outputs": [],
   "source": [
    "def estime(row):\n",
    "    if row['ChAff'] == 0 or row['Total TVA anuelle'] ==0 :\n",
    "        return 'sus'\n",
    "    elif abs(row['featureChT']) > 1000:\n",
    "        return 'fraude'\n",
    "    else:\n",
    "        return 'bon'\n",
    "\n",
    "jointure['cible'] = jointure.apply(estime, axis=1)"
   ]
  },
  {
   "cell_type": "code",
   "execution_count": 9,
   "id": "fd338f99-6b96-4eae-8a66-8c7f8cf748c4",
   "metadata": {},
   "outputs": [
    {
     "name": "stdout",
     "output_type": "stream",
     "text": [
      "Index(['BP', 'Wilaya', 'Code CNRC', 'Code ONS', 'ChAff', 'Total TVA Janvier',\n",
      "       'Total TVA Février', 'Total TVA Mars', 'Total TVA Avril',\n",
      "       'Total TVA Mai', 'Total TVA Juin', 'Total TVA Juillet',\n",
      "       'Total TVA Août', 'Total TVA Septembre', 'Total TVA Octobre',\n",
      "       'Total TVA Novembre', 'Total TVA Décembre', 'Total TVA anuelle',\n",
      "       'featureChT', 'cible'],\n",
      "      dtype='object')\n"
     ]
    }
   ],
   "source": [
    "print(jointure.columns)\n",
    "jointure.to_excel('graphesdf.xlsx', index=False)"
   ]
  },
  {
   "cell_type": "code",
   "execution_count": null,
   "id": "396e6a95-c8bf-4948-8a8b-267c300f3281",
   "metadata": {},
   "outputs": [],
   "source": [
    "\n",
    "\n",
    "# Assurez-vous que votre DataFrame s'appelle 'jointure' et qu'il a été chargé correctement avec vos données\n",
    "# Les colonnes doivent correspondre à celles du DataFrame que vous avez montré précédemment\n",
    "\n",
    "# Créer un DataFrame agrégé pour calculer la somme de la TVA pour chaque mois et chaque BP\n",
    "tva_mois_cols = ['Total TVA Janvier', 'Total TVA Février', 'Total TVA Mars', 'Total TVA Avril',\n",
    "                 'Total TVA Mai', 'Total TVA Juin', 'Total TVA Juillet', 'Total TVA Août', \n",
    "                 'Total TVA Septembre', 'Total TVA Octobre', 'Total TVA Novembre', 'Total TVA Décembre']\n",
    "jointure_melted = pd.melt(jointure, id_vars=['BP'], value_vars=tva_mois_cols, var_name='Mois', value_name='Total TVA')\n",
    "\n",
    "# Trier les valeurs pour chaque BP par le total de la TVA dans un ordre décroissant\n",
    "jointure_melted_sorted = jointure_melted.sort_values(['BP', 'Total TVA'], ascending=[True, False])\n",
    "\n",
    "# Création d'un graphique à barres pour représenter le chiffre d'affaires par BP pour chaque mois\n",
    "plt.figure(figsize=(15, 10))\n",
    "sns.barplot(data=jointure_melted_sorted, x='BP', y='Total TVA', hue='Mois', dodge=False)\n",
    "plt.title('Total TVA par Mois pour chaque BP')\n",
    "plt.xlabel('BP')\n",
    "plt.ylabel('Total TVA')\n",
    "plt.xticks(rotation=90)\n",
    "plt.legend(title='Mois', bbox_to_anchor=(1.05, 1), loc='upper left')\n",
    "plt.tight_layout()\n",
    "plt.show()\n"
   ]
  },
  {
   "cell_type": "code",
   "execution_count": null,
   "id": "38148348-1e1c-488d-b7bf-6ceb15c22883",
   "metadata": {},
   "outputs": [],
   "source": [
    "# Créer un DataFrame agrégé pour calculer la somme de la TVA pour chaque mois\n",
    "monthly_tva_sums = jointure[tva_mois_cols].sum().sort_values(ascending=False)\n",
    "\n",
    "# Création d'un graphique à barres pour représenter la somme de la TVA pour chaque mois\n",
    "plt.figure(figsize=(15, 8))\n",
    "sns.barplot(x=monthly_tva_sums.index, y=monthly_tva_sums.values, palette='viridis')\n",
    "plt.title('Somme de la TVA par Mois pour tous les BP')\n",
    "plt.xlabel('Mois')\n",
    "plt.ylabel('Somme de la TVA')\n",
    "plt.xticks(rotation=45)\n",
    "plt.show()"
   ]
  },
  {
   "cell_type": "code",
   "execution_count": null,
   "id": "3a83c256-2eae-4b85-b340-c0b4f5405209",
   "metadata": {},
   "outputs": [],
   "source": [
    "\n",
    "\n",
    "# Calculer la somme de la TVA pour chaque Code CNRC pour tous les mois\n",
    "jointure['Total TVA'] = jointure[tva_mois_cols].sum(axis=1)\n",
    "total_tva_par_cnrc = jointure.groupby('Code CNRC')['Total TVA'].sum().sort_values(ascending=False)\n",
    "\n",
    "# Identifier les entrées où le Code CNRC n'est pas présent / est NaN\n",
    "total_tva_sans_cnrc = total_tva_par_cnrc[total_tva_par_cnrc.index.isin(['/'])]\n",
    "\n",
    "# Exclure les valeurs sans Code CNRC pour le graphique\n",
    "total_tva_avec_cnrc = total_tva_par_cnrc[~total_tva_par_cnrc.index.isin(['/'])]\n",
    "\n",
    "# Création d'un graphique à barres pour représenter la somme de la TVA par Code CNRC\n",
    "plt.figure(figsize=(15, 10))\n",
    "sns.barplot(x=total_tva_avec_cnrc.index, y=total_tva_avec_cnrc.values, palette='coolwarm', order=total_tva_avec_cnrc.index)\n",
    "plt.title('Somme de la TVA par Code CNRC')\n",
    "plt.xlabel('Code CNRC')\n",
    "plt.ylabel('Somme de la TVA')\n",
    "plt.xticks(rotation=90)  # Peut-être inutile si beaucoup de codes CNRC\n",
    "plt.show()\n",
    "\n",
    "# Si nécessaire, ajouter une annotation pour les entrées sans Code CNRC\n",
    "if not total_tva_sans_cnrc.empty:\n",
    "    plt.annotate('Total TVA sans Code CNRC: {:.2f}'.format(total_tva_sans_cnrc.values[0]),\n",
    "                 xy=(0.5, -0.05), xycoords='axes fraction', ha='center',\n",
    "                 fontsize=12, bbox=dict(boxstyle=\"round,pad=0.3\", edgecolor='#b3b3b3', facecolor='#e0e0e0'))\n"
   ]
  },
  {
   "cell_type": "code",
   "execution_count": null,
   "id": "3c056b50-05b1-491b-a00a-f85e57f4d119",
   "metadata": {},
   "outputs": [],
   "source": []
  },
  {
   "cell_type": "code",
   "execution_count": null,
   "id": "778d08ae-5f79-4c14-a3bf-a4e206fe8923",
   "metadata": {},
   "outputs": [],
   "source": []
  },
  {
   "cell_type": "code",
   "execution_count": null,
   "id": "00f9ac5b-7c51-482e-96d9-c69406e79e13",
   "metadata": {},
   "outputs": [],
   "source": []
  },
  {
   "cell_type": "markdown",
   "id": "4e58c1e1-98d9-4599-9e10-fd4baad21e33",
   "metadata": {},
   "source": [
    "# AVEC LES TVA MENSUELLES EN MOINS"
   ]
  },
  {
   "cell_type": "code",
   "execution_count": null,
   "id": "45070fd9-912b-490e-8489-30930d02a831",
   "metadata": {},
   "outputs": [],
   "source": [
    "jointure = jointure.drop(columns = ['Total TVA Janvier',\n",
    "      'Total TVA Février', 'Total TVA Mars', 'Total TVA Avril',\n",
    "      'Total TVA Mai', 'Total TVA Juin', 'Total TVA Juillet',\n",
    "      'Total TVA Août', 'Total TVA Septembre', 'Total TVA Octobre',\n",
    "     'Total TVA Novembre', 'Total TVA Décembre',])"
   ]
  },
  {
   "cell_type": "code",
   "execution_count": null,
   "id": "74b7a0d8-8c1f-45c4-bb08-9245cff3bdae",
   "metadata": {},
   "outputs": [],
   "source": [
    "# Graphique 1: Nombre de fraudes par Code CNRC\n",
    "fraude_count_cnrc = jointure[jointure['Fraude'] == 'fraude']['Code CNRC'].value_counts()\n",
    "plt.figure(figsize=(10, 6))\n",
    "sns.barplot(x=fraude_count_cnrc.index, y=fraude_count_cnrc.values, palette='viridis')\n",
    "plt.title('Nombre de Fraudes par Code CNRC')\n",
    "plt.xlabel('Code CNRC')\n",
    "plt.ylabel('Nombre de Fraudes')\n",
    "plt.xticks(rotation=45)\n",
    "plt.show()"
   ]
  },
  {
   "cell_type": "code",
   "execution_count": null,
   "id": "63614492-cb0c-4cc3-a1d2-d8a22738f133",
   "metadata": {},
   "outputs": [],
   "source": [
    "# Calcul du taux de répartition par Wilaya pour toutes les entrées (pas seulement les fraudes)\n",
    "repartition_wilaya = jointure['Wilaya'].value_counts(normalize=True) * 100  # Converti en pourcentage\n",
    "\n",
    "# Création d'un graphique à barres pour la répartition par Wilaya\n",
    "plt.figure(figsize=(12, 8))\n",
    "sns.barplot(x=repartition_wilaya.index, y=repartition_wilaya.values, palette='coolwarm')\n",
    "plt.title('Taux de Répartition par Wilaya')\n",
    "plt.xlabel('Wilaya')\n",
    "plt.ylabel('Taux de Répartition (%)')\n",
    "plt.xticks(rotation=45)\n",
    "plt.show()"
   ]
  },
  {
   "cell_type": "code",
   "execution_count": null,
   "id": "1fcc55f4-5130-4213-ace5-75025ed52a23",
   "metadata": {},
   "outputs": [],
   "source": [
    "fraude_count_wilaya = jointure[jointure['Fraude'] == 'fraude']['Wilaya'].value_counts()\n",
    "plt.figure(figsize=(10, 6))\n",
    "sns.barplot(x=fraude_count_wilaya.index, y=fraude_count_wilaya.values, palette='magma')\n",
    "plt.title('Nombre de Fraudes par Wilaya')\n",
    "plt.xlabel('Wilaya')\n",
    "plt.ylabel('Nombre de Fraudes')\n",
    "plt.xticks(rotation=45)\n",
    "plt.show()"
   ]
  },
  {
   "cell_type": "code",
   "execution_count": null,
   "id": "82ab1c50-75f0-4454-9971-a658cb005701",
   "metadata": {},
   "outputs": [],
   "source": [
    "# Graphique 3: Répartition des statuts (fraude, sus, bon)\n",
    "status_counts = jointure['Fraude'].value_counts()\n",
    "plt.figure(figsize=(8, 8))\n",
    "plt.pie(status_counts, labels=status_counts.index, autopct='%1.1f%%', startangle=140, colors=['#ff9999','#66b3ff','#99ff99'])\n",
    "plt.title('Répartition des Statuts')\n",
    "plt.show()\n"
   ]
  },
  {
   "cell_type": "code",
   "execution_count": null,
   "id": "ec01f141-4582-417c-bdc8-8061c4a21833",
   "metadata": {},
   "outputs": [],
   "source": [
    "#Chiffre d'affaire par code CNRC :\n",
    "plt.figure(figsize=(15, 10))\n",
    "sns.barplot(data=jointure, x='Code CNRC', y='ChAff')\n",
    "plt.title('Chiffre d\\'affaire par Code CNRC')\n",
    "plt.xlabel('Code CNRC')\n",
    "plt.ylabel('Chiffre d\\'affaire')\n",
    "plt.xticks(rotation=90)  # Rotation des étiquettes pour une meilleure lisibilité\n",
    "plt.show()\n"
   ]
  },
  {
   "cell_type": "code",
   "execution_count": null,
   "id": "16be2559-586d-4c0b-a5fa-bf0801978b35",
   "metadata": {},
   "outputs": [],
   "source": [
    "#Chiffre d'affaire par code CNRC et Wilaya :\n",
    "# Création d'un pivot table pour le graphique à barres empilées\n",
    "pivot_table = jointure.pivot_table(values='ChAff', index='Code CNRC', columns='Wilaya', fill_value=0)\n",
    "\n",
    "pivot_table.plot(kind='bar', stacked=True, figsize=(15, 10))\n",
    "plt.title('Chiffre d\\'affaire par Code CNRC et Wilaya')\n",
    "plt.xlabel('Code CNRC')\n",
    "plt.ylabel('Chiffre d\\'affaire')\n",
    "plt.xticks(rotation=90)  # Rotation des étiquettes pour une meilleure lisibilité\n",
    "plt.show()\n"
   ]
  },
  {
   "cell_type": "code",
   "execution_count": null,
   "id": "e3a6c490-45ae-4d60-b746-1b8a73c003e4",
   "metadata": {},
   "outputs": [],
   "source": [
    "plt.figure(figsize=(15, 10))\n",
    "sns.heatmap(pivot_table, annot=False, cmap='viridis')  # `annot=True` pour afficher les valeurs\n",
    "plt.title('Heatmap du Chiffre d\\'affaire par Code CNRC et Wilaya')\n",
    "plt.xlabel('Wilaya')\n",
    "plt.ylabel('Code CNRC')\n",
    "plt.show()\n"
   ]
  },
  {
   "cell_type": "code",
   "execution_count": null,
   "id": "1a29ea4f-920c-4c95-a00d-ade0c3490fca",
   "metadata": {
    "scrolled": true
   },
   "outputs": [],
   "source": [
    "#Classification du chiffre d'affaire par rapport au code CNRC \n",
    "\n",
    "plt.figure(figsize=(15, 10))\n",
    "sns.scatterplot(data=jointure, x='Code CNRC', y='ChAff', hue='Wilaya')\n",
    "plt.title('Classification du Chiffre d\\'affaire par Code CNRC')\n",
    "plt.xlabel('Code CNRC')\n",
    "plt.ylabel('Chiffre d\\'affaire')\n",
    "plt.xticks(rotation=90)  # Rotation des étiquettes pour une meilleure lisibilité\n",
    "plt.legend(title='Wilaya', loc='upper right')\n",
    "plt.show()\n"
   ]
  },
  {
   "cell_type": "code",
   "execution_count": null,
   "id": "723da07a-8ec1-4dfa-8341-0e203288bff6",
   "metadata": {},
   "outputs": [],
   "source": []
  },
  {
   "cell_type": "code",
   "execution_count": null,
   "id": "fbfdb765-6a3e-4c39-acde-904ebcad3b24",
   "metadata": {},
   "outputs": [],
   "source": [
    "number_of_frauds = (jointure['Fraude'] == 'fraude').sum()\n",
    "print(number_of_frauds)"
   ]
  },
  {
   "cell_type": "code",
   "execution_count": null,
   "id": "f1d0a3e6-ab62-4366-abbb-4f191eaef146",
   "metadata": {},
   "outputs": [],
   "source": [
    "fraud_rows = jointure[jointure['Fraude'] == 'fraude']\n",
    "print(fraud_rows)\n"
   ]
  },
  {
   "cell_type": "code",
   "execution_count": null,
   "id": "80e17718-1a7b-45f1-9764-7bcc79737177",
   "metadata": {},
   "outputs": [],
   "source": [
    "#def normalize(column):\n",
    " #   min_value = min(column)\n",
    "  #  max_value = max(column)\n",
    "   # return (column - min_value) / (max_value - min_value)\n"
   ]
  },
  {
   "cell_type": "code",
   "execution_count": null,
   "id": "531c8a85-e618-4f26-bec3-449e9969f412",
   "metadata": {},
   "outputs": [],
   "source": [
    "#def standardize(column):\n",
    " #   mean_value = column.mean()\n",
    "  #  std_dev = column.std()\n",
    "   # return (column - mean_value) / std_dev\n"
   ]
  },
  {
   "cell_type": "code",
   "execution_count": null,
   "id": "242ca13b-1935-4db8-8661-54dabd6483c3",
   "metadata": {},
   "outputs": [],
   "source": [
    "# Supposons que 'ChAff', 'Total TVA annuelle', et 'featureChT' sont les colonnes à normaliser/standardiser\n",
    "#jointure['ChAff_normalized'] = normalize(jointure['ChAff'])\n",
    "#jointure['Total_TVA_annuelle_normalized'] = normalize(jointure['Total TVA anuelle'])\n",
    "#jointure['featureChT_standardized'] = standardize(jointure['featureChT'])\n"
   ]
  },
  {
   "cell_type": "code",
   "execution_count": null,
   "id": "4dada9da-7b0b-41ea-bfdb-066e265f7d98",
   "metadata": {},
   "outputs": [],
   "source": [
    "jointure.info()"
   ]
  },
  {
   "cell_type": "code",
   "execution_count": null,
   "id": "7ae5abfc-9d03-4ad2-a350-aff9a0c4df96",
   "metadata": {},
   "outputs": [],
   "source": [
    "jointure.describe()"
   ]
  },
  {
   "cell_type": "code",
   "execution_count": null,
   "id": "3aae6bd5-1599-4830-8a80-be527f3a08d3",
   "metadata": {},
   "outputs": [],
   "source": [
    "X1 = jointure.iloc[:,0:3]"
   ]
  },
  {
   "cell_type": "code",
   "execution_count": null,
   "id": "bbfd2d8f-7775-4a0f-9dee-a2d7b4ea0b37",
   "metadata": {},
   "outputs": [],
   "source": [
    "X2 = jointure.iloc[:,0:3]"
   ]
  },
  {
   "cell_type": "code",
   "execution_count": null,
   "id": "00ce5302-f7ed-4d05-9d67-3c7126b9db0c",
   "metadata": {},
   "outputs": [],
   "source": [
    "from sklearn.preprocessing import StandardScaler"
   ]
  },
  {
   "cell_type": "code",
   "execution_count": null,
   "id": "9fe888c4-3096-4284-93cd-0488baf39353",
   "metadata": {},
   "outputs": [],
   "source": [
    "scaleStandard = StandardScaler()"
   ]
  },
  {
   "cell_type": "code",
   "execution_count": null,
   "id": "726d01fe-bff1-4acd-b396-2c141bb31c6b",
   "metadata": {},
   "outputs": [],
   "source": [
    "X1 = scaleStandard.fit_transform(X1)"
   ]
  },
  {
   "cell_type": "code",
   "execution_count": null,
   "id": "f67066ce-12cc-496d-bbc5-f0eb3f91de17",
   "metadata": {},
   "outputs": [],
   "source": [
    "X1 = pd.DataFrame(X1,columns = ['ChAff', 'Total TVA anuelle', 'featureChT'] )"
   ]
  },
  {
   "cell_type": "code",
   "execution_count": null,
   "id": "8bb75636-4582-42c1-b135-d58d816510fb",
   "metadata": {},
   "outputs": [],
   "source": [
    "X1"
   ]
  },
  {
   "cell_type": "code",
   "execution_count": null,
   "id": "936dd1ad-e4a0-44a4-8a62-02038ad1f27d",
   "metadata": {},
   "outputs": [],
   "source": [
    "X1.describe().round(3)"
   ]
  },
  {
   "cell_type": "code",
   "execution_count": null,
   "id": "3e0c8dd8-1aae-4d21-9663-cf5515e8bd7f",
   "metadata": {},
   "outputs": [],
   "source": [
    "from sklearn.preprocessing import MinMaxScaler"
   ]
  },
  {
   "cell_type": "code",
   "execution_count": null,
   "id": "d57be17c-6625-4503-9f64-d72e5a3e4f95",
   "metadata": {},
   "outputs": [],
   "source": [
    "scaleMinMax = MinMaxScaler(feature_range=(0,1))"
   ]
  },
  {
   "cell_type": "code",
   "execution_count": null,
   "id": "50e78557-7973-4dbe-b2d1-14c32c92194f",
   "metadata": {},
   "outputs": [],
   "source": [
    "X2 = scaleMinMax.fit_transform(X2)"
   ]
  },
  {
   "cell_type": "code",
   "execution_count": null,
   "id": "50df06b5-c509-411a-ac7d-d6952eef225b",
   "metadata": {},
   "outputs": [],
   "source": [
    "X2 = pd.DataFrame(X2,columns = ['ChAff', 'Total TVA anuelle', 'featureChT'])"
   ]
  },
  {
   "cell_type": "code",
   "execution_count": null,
   "id": "e69d92b3-76f6-438d-ac32-4f6814e17d0e",
   "metadata": {},
   "outputs": [],
   "source": [
    "X2.head()"
   ]
  },
  {
   "cell_type": "code",
   "execution_count": null,
   "id": "e535617d-8281-476e-803d-4d5d0cbfcce3",
   "metadata": {},
   "outputs": [],
   "source": [
    "X2.describe().round(3)"
   ]
  },
  {
   "cell_type": "code",
   "execution_count": null,
   "id": "c75af480-f1ac-4dac-afef-1b668d8b6b85",
   "metadata": {},
   "outputs": [],
   "source": [
    "X1.describe().round(3)"
   ]
  },
  {
   "cell_type": "markdown",
   "id": "da77d24a-5fea-49cf-a843-ad7305b8bb44",
   "metadata": {},
   "source": [
    "\n",
    "def euclidien_distance(x1, x2):\n",
    "    np\n",
    "    \n",
    "\n",
    "\n",
    "class KNN:\n",
    "    def __init__(self, k=3)\n",
    "    self.k = k\n",
    "    \n",
    "    def fit(self, X, y):\n",
    "    self.X_train = X\n",
    "    self.y_train = y\n",
    "    \n",
    "    def predict(self, X):\n",
    "    prediction = [self._predict(x) for x in X]\n",
    "    return prediction\n",
    "    \n",
    "    def _predict(self, x):\n"
   ]
  }
 ],
 "metadata": {
  "kernelspec": {
   "display_name": "Python 3 (ipykernel)",
   "language": "python",
   "name": "python3"
  },
  "language_info": {
   "codemirror_mode": {
    "name": "ipython",
    "version": 3
   },
   "file_extension": ".py",
   "mimetype": "text/x-python",
   "name": "python",
   "nbconvert_exporter": "python",
   "pygments_lexer": "ipython3",
   "version": "3.11.7"
  }
 },
 "nbformat": 4,
 "nbformat_minor": 5
}
